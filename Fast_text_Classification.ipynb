{
 "cells": [
  {
   "cell_type": "code",
   "execution_count": 2,
   "metadata": {
    "colab": {
     "base_uri": "https://localhost:8080/",
     "height": 782
    },
    "colab_type": "code",
    "id": "xSbk6ALlD37z",
    "outputId": "37ac0fb1-aa6e-4b69-8eca-568976a7a5e9"
   },
   "outputs": [
    {
     "name": "stdout",
     "output_type": "stream",
     "text": [
      "============= cố_gắng ===========\n",
      "(0.8158331513404846, 'cố_gắng_gượng')\n",
      "(0.7206988334655762, 'nỗ_lực')\n",
      "(0.687046229839325, 'gắng')\n",
      "(0.6855678558349609, 'quyết_tâm')\n",
      "(0.6810990571975708, 'chúng_tôi')\n",
      "(0.6745805144309998, 'sự_cố_gắng')\n",
      "(0.6724857091903687, 'siêng_năng')\n",
      "(0.6685042381286621, 'hết_mình')\n",
      "(0.6647743582725525, 'ngừng_nghỉ')\n",
      "(0.654014527797699, 'tự_nhủ')\n",
      "============= hỗ_trợ ===========\n",
      "(0.839778482913971, 'hỗ_trợ_giúp')\n",
      "(0.7801660299301147, 'hỗ_trợ_từ')\n",
      "(0.7079092264175415, 'trợ_giúp')\n",
      "(0.7003790140151978, 'hỗ_trợ_cấp')\n",
      "(0.6696867942810059, 'tài_trợ')\n",
      "(0.6694825291633606, 'aw3d')\n",
      "(0.6641325354576111, 'hỗ_trợ_giá')\n",
      "(0.6273260712623596, 'tư_vấn_đề_xuất')\n",
      "(0.6168469190597534, 'kết_hợp_đồng_thời')\n",
      "(0.6152690052986145, 'miễn_giảm')\n",
      "============= cần_sa ===========\n",
      "(0.7437477111816406, 'cocaine')\n",
      "(0.73469477891922, 'thuốc_phiện')\n",
      "(0.7341757416725159, 'amphetamine')\n",
      "(0.725642740726471, 'methamphetamine')\n",
      "(0.7203742265701294, 'shisha')\n",
      "(0.7074910402297974, 'amphetamin')\n",
      "(0.6878666877746582, 'ketamine')\n",
      "(0.6703504323959351, 'heroine')\n",
      "(0.6618446111679077, 'nicotine')\n",
      "(0.6617719531059265, 'scopolamine')\n",
      "============= bún_bò ===========\n",
      "(0.8532211184501648, 'bún')\n",
      "(0.8015753030776978, 'bún_chả')\n",
      "(0.7970196604728699, 'bánh_bèo_quơ')\n",
      "(0.7944838404655457, 'bánh_canh')\n",
      "(0.7908022403717041, 'bún_tàu')\n",
      "(0.7897293567657471, 'riêu')\n",
      "(0.788034975528717, 'hủ_tiếu')\n",
      "(0.7808172106742859, 'bánh_ăn')\n",
      "(0.7687512636184692, 'bánh_bò')\n",
      "(0.767358124256134, 'tíu')\n"
     ]
    }
   ],
   "source": [
    "import fasttext\n",
    "\n",
    "def handle_file_data():\n",
    "    from pyvi.ViTokenizer import tokenize\n",
    "    with open('data.txt','r') as f:\n",
    "        lines = f.readlines()\n",
    "        new_data = \"\"\n",
    "        for line in lines:\n",
    "            new_data += tokenize(line) + \"\\n\"\n",
    "\n",
    "        with open('data_handle.txt','w') as fout:\n",
    "            fout.write(new_data)\n",
    "\n",
    "def test():\n",
    "    model = fasttext.load_model(\"C:/Jupyter_workplace/NLP_2020_Grad/Word_embedings/FastText/model_full__skipgram.bin\")\n",
    "\n",
    "    print(\"============= cố_gắng ===========\")\n",
    "    for item in model.get_nearest_neighbors('cố_gắng'):\n",
    "      print(item)\n",
    "    print(\"============= hỗ_trợ ===========\")\n",
    "    for item in model.get_nearest_neighbors('hỗ_trợ'):\n",
    "      print(item)\n",
    "    print(\"============= cần_sa ===========\")\n",
    "    for item in model.get_nearest_neighbors('cần_sa'):\n",
    "      print(item)\n",
    "    print(\"============= bún_bò ===========\")\n",
    "    for item in model.get_nearest_neighbors('bún_bò'):\n",
    "      print(item)\n",
    "if __name__ == '__main__':\n",
    "    # train()\n",
    "    test()"
   ]
  },
  {
   "cell_type": "code",
   "execution_count": 3,
   "metadata": {
    "colab": {
     "base_uri": "https://localhost:8080/",
     "height": 34
    },
    "colab_type": "code",
    "id": "pT-9qRxuD3zh",
    "outputId": "0423065e-e170-46b2-a321-cf7c6017d45b"
   },
   "outputs": [],
   "source": [
    "import fasttext as ft\n",
    "model = ft.load_model(\"C:/Jupyter_workplace/NLP_2020_Grad/Word_embedings/FastText/model_full__skipgram.bin\")"
   ]
  },
  {
   "cell_type": "code",
   "execution_count": 6,
   "metadata": {
    "colab": {
     "base_uri": "https://localhost:8080/",
     "height": 390
    },
    "colab_type": "code",
    "id": "sD04Zw_pUCvL",
    "outputId": "77ea6eb4-3add-4da9-e42c-10392de45a91"
   },
   "outputs": [
    {
     "name": "stdout",
     "output_type": "stream",
     "text": [
      "[ 0.20687482  0.15362109  0.28328818 -0.11661215  0.11024419  0.00633163\n",
      " -0.8769941  -0.44862962  0.59593254 -0.23618959 -0.4756729   0.09514725\n",
      " -0.34608886  0.09940916  0.24918385 -0.16010012  0.42803934 -0.29911172\n",
      " -0.52729714  0.13884082 -0.70628697  0.2756171  -0.1129265  -0.06102648\n",
      " -0.1445536   0.20399527 -0.26562107 -0.49621382 -0.4111376   0.15295357\n",
      " -0.1567545  -0.41523537  0.10244443  0.03462357 -0.468621    0.44608867\n",
      "  0.15307128 -0.50020015  0.06006098 -0.23655164  0.12896156 -0.12897061\n",
      "  0.3177377  -0.62972254 -0.15598929  0.8730615  -0.27348542  0.35710907\n",
      " -0.11673039  0.01276447 -0.61984926  0.54815006  0.17981397  0.63185376\n",
      "  0.31745592  0.23581447 -0.10440147 -0.7185796   0.65676475 -0.15374039\n",
      "  0.08078125 -0.21398379  0.26071846  0.3218749  -0.00741809  0.15584263\n",
      "  0.40090546  0.07396564  0.47540188  0.2976235  -0.28244123 -0.33211368\n",
      " -0.29178837 -0.15566035 -0.20936935 -0.43197334 -0.2527047  -0.30560628\n",
      " -0.05253061  0.03206588  0.00350583 -0.04549419  0.42694277 -0.36605683\n",
      "  0.47842076  0.0267343   0.07310949 -0.18745059 -0.04535754  0.15925224\n",
      "  0.08240952 -0.5002345   0.2817156   0.19529945  0.12136419 -0.08131791\n",
      "  0.31752852  0.579152    0.09078769  0.13254179]\n"
     ]
    }
   ],
   "source": [
    "print(model.get_word_vector('thực_hành'))"
   ]
  },
  {
   "cell_type": "code",
   "execution_count": 10,
   "metadata": {
    "colab": {
     "base_uri": "https://localhost:8080/",
     "height": 212
    },
    "colab_type": "code",
    "id": "NEA6rS8XkqgY",
    "outputId": "161cfaa2-babc-4528-abfa-c9215ba1727b"
   },
   "outputs": [
    {
     "name": "stdout",
     "output_type": "stream",
     "text": [
      "3\n",
      "<th, thự, hực, ực_, c_h, _hà, hàn, ành, nh>, 4\n",
      "<thự, thực, hực_, ực_h, c_hà, _hàn, hành, ành>, 5\n",
      "<thực, thực_, hực_h, ực_hà, c_hàn, _hành, hành>, 6\n",
      "<thực_, thực_h, hực_hà, ực_hàn, c_hành, _hành>, "
     ]
    }
   ],
   "source": [
    "for i in range(3,7):\n",
    "    print(i)\n",
    "    for item in model.get_subwords('thực_hành')[0]:  \n",
    "        if len(item) == i:\n",
    "            print(item, end=', ')"
   ]
  },
  {
   "cell_type": "code",
   "execution_count": 11,
   "metadata": {
    "colab": {
     "base_uri": "https://localhost:8080/",
     "height": 390
    },
    "colab_type": "code",
    "id": "bhvowM6PlA0p",
    "outputId": "0a2f0914-891b-41c1-d8ae-806d7d9321af"
   },
   "outputs": [],
   "source": [
    "import numpy as np \n",
    "vector = model.get_subwords('thực hành')[1]\n",
    "s = []\n",
    "for v in vector:\n",
    "  s.append(model.get_input_vector(v))\n",
    "\n",
    "su = np.mean(s,axis=0)"
   ]
  },
  {
   "cell_type": "code",
   "execution_count": 20,
   "metadata": {
    "colab": {
     "base_uri": "https://localhost:8080/",
     "height": 530
    },
    "colab_type": "code",
    "id": "rQnREqeSlBbo",
    "outputId": "f8a2a85e-6089-47fc-ff5a-fb36c9c5cb74"
   },
   "outputs": [],
   "source": [
    "import glob \n",
    "import json\n",
    "import random\n",
    "# import thư viện\n",
    "\n",
    "import json\n",
    "import random\n",
    "import os\n",
    "import glob\n",
    "from random import randint \n",
    "from gensim import corpora, matutils\n",
    "import pickle as cPickle   \n",
    "from pyvi import ViTokenizer \n",
    "from tqdm import trange, tqdm_notebook\n",
    "import numpy as np\n",
    "from sklearn.preprocessing import MultiLabelBinarizer,LabelEncoder\n",
    "\n",
    "# tạo class đọc file \n",
    "class FileReader(object):\n",
    "    def __init__(self, file_path, encoder = None):\n",
    "        self.file_path = file_path\n",
    "        self.encoder = encoder if encoder != None else 'utf-16le'\n",
    "\n",
    "    def read(self):\n",
    "        with open(self.file_path,'rb') as f:\n",
    "            s = f.read() \n",
    "        return s\n",
    "\n",
    "    def content(self):\n",
    "        s = self.read() \n",
    "        return s.decode(self.encoder)\n",
    "\n",
    "    def read_json(self):\n",
    "        with open(self.file_path) as f:\n",
    "            s = json.load(f)\n",
    "        return s\n",
    "        \n",
    "    def read_stopwords(self):\n",
    "        with open(self.file_path, 'r') as f:\n",
    "            stopwords = set([w.strip().replace(' ', '_') for w in f.readlines()])\n",
    "        return stopwords\n",
    "\n",
    "    def load_dictionary(self):\n",
    "        return corpora.Dictionary.load_from_text(self.file_path)\n"
   ]
  },
  {
   "cell_type": "code",
   "execution_count": 21,
   "metadata": {
    "colab": {},
    "colab_type": "code",
    "id": "C-n61Svm4C7w"
   },
   "outputs": [],
   "source": [
    "\n",
    "class FileStore(object):\n",
    "    def __init__(self, file_path, data = None):\n",
    "        self.file_path = file_path\n",
    "        self.data = data\n",
    "\n",
    "    def store_json(self):\n",
    "        print(\"Save: \",self.file_path)\n",
    "        with open(self.file_path, 'w') as outfile:\n",
    "            json.dump(self.data, outfile)\n",
    "\n",
    "    # store dictionary: https://radimrehurek.com/gensim/corpora/dictionary.html#gensim.corpora.dictionary.Dictionary.filter_extremes\n",
    "    # dict_word là mãng chữa các đoạn text đã được segmentation [[cá, con, ăn],[con, mèo],[con, chó, chạy, qua]]\n",
    "    # len của dictionary sẽ là 7 \n",
    "    # no_above là tần suất xuất hiện trên số phần trăm ví dụ: no_above = 0.5 là tần suất xuất hiện không được trên (phải dưới) của tổng số tài liệu 50%\n",
    "    # no_below là số lần xuất hiện không được dưới ... ví dụ no_below = 2 là số lần xuất hiện trong từng tài liệu không được dưới 2\n",
    "    def store_dictionary(self, dict_words):\n",
    "        dictionary = corpora.Dictionary(dict_words)\n",
    "        dictionary.filter_extremes(no_below=170, no_above=0.3) \n",
    "        dictionary.save_as_text(self.file_path)\n",
    " \n",
    "\n",
    "    def save_pickle(self,  obj):\n",
    "        outfile = open(self.file_path, 'wb')\n",
    "        fastPickler = cPickle.Pickler(outfile, 4)\n",
    "        fastPickler.fast = 1\n",
    "        fastPickler.dump(obj)\n",
    "        outfile.close()"
   ]
  },
  {
   "cell_type": "code",
   "execution_count": 22,
   "metadata": {
    "colab": {},
    "colab_type": "code",
    "id": "TPnSjYwyDelh"
   },
   "outputs": [],
   "source": [
    "DATA_TRAIN_PATH = '/content/drive/My Drive/NLP/dataset/Train_Full' \n",
    "DATA_TRAIN_JSON = '/content/drive/My Drive/NLP/nlp_me/json/train.json'\n",
    "\n",
    "STOP_WORDS = '/content/drive/My Drive/NLP/nlp_me/stopwords-nlp-vi.txt'\n",
    "SPECIAL_CHARACTER = '0123456789%@$.,=+-!;/()*\"&^:#|\\n\\t\\''\n",
    "DICTIONARY_PATH = '/content/drive/My Drive/NLP/nlp_me/dictionary.txt'"
   ]
  },
  {
   "cell_type": "code",
   "execution_count": 23,
   "metadata": {
    "colab": {
     "base_uri": "https://localhost:8080/",
     "height": 34
    },
    "colab_type": "code",
    "id": "Wmy9FkiREyjj",
    "outputId": "35f8c361-8461-490e-b017-d13f7edae212"
   },
   "outputs": [
    {
     "name": "stdout",
     "output_type": "stream",
     "text": [
      "Total data train: 105800\n"
     ]
    }
   ],
   "source": [
    "# đọc file train\n",
    "train_loader = FileReader(file_path=DATA_TRAIN_JSON) \n",
    "data_train_raw = train_loader.read_json()\n",
    "print('Total data train: %d' %len(data_train_raw))\n",
    "random.shuffle(data_train_raw)"
   ]
  },
  {
   "cell_type": "code",
   "execution_count": 24,
   "metadata": {
    "colab": {},
    "colab_type": "code",
    "id": "8tt9Ly6AE6T8"
   },
   "outputs": [],
   "source": [
    "dic = dict() \n",
    "dic_count = dict()\n",
    "NUM_RANDOM = random.randint(2000,2500) \n",
    "for item in data_train_raw:\n",
    "  if item['category'] not in dic.keys():\n",
    "    dic[item['category']] = NUM_RANDOM\n",
    "    dic_count[item['category']] = 0\n",
    "  if len(dic.keys()) > 10:\n",
    "    break"
   ]
  },
  {
   "cell_type": "code",
   "execution_count": null,
   "metadata": {
    "colab": {},
    "colab_type": "code",
    "id": "jlSkgf6_iCCL"
   },
   "outputs": [],
   "source": []
  },
  {
   "cell_type": "code",
   "execution_count": 25,
   "metadata": {
    "colab": {},
    "colab_type": "code",
    "id": "ZrEtfVb_FvIt"
   },
   "outputs": [],
   "source": [
    "data_train = []\n",
    "data_validate = []\n",
    "for item in data_train_raw:  \n",
    "  try:\n",
    "    if dic[item['category']] > dic_count[item['category']]:\n",
    "      data_train.append(item)\n",
    "      dic_count[item['category']]+=1\n",
    "    if dic[item['category']] < dic_count[item['category']]:\n",
    "      data_validate.append(item) \n",
    "  except:\n",
    "    continue"
   ]
  },
  {
   "cell_type": "code",
   "execution_count": 26,
   "metadata": {
    "colab": {
     "base_uri": "https://localhost:8080/",
     "height": 34
    },
    "colab_type": "code",
    "id": "a6BzgLeZGIpt",
    "outputId": "4cceda11-1f2d-4028-efb4-4e9e4116415c"
   },
   "outputs": [
    {
     "data": {
      "text/plain": [
       "22649"
      ]
     },
     "execution_count": 26,
     "metadata": {
      "tags": []
     },
     "output_type": "execute_result"
    }
   ],
   "source": [
    "len(data_train)"
   ]
  },
  {
   "cell_type": "code",
   "execution_count": null,
   "metadata": {
    "colab": {},
    "colab_type": "code",
    "id": "xwXGZ6FIFxlO"
   },
   "outputs": [],
   "source": [
    "# xây dựng class NLP extends từ pyvi để extract feature \n",
    "class NLP(object):\n",
    "    def __init__(self, text = None):\n",
    "        self.text = text\n",
    "        self.__set_stopwords()\n",
    "\n",
    "    #đọc file stop_word đã chứa sẵn trong đường dẫn\n",
    "    def __set_stopwords(self):\n",
    "        self.stopwords = FileReader(STOP_WORDS).read_stopwords()\n",
    "\n",
    "    # vì trong câu sẽ xuất hiện rất nhiều từ vô nghĩa, sẽ làm noise dữ liệu cho nên phải segmentation trước khi train. Sử dụng ViTokenizer từ Pyvi \n",
    "    # để tokenize (đây là một model do người việt đã làm để segmentation tiếng việt)\n",
    "    def segmentation(self):\n",
    "        return ViTokenizer.tokenize(self.text)\n",
    "\n",
    "    # loại bỏ kí tự đặc biệt, lowercase và segmentation tiếng việt\n",
    "    def split_words(self):\n",
    "        text = self.segmentation()\n",
    "        try:\n",
    "            return [x.strip(SPECIAL_CHARACTER).lower() for x in text.split()]\n",
    "        except TypeError:\n",
    "            return []\n",
    "\n",
    "    # get feature trong câu gồm hai bước \n",
    "    # loại bỏ kí tự đặc biệt và loại bỏ stop_words - stop_word là những từ vô nghĩa không mang lại hiệu quả train \n",
    "    def get_words_feature(self):\n",
    "        split_words = self.split_words()\n",
    "        return [word for word in split_words if word.encode('utf-8') not in self.stopwords]\n"
   ]
  },
  {
   "cell_type": "code",
   "execution_count": 27,
   "metadata": {
    "colab": {},
    "colab_type": "code",
    "id": "EjGeoyvSjSMC"
   },
   "outputs": [],
   "source": [
    "# extract feature \n",
    "# build dictionary để chuyển embedding dữ liệu, chuyển về word2vec => bag of word\n",
    "from past.builtins import xrange\n",
    "class FeatureExtraction(object):\n",
    "    def __init__(self, data=None, build_dic=False):\n",
    "        self.data = data\n",
    "        self.build_dic = build_dic\n",
    "\n",
    "    # build từ điển gồm các từ xuất hiện trong văn bản sau khi đã preprocess dữ liệu \n",
    "    def __build_dictionary(self):\n",
    "        print('Building dictionary')\n",
    "        dict_words = []  \n",
    "        for i in tqdm_notebook(range(len(self.data)), desc='build dictionary'): \n",
    "          if self.data[i]['category'].split('.')[0] != 'My': \n",
    "            words = NLP(text = self.data[i]['content']).get_words_feature()\n",
    "            dict_words.append(words)  \n",
    "        FileStore(file_path=DICTIONARY_PATH).store_dictionary(dict_words)\n",
    "       \n",
    "        self.dictionary = FileReader(DICTIONARY_PATH).load_dictionary()\n",
    "    # extract feature từ từ điển đã tạo cùng với label\n",
    "    # x sẽ là word2vec, y là label\n",
    "    def __build_dataset(self):\n",
    "        self.features = []\n",
    "        self.labels = [] \n",
    "        for i in tqdm_notebook(xrange(len(self.data)), desc='build dataset'): \n",
    "            # if self.data[i]['category'].split('.')[0] != 'My':\n",
    "            # for key, value in dic.items():\n",
    "            #   print(key, value)\n",
    "            content = self.get_dense(self.data[i]['content'])\n",
    "            self.features.append(content)\n",
    "            self.labels.append(self.data[i]['category'])\n",
    "              # if str(self.data[i]['category'].split('.')[1]) == 'Chinh_tri_doi_ngoai' or str(self.data[i]['category'].split('.')[1]) == 'Chinh_tri_noi_bo':\n",
    "              #   self.labels.append(str(self.data[i]['category'])+'.Chinh_tri')\n",
    "              # else:\n",
    "              #   self.labels.append(str(self.data[i]['category'])+'.'+str(self.data[i]['category'].split('.')[1]))\n",
    "\n",
    "    # def get_dense(self, text):\n",
    "    #     self.__load_dictionary()\n",
    "    #     words = NLP(text).get_words_feature()\n",
    "    #     # Bag of words\n",
    "    #     vec = self.dictionary.doc2bow(words)  \n",
    "    #     dense = list(matutils.corpus2dense([vec], num_terms=len(self.dictionary)).T[0])\n",
    "    #     return dense\n",
    "\n",
    "    def get_dense(self, text):\n",
    "        words = NLP(text).get_words_feature()\n",
    "        vec = []\n",
    "        for w in words:\n",
    "          vec.append(model.get_word_vector(w))\n",
    "        return np.sum(vec, axis=0)\n",
    "\n",
    "    def get_data_and_label(self):\n",
    "        print(\"** Start build dataset\")\n",
    "        self.__build_dataset()  \n",
    "        return self.features, self.labels"
   ]
  },
  {
   "cell_type": "code",
   "execution_count": 28,
   "metadata": {
    "colab": {
     "base_uri": "https://localhost:8080/",
     "height": 117,
     "referenced_widgets": [
      "e4c53605d4bc49fa99f4775de47e158d",
      "d6f2090a776c4c959fc8369e78f75ae5",
      "a06a96779e8144a9b681ab70ce983505",
      "e07bd3d6d2604ec4803709def6bf3738",
      "2c41adf375014484a2a64fb09de94bca",
      "c101ff642a3145f8b05b4e893c56541b",
      "31ba61122306473fb3ce6d6d55cf0807",
      "05c3165db36f462bb1ce0302b7800a79"
     ]
    },
    "colab_type": "code",
    "id": "utJ0d6-DjSOh",
    "outputId": "e8a675f5-ffc7-4dce-bc97-9356e2000710"
   },
   "outputs": [
    {
     "name": "stdout",
     "output_type": "stream",
     "text": [
      "** Start build dataset\n"
     ]
    },
    {
     "name": "stderr",
     "output_type": "stream",
     "text": [
      "/usr/local/lib/python3.6/dist-packages/ipykernel_launcher.py:32: TqdmDeprecationWarning: This function will be removed in tqdm==5.0.0\n",
      "Please use `tqdm.notebook.tqdm` instead of `tqdm.tqdm_notebook`\n"
     ]
    },
    {
     "data": {
      "application/vnd.jupyter.widget-view+json": {
       "model_id": "e4c53605d4bc49fa99f4775de47e158d",
       "version_major": 2,
       "version_minor": 0
      },
      "text/plain": [
       "HBox(children=(FloatProgress(value=0.0, description='build dataset', max=22649.0, style=ProgressStyle(descript…"
      ]
     },
     "metadata": {
      "tags": []
     },
     "output_type": "display_data"
    },
    {
     "name": "stdout",
     "output_type": "stream",
     "text": [
      "\n"
     ]
    }
   ],
   "source": [
    "\n",
    "features_train, labels_train = FeatureExtraction(data=data_train, build_dic=False).get_data_and_label() "
   ]
  },
  {
   "cell_type": "code",
   "execution_count": 149,
   "metadata": {
    "colab": {},
    "colab_type": "code",
    "id": "HYeaOOAhjSQ_"
   },
   "outputs": [],
   "source": [
    "# load data hơi lâu nên để hai biến giữ lại data ban dầu \n",
    "# a, b = np.array(features_train),np.array(labels_train) \n",
    "x, y = np.array(features_train),np.array(labels_train)\n",
    " "
   ]
  },
  {
   "cell_type": "code",
   "execution_count": 150,
   "metadata": {
    "colab": {},
    "colab_type": "code",
    "id": "AV9v822ajSTf"
   },
   "outputs": [],
   "source": [
    "from keras.utils import to_categorical\n",
    "\n",
    "# encode label \n",
    "mlb = LabelEncoder() \n",
    "k = mlb.fit_transform(y)\n",
    "# one hot encoding \n",
    "y = to_categorical(k)"
   ]
  },
  {
   "cell_type": "code",
   "execution_count": 151,
   "metadata": {
    "colab": {
     "base_uri": "https://localhost:8080/",
     "height": 34
    },
    "colab_type": "code",
    "id": "QTbIBUuhjSYQ",
    "outputId": "85052e45-456d-4bd3-f9fa-ed464f9e659d"
   },
   "outputs": [
    {
     "data": {
      "text/plain": [
       "(18119, 11)"
      ]
     },
     "execution_count": 151,
     "metadata": {
      "tags": []
     },
     "output_type": "execute_result"
    }
   ],
   "source": [
    "from sklearn.model_selection import train_test_split\n",
    "# chia tập train, test theo tỉ lệ 8:2   \n",
    "(x_train,x_test, y_train, y_test) = train_test_split(x, y, test_size=0.2, random_state=43)\n",
    "y_train.shape"
   ]
  },
  {
   "cell_type": "code",
   "execution_count": 152,
   "metadata": {
    "colab": {
     "base_uri": "https://localhost:8080/",
     "height": 102
    },
    "colab_type": "code",
    "id": "Nc-J8_upjSao",
    "outputId": "e94ed013-9f0d-4155-d0c9-b36a3808ecfe"
   },
   "outputs": [
    {
     "name": "stdout",
     "output_type": "stream",
     "text": [
      "Shape features: Total document 22649 - Size matrix train (size dictionary) (18119, 100)\n",
      "Train set 18119 docs\n",
      "Test set 4530 docs\n",
      "Shape (22649, 100) (22649, 11)\n"
     ]
    },
    {
     "data": {
      "text/plain": [
       "array([0., 0., 1., 0., 0., 0., 0., 0., 0., 0., 0.], dtype=float32)"
      ]
     },
     "execution_count": 152,
     "metadata": {
      "tags": []
     },
     "output_type": "execute_result"
    }
   ],
   "source": [
    "print('Shape features:',\"Total document\",y_train.shape[0] + y_test.shape[0],\"- Size matrix train (size dictionary)\",x_train.shape)\n",
    "print('Train set',y_train.shape[0],'docs') \n",
    "print('Test set',y_test.shape[0],'docs') \n",
    "print(\"Shape\",x.shape,y.shape)\n",
    "SIZE_TRAIN = x_train.shape[1]\n",
    "y_test[0]\n"
   ]
  },
  {
   "cell_type": "code",
   "execution_count": 153,
   "metadata": {
    "colab": {
     "base_uri": "https://localhost:8080/",
     "height": 221
    },
    "colab_type": "code",
    "id": "1PlFV_OxjSdT",
    "outputId": "ba797736-1648-44e6-bce6-4fbd483d6f00"
   },
   "outputs": [
    {
     "name": "stdout",
     "output_type": "stream",
     "text": [
      "- tổng số label:\n",
      "1. Cong_nghe\n",
      "2. Du_lich\n",
      "3. Giai_tri\n",
      "4. Giao_duc\n",
      "5. Khoa_hoc\n",
      "6. Phap_luat\n",
      "7. Suc_khoe\n",
      "8. Thi_truong\n",
      "9. Thi_truong_chung_khoan\n",
      "10. Tin_tuc\n",
      "11. Xe\n"
     ]
    }
   ],
   "source": [
    "print(\"- tổng số label:\")\n",
    "# loop over each of the possible class labels and show them\n",
    "for (i, label) in enumerate(mlb.classes_):\n",
    "\tprint(\"{}. {}\".format(i + 1, label)) "
   ]
  },
  {
   "cell_type": "code",
   "execution_count": 155,
   "metadata": {
    "colab": {
     "base_uri": "https://localhost:8080/",
     "height": 629
    },
    "colab_type": "code",
    "id": "TH1Bedf6jSfo",
    "outputId": "f7e12f34-839b-48bb-8e10-771fbf949873"
   },
   "outputs": [
    {
     "name": "stdout",
     "output_type": "stream",
     "text": [
      "Model: \"sequential_30\"\n",
      "_________________________________________________________________\n",
      "Layer (type)                 Output Shape              Param #   \n",
      "=================================================================\n",
      "dense_49 (Dense)             (None, 700)               70700     \n",
      "_________________________________________________________________\n",
      "leaky_re_lu_9 (LeakyReLU)    (None, 700)               0         \n",
      "_________________________________________________________________\n",
      "dropout_9 (Dropout)          (None, 700)               0         \n",
      "_________________________________________________________________\n",
      "dense_50 (Dense)             (None, 600)               420600    \n",
      "_________________________________________________________________\n",
      "leaky_re_lu_10 (LeakyReLU)   (None, 600)               0         \n",
      "_________________________________________________________________\n",
      "dropout_10 (Dropout)         (None, 600)               0         \n",
      "_________________________________________________________________\n",
      "dense_51 (Dense)             (None, 500)               300500    \n",
      "_________________________________________________________________\n",
      "leaky_re_lu_11 (LeakyReLU)   (None, 500)               0         \n",
      "_________________________________________________________________\n",
      "dropout_11 (Dropout)         (None, 500)               0         \n",
      "_________________________________________________________________\n",
      "dense_52 (Dense)             (None, 400)               200400    \n",
      "_________________________________________________________________\n",
      "leaky_re_lu_12 (LeakyReLU)   (None, 400)               0         \n",
      "_________________________________________________________________\n",
      "dropout_12 (Dropout)         (None, 400)               0         \n",
      "_________________________________________________________________\n",
      "dense_53 (Dense)             (None, 300)               120300    \n",
      "_________________________________________________________________\n",
      "dense_54 (Dense)             (None, 11)                3311      \n",
      "=================================================================\n",
      "Total params: 1,115,811\n",
      "Trainable params: 1,115,811\n",
      "Non-trainable params: 0\n",
      "_________________________________________________________________\n"
     ]
    }
   ],
   "source": [
    "from keras.models import Sequential\n",
    "from keras.layers.normalization import BatchNormalization\n",
    "from keras.layers.convolutional import Conv2D\n",
    "from keras.layers.convolutional import MaxPooling2D\n",
    "from keras.layers.core import Activation, Dense, Flatten, Dropout\n",
    "from keras import backend as K\n",
    "from keras.optimizers import Adam, SGD \n",
    "from keras.layers import LeakyReLU\n",
    "from sklearn.metrics import classification_report\n",
    "# from tensorflow.python.keras.layers import Dense\n",
    "# from tensorflow.python.keras import Sequential\n",
    "\n",
    "# xây dựng mạng network\n",
    "class ModelNLP(object):\n",
    "  @staticmethod\n",
    "  def build(SIZE_TRAIN,num_classes, final_activation):\n",
    "    model = Sequential()\n",
    "    model.add(Dense(700, input_shape=(SIZE_TRAIN,), activation='tanh', kernel_initializer=\"uniform\")) \n",
    "    model.add(LeakyReLU(alpha=0.3))        \n",
    "    model.add(Dropout(rate=0.2)) \n",
    "    model.add(Dense(600))      \n",
    "    model.add(LeakyReLU(alpha=0.3))  \n",
    "    model.add(Dropout(rate=0.2)) \n",
    "    model.add(Dense(500))      \n",
    "    model.add(LeakyReLU(alpha=0.3))        \n",
    "    model.add(Dropout(rate=0.2))\n",
    "    model.add(Dense(400))      \n",
    "    model.add(LeakyReLU(alpha=0.3))        \n",
    "    model.add(Dropout(rate=0.2))\n",
    "    model.add(Dense(300))    \n",
    "    model.add(Dense(num_classes, activation=final_activation))\n",
    "  \n",
    "    return model\n",
    "# !pip install tensorflow==1.14\n",
    "# khởi tạo model\n",
    "EPOCHS = 20\n",
    "INIT_LR = 1e-3\n",
    "BS = 32\n",
    "\n",
    "model = ModelNLP.build(SIZE_TRAIN=SIZE_TRAIN,num_classes=len(mlb.classes_),final_activation='softmax')\n",
    "opt = Adam(lr=INIT_LR, decay=INIT_LR / EPOCHS)\n",
    "sgd = SGD(lr=0.001); \n",
    "model.compile(loss='binary_crossentropy', optimizer=sgd, metrics=['accuracy'])\n",
    "model.summary()"
   ]
  },
  {
   "cell_type": "code",
   "execution_count": 156,
   "metadata": {
    "colab": {
     "base_uri": "https://localhost:8080/",
     "height": 714
    },
    "colab_type": "code",
    "id": "uTCBug1JjSiJ",
    "outputId": "c7e4a60b-822e-44cc-fd4e-9d32d0a20c39"
   },
   "outputs": [
    {
     "name": "stdout",
     "output_type": "stream",
     "text": [
      "Train on 18119 samples, validate on 4530 samples\n",
      "Epoch 1/20\n",
      "18119/18119 [==============================] - 4s 203us/step - loss: 0.3021 - accuracy: 0.9091 - val_loss: 0.2695 - val_accuracy: 0.9091\n",
      "Epoch 2/20\n",
      "18119/18119 [==============================] - 3s 190us/step - loss: 0.2712 - accuracy: 0.9095 - val_loss: 0.2425 - val_accuracy: 0.9094\n",
      "Epoch 3/20\n",
      "18119/18119 [==============================] - 4s 196us/step - loss: 0.2494 - accuracy: 0.9113 - val_loss: 0.2200 - val_accuracy: 0.9145\n",
      "Epoch 4/20\n",
      "18119/18119 [==============================] - 4s 195us/step - loss: 0.2304 - accuracy: 0.9150 - val_loss: 0.2007 - val_accuracy: 0.9172\n",
      "Epoch 5/20\n",
      "18119/18119 [==============================] - 3s 190us/step - loss: 0.2138 - accuracy: 0.9193 - val_loss: 0.1831 - val_accuracy: 0.9268\n",
      "Epoch 6/20\n",
      "18119/18119 [==============================] - 4s 193us/step - loss: 0.1992 - accuracy: 0.9244 - val_loss: 0.1682 - val_accuracy: 0.9354\n",
      "Epoch 7/20\n",
      "18119/18119 [==============================] - 3s 192us/step - loss: 0.1857 - accuracy: 0.9300 - val_loss: 0.1552 - val_accuracy: 0.9411\n",
      "Epoch 8/20\n",
      "18119/18119 [==============================] - 3s 190us/step - loss: 0.1743 - accuracy: 0.9338 - val_loss: 0.1442 - val_accuracy: 0.9458\n",
      "Epoch 9/20\n",
      "18119/18119 [==============================] - 3s 193us/step - loss: 0.1634 - accuracy: 0.9383 - val_loss: 0.1349 - val_accuracy: 0.9494\n",
      "Epoch 10/20\n",
      "18119/18119 [==============================] - 3s 192us/step - loss: 0.1554 - accuracy: 0.9417 - val_loss: 0.1270 - val_accuracy: 0.9526\n",
      "Epoch 11/20\n",
      "18119/18119 [==============================] - 3s 192us/step - loss: 0.1474 - accuracy: 0.9455 - val_loss: 0.1207 - val_accuracy: 0.9552\n",
      "Epoch 12/20\n",
      "18119/18119 [==============================] - 3s 193us/step - loss: 0.1410 - accuracy: 0.9474 - val_loss: 0.1152 - val_accuracy: 0.9578\n",
      "Epoch 13/20\n",
      "18119/18119 [==============================] - 3s 191us/step - loss: 0.1355 - accuracy: 0.9495 - val_loss: 0.1110 - val_accuracy: 0.9592\n",
      "Epoch 14/20\n",
      "18119/18119 [==============================] - 3s 192us/step - loss: 0.1296 - accuracy: 0.9516 - val_loss: 0.1070 - val_accuracy: 0.9611\n",
      "Epoch 15/20\n",
      "18119/18119 [==============================] - 3s 190us/step - loss: 0.1258 - accuracy: 0.9533 - val_loss: 0.1040 - val_accuracy: 0.9622\n",
      "Epoch 16/20\n",
      "18119/18119 [==============================] - 3s 193us/step - loss: 0.1224 - accuracy: 0.9544 - val_loss: 0.1010 - val_accuracy: 0.9630\n",
      "Epoch 17/20\n",
      "18119/18119 [==============================] - 3s 192us/step - loss: 0.1195 - accuracy: 0.9556 - val_loss: 0.0986 - val_accuracy: 0.9636\n",
      "Epoch 18/20\n",
      "18119/18119 [==============================] - 3s 192us/step - loss: 0.1173 - accuracy: 0.9565 - val_loss: 0.0974 - val_accuracy: 0.9639\n",
      "Epoch 19/20\n",
      "18119/18119 [==============================] - 3s 191us/step - loss: 0.1148 - accuracy: 0.9573 - val_loss: 0.0951 - val_accuracy: 0.9647\n",
      "Epoch 20/20\n",
      "18119/18119 [==============================] - 4s 195us/step - loss: 0.1122 - accuracy: 0.9584 - val_loss: 0.0935 - val_accuracy: 0.9655\n"
     ]
    }
   ],
   "source": [
    "# training \n",
    "H = model.fit(x_train, y_train, validation_data= (x_test,y_test),epochs=20, verbose=1)"
   ]
  },
  {
   "cell_type": "code",
   "execution_count": 157,
   "metadata": {
    "colab": {
     "base_uri": "https://localhost:8080/",
     "height": 34
    },
    "colab_type": "code",
    "id": "tRVH0Z8wjSk1",
    "outputId": "8d56df1d-5bee-4c7c-f946-ce7fc4f09c3e"
   },
   "outputs": [
    {
     "name": "stdout",
     "output_type": "stream",
     "text": [
      "Test Accuracy: 96.548259\n"
     ]
    }
   ],
   "source": [
    "# evaluate \n",
    "loss, acc = model.evaluate(x_test, y_test, verbose=0)\n",
    "print('Test Accuracy: %f' % (acc*100)) "
   ]
  },
  {
   "cell_type": "code",
   "execution_count": 158,
   "metadata": {
    "colab": {},
    "colab_type": "code",
    "id": "4tihW1CpjSm9"
   },
   "outputs": [],
   "source": [
    "LABEL_ENCODE_PATH=\"/content/drive/My Drive/NLP/WordSmi/ModelClassify/Fasttext/lb_ft_sg_nn.pkl\"\n",
    "ESTIMATE_PATH=\"/content/drive/My Drive/NLP/WordSmi/ModelClassify/Fasttext/estimator_ft_sg_nn.h5\"\n",
    "FileStore(file_path=LABEL_ENCODE_PATH).save_pickle(obj=mlb)\n",
    "FileStore(file_path=ESTIMATE_PATH).save_pickle(obj=model)\n",
    "\n",
    "from keras.models import save_model, load_model\n",
    "\n",
    "# Creates a HDF5 file 'ESTIMATE_PATH.h5' \n",
    "save_model(model, ESTIMATE_PATH) "
   ]
  },
  {
   "cell_type": "code",
   "execution_count": 159,
   "metadata": {
    "colab": {
     "base_uri": "https://localhost:8080/",
     "height": 312
    },
    "colab_type": "code",
    "id": "NTGrvfxJjSpT",
    "outputId": "4c884c16-d12b-45fd-e0b2-3862860c65b3"
   },
   "outputs": [
    {
     "data": {
      "image/png": "[encoded data removed]",
      "text/plain": [
       "<Figure size 432x288 with 1 Axes>"
      ]
     },
     "metadata": {
      "needs_background": "light",
      "tags": []
     },
     "output_type": "display_data"
    },
    {
     "data": {
      "text/plain": [
       "<Figure size 432x288 with 0 Axes>"
      ]
     },
     "metadata": {
      "tags": []
     },
     "output_type": "display_data"
    }
   ],
   "source": [
    "import matplotlib.pyplot as plt\n",
    "# plt.plot(hist.history[\"acc\"])\n",
    "# plt.plot(hist.history['val_acc'])\n",
    "plt.figure()\n",
    "plt.plot(H.history['loss'])\n",
    "plt.plot(H.history['val_loss'])\n",
    "plt.title(\"model loss\")\n",
    "plt.ylabel(\"Loss\")\n",
    "plt.xlabel(\"Epoch\")\n",
    "plt.legend([\"Loss\",\"Validation Loss\"])\n",
    "plt.show()\n",
    "plt.savefig('chart loss.png')"
   ]
  },
  {
   "cell_type": "code",
   "execution_count": 42,
   "metadata": {
    "colab": {
     "base_uri": "https://localhost:8080/",
     "height": 255
    },
    "colab_type": "code",
    "id": "QEfHiLqljSr6",
    "outputId": "966b02ed-6333-4e4f-8fef-c9b665ae32c3"
   },
   "outputs": [
    {
     "name": "stdout",
     "output_type": "stream",
     "text": [
      "[INFO] classifying...\n",
      "[0.01777652 0.02270016 0.01158424 0.0624416  0.05216824 0.11701382\n",
      " 0.36049113 0.06180067 0.02941765 0.23753297 0.02707303]\n",
      "Suc_khoe: 36.05%\n",
      "Tin_tuc: 23.75%\n",
      "Phap_luat: 11.70%\n",
      "Giao_duc: 6.24%\n",
      "Thi_truong: 6.18%\n",
      "Khoa_hoc: 5.22%\n",
      "Thi_truong_chung_khoan: 2.94%\n",
      "Xe: 2.71%\n",
      "Du_lich: 2.27%\n",
      "Cong_nghe: 1.78%\n",
      "Giai_tri: 1.16%\n"
     ]
    }
   ],
   "source": [
    "# print(x_test.shape)\n",
    "print(\"[INFO] classifying...\")\n",
    "# print(x_test[221].shape)\n",
    "# print(y_test[221])\n",
    "proba = model.predict(x_test)[300]\n",
    "print(proba)\n",
    "idxs = np.argsort(proba)[::-1] \n",
    "# loop over the indexes of the high confidence class labels\n",
    " \n",
    "for (i, j) in enumerate(idxs):\n",
    "\t# build the label and draw the label on the image\n",
    "  label = \"{}: {:.2f}%\".format(mlb.classes_[j], proba[j] * 100)\n",
    "  print(label)\n",
    "\n",
    "# show the probabilities for each of the individual labels\n",
    "# for (label, p) in zip(mlb.classes_, proba): \n",
    "# \tprint(\"{}: {:.2f}%\".format(label, p * 100, p))\n",
    " "
   ]
  },
  {
   "cell_type": "markdown",
   "metadata": {
    "colab_type": "text",
    "id": "EMOQjH-L0YvE"
   },
   "source": [
    "LSTM VANILA TRAINING\n"
   ]
  },
  {
   "cell_type": "code",
   "execution_count": 140,
   "metadata": {
    "colab": {},
    "colab_type": "code",
    "id": "76N7J3RNlMTd"
   },
   "outputs": [],
   "source": [
    "from keras.models import Sequential\n",
    "from keras.layers.normalization import BatchNormalization\n",
    "from keras.layers.convolutional import Conv2D\n",
    "from keras.layers.convolutional import MaxPooling2D\n",
    "from keras.layers.core import Activation, Dense, Flatten, Dropout\n",
    "from keras.layers import LSTM\n",
    "from keras import backend as K\n",
    "from keras.optimizers import Adam, SGD \n",
    "from keras.layers import LeakyReLU\n",
    "from sklearn.metrics import classification_report\n",
    "class LSTMModel(object): \n",
    "  @staticmethod\n",
    "  def build(SIZE_TRAIN,num_classes, final_activation):    \n",
    "    # define model\n",
    "    model = Sequential()\n",
    "    model.add(LSTM(200, activation='tanh', dropout=0.2, recurrent_dropout=0.2))\n",
    "    model.add(Dense(100))\n",
    "    model.add(Dense(num_classes, activation=final_activation)) \n",
    "    return model \n",
    "\n",
    "    \n",
    "# khởi tạo model\n",
    "EPOCHS = 20\n",
    "INIT_LR = 1e-3\n",
    "BS = 32 \n",
    "n_features = 1\n",
    "\n",
    "model_lstm = LSTMModel.build(SIZE_TRAIN=SIZE_TRAIN,num_classes=len(mlb.classes_),final_activation='softmax')\n",
    "opt = Adam(lr=INIT_LR, decay=INIT_LR / EPOCHS)\n",
    "sgd = SGD(lr=0.001); \n",
    "model_lstm.compile(loss='binary_crossentropy', optimizer=opt, metrics=['accuracy'])\n",
    "# model_lstm.summary() \n",
    " \n"
   ]
  },
  {
   "cell_type": "code",
   "execution_count": 134,
   "metadata": {
    "colab": {},
    "colab_type": "code",
    "id": "hMYCPNHnvoUw"
   },
   "outputs": [],
   "source": []
  },
  {
   "cell_type": "code",
   "execution_count": 142,
   "metadata": {
    "colab": {
     "base_uri": "https://localhost:8080/",
     "height": 714
    },
    "colab_type": "code",
    "id": "FdbyKlDIlMRy",
    "outputId": "58546b97-d9fc-4f92-baed-faf82caea218"
   },
   "outputs": [
    {
     "name": "stdout",
     "output_type": "stream",
     "text": [
      "Train on 18119 samples, validate on 4530 samples\n",
      "Epoch 1/20\n",
      "18119/18119 [==============================] - 11s 600us/step - loss: 0.2644 - accuracy: 0.9113 - val_loss: 0.2338 - val_accuracy: 0.9163\n",
      "Epoch 2/20\n",
      "18119/18119 [==============================] - 10s 578us/step - loss: 0.2297 - accuracy: 0.9196 - val_loss: 0.1898 - val_accuracy: 0.9260\n",
      "Epoch 3/20\n",
      "18119/18119 [==============================] - 11s 586us/step - loss: 0.2050 - accuracy: 0.9264 - val_loss: 0.1653 - val_accuracy: 0.9350\n",
      "Epoch 4/20\n",
      "18119/18119 [==============================] - 11s 582us/step - loss: 0.1911 - accuracy: 0.9319 - val_loss: 0.1536 - val_accuracy: 0.9400\n",
      "Epoch 5/20\n",
      "18119/18119 [==============================] - 11s 580us/step - loss: 0.1810 - accuracy: 0.9364 - val_loss: 0.1430 - val_accuracy: 0.9449\n",
      "Epoch 6/20\n",
      "18119/18119 [==============================] - 11s 598us/step - loss: 0.1738 - accuracy: 0.9390 - val_loss: 0.1369 - val_accuracy: 0.9472\n",
      "Epoch 7/20\n",
      "18119/18119 [==============================] - 11s 588us/step - loss: 0.1693 - accuracy: 0.9406 - val_loss: 0.1306 - val_accuracy: 0.9498\n",
      "Epoch 8/20\n",
      "18119/18119 [==============================] - 10s 576us/step - loss: 0.1648 - accuracy: 0.9421 - val_loss: 0.1178 - val_accuracy: 0.9557\n",
      "Epoch 9/20\n",
      "18119/18119 [==============================] - 11s 585us/step - loss: 0.1578 - accuracy: 0.9446 - val_loss: 0.1144 - val_accuracy: 0.9572\n",
      "Epoch 10/20\n",
      "18119/18119 [==============================] - 11s 581us/step - loss: 0.1564 - accuracy: 0.9455 - val_loss: 0.1110 - val_accuracy: 0.9584\n",
      "Epoch 11/20\n",
      "18119/18119 [==============================] - 11s 592us/step - loss: 0.1536 - accuracy: 0.9468 - val_loss: 0.1095 - val_accuracy: 0.9590\n",
      "Epoch 12/20\n",
      "18119/18119 [==============================] - 11s 601us/step - loss: 0.1499 - accuracy: 0.9478 - val_loss: 0.1081 - val_accuracy: 0.9591\n",
      "Epoch 13/20\n",
      "18119/18119 [==============================] - 11s 585us/step - loss: 0.1476 - accuracy: 0.9485 - val_loss: 0.1034 - val_accuracy: 0.9614\n",
      "Epoch 14/20\n",
      "18119/18119 [==============================] - 11s 587us/step - loss: 0.1435 - accuracy: 0.9504 - val_loss: 0.1010 - val_accuracy: 0.9614\n",
      "Epoch 15/20\n",
      "18119/18119 [==============================] - 11s 587us/step - loss: 0.1429 - accuracy: 0.9509 - val_loss: 0.1001 - val_accuracy: 0.9628\n",
      "Epoch 16/20\n",
      "18119/18119 [==============================] - 11s 582us/step - loss: 0.1422 - accuracy: 0.9511 - val_loss: 0.0991 - val_accuracy: 0.9629\n",
      "Epoch 17/20\n",
      "18119/18119 [==============================] - 10s 578us/step - loss: 0.1400 - accuracy: 0.9517 - val_loss: 0.1011 - val_accuracy: 0.9618\n",
      "Epoch 18/20\n",
      "18119/18119 [==============================] - 11s 599us/step - loss: 0.1396 - accuracy: 0.9522 - val_loss: 0.0976 - val_accuracy: 0.9639\n",
      "Epoch 19/20\n",
      "18119/18119 [==============================] - 11s 600us/step - loss: 0.1357 - accuracy: 0.9535 - val_loss: 0.0955 - val_accuracy: 0.9645\n",
      "Epoch 20/20\n",
      "18119/18119 [==============================] - 11s 590us/step - loss: 0.1350 - accuracy: 0.9541 - val_loss: 0.0932 - val_accuracy: 0.9651\n"
     ]
    }
   ],
   "source": [
    "# x_train = x_train.reshape((x_train.shape[0], x_train.shape[1],n_features))\n",
    "# x_test = x_test.reshape((x_test.shape[0], x_test.shape[1],n_features))\n",
    "H = model_lstm.fit(x_train, y_train, validation_data= (x_test,y_test),epochs=20, verbose=1, batch_size=512)"
   ]
  },
  {
   "cell_type": "code",
   "execution_count": 143,
   "metadata": {
    "colab": {
     "base_uri": "https://localhost:8080/",
     "height": 312
    },
    "colab_type": "code",
    "id": "VpDWskZxlMP6",
    "outputId": "a2cc77ad-48b7-48f4-ca06-feeba08f4532"
   },
   "outputs": [
    {
     "data": {
      "image/png": "[encoded data removed]",
      "text/plain": [
       "<Figure size 432x288 with 1 Axes>"
      ]
     },
     "metadata": {
      "needs_background": "light",
      "tags": []
     },
     "output_type": "display_data"
    },
    {
     "data": {
      "text/plain": [
       "<Figure size 432x288 with 0 Axes>"
      ]
     },
     "metadata": {
      "tags": []
     },
     "output_type": "display_data"
    }
   ],
   "source": [
    "import matplotlib.pyplot as plt\n",
    "# plt.plot(hist.history[\"acc\"])\n",
    "# plt.plot(hist.history['val_acc'])\n",
    "plt.figure()\n",
    "plt.plot(H.history['loss'])\n",
    "plt.plot(H.history['val_loss'])\n",
    "plt.title(\"model loss\")\n",
    "plt.ylabel(\"Loss\")\n",
    "plt.xlabel(\"Epoch\")\n",
    "plt.legend([\"Loss\",\"Validation Loss\"])\n",
    "plt.show()\n",
    "plt.savefig('chart loss.png')"
   ]
  },
  {
   "cell_type": "code",
   "execution_count": 137,
   "metadata": {
    "colab": {
     "base_uri": "https://localhost:8080/",
     "height": 34
    },
    "colab_type": "code",
    "id": "sn6k0ePylMKx",
    "outputId": "2efab886-036f-4125-93c7-07613053b94c"
   },
   "outputs": [
    {
     "name": "stdout",
     "output_type": "stream",
     "text": [
      "Test Accuracy: 96.092725\n"
     ]
    }
   ],
   "source": [
    "# evaluate \n",
    "loss, acc = model_lstm.evaluate(x_test, y_test, verbose=0)\n",
    "print('Test Accuracy: %f' % (acc*100)) "
   ]
  },
  {
   "cell_type": "code",
   "execution_count": 146,
   "metadata": {
    "colab": {},
    "colab_type": "code",
    "id": "JDCIuXS8jSuh"
   },
   "outputs": [],
   "source": [
    "LABEL_ENCODE_PATH=\"/content/drive/My Drive/NLP/WordSmi/ModelClassify/Fasttext/lb_ft_sg_lstm.pkl\"\n",
    "ESTIMATE_PATH=\"/content/drive/My Drive/NLP/WordSmi/ModelClassify/Fasttext/estimator_ft_sg_lstm.h5\"\n",
    "FileStore(file_path=LABEL_ENCODE_PATH).save_pickle(obj=mlb)\n",
    "FileStore(file_path=ESTIMATE_PATH).save_pickle(obj=model_lstm)\n",
    "\n",
    "from keras.models import save_model, load_model\n",
    "\n",
    "# Creates a HDF5 file 'ESTIMATE_PATH.h5' \n",
    "save_model(model_lstm, ESTIMATE_PATH) "
   ]
  },
  {
   "cell_type": "code",
   "execution_count": null,
   "metadata": {
    "colab": {},
    "colab_type": "code",
    "id": "FeUdx7DBjSWG"
   },
   "outputs": [],
   "source": []
  },
  {
   "cell_type": "markdown",
   "metadata": {
    "colab_type": "text",
    "id": "t_-ClZX98CXZ"
   },
   "source": [
    "CNN + LSTM TRAINING"
   ]
  },
  {
   "cell_type": "code",
   "execution_count": 165,
   "metadata": {
    "colab": {},
    "colab_type": "code",
    "id": "bzZnYZPMjSJt"
   },
   "outputs": [],
   "source": [
    "from keras.models import Sequential\n",
    "from keras.layers.normalization import BatchNormalization\n",
    "from keras.layers.convolutional import Conv2D\n",
    "from keras.layers.convolutional import MaxPooling2D\n",
    "from keras.layers.core import Activation, Dense, Flatten, Dropout\n",
    "from keras.layers import LSTM\n",
    "from keras import backend as K\n",
    "from keras.optimizers import Adam, SGD \n",
    "from keras.layers import LeakyReLU,Conv1D,MaxPooling1D\n",
    "from sklearn.metrics import classification_report\n",
    "class CNN_LSTM_Model(object): \n",
    "  @staticmethod\n",
    "  def build(SIZE_TRAIN,num_classes, final_activation):    \n",
    "    # define model\n",
    "    model = Sequential()\n",
    "    model.add(Conv1D(filters=32, kernel_size=3, padding='same', activation='relu'))\n",
    "    model.add(MaxPooling1D(pool_size=2))\n",
    "    model.add(LSTM(200))\n",
    "    model.add(Dense(100))\n",
    "    model.add(Dense(num_classes, activation=final_activation)) \n",
    "    return model \n",
    "\n",
    "    \n",
    "# khởi tạo model\n",
    "EPOCHS = 20\n",
    "INIT_LR = 1e-3\n",
    "BS = 32 \n",
    "n_features = 1\n",
    "\n",
    "model_cnnlstm = CNN_LSTM_Model.build(SIZE_TRAIN=SIZE_TRAIN,num_classes=len(mlb.classes_),final_activation='softmax')\n",
    "opt = Adam(lr=INIT_LR, decay=INIT_LR / EPOCHS)\n",
    "sgd = SGD(lr=0.001); \n",
    "model_cnnlstm.compile(loss='binary_crossentropy', optimizer=opt, metrics=['accuracy'])\n",
    "# model_lstm.summary() \n",
    "  "
   ]
  },
  {
   "cell_type": "code",
   "execution_count": 166,
   "metadata": {
    "colab": {
     "base_uri": "https://localhost:8080/",
     "height": 714
    },
    "colab_type": "code",
    "id": "xzWlBe6o6svb",
    "outputId": "0f3391c3-1b2a-4209-f401-3f9da6aec774"
   },
   "outputs": [
    {
     "name": "stdout",
     "output_type": "stream",
     "text": [
      "Train on 18119 samples, validate on 4530 samples\n",
      "Epoch 1/20\n",
      "18119/18119 [==============================] - 12s 637us/step - loss: 0.2346 - accuracy: 0.9172 - val_loss: 0.1755 - val_accuracy: 0.9329\n",
      "Epoch 2/20\n",
      "18119/18119 [==============================] - 6s 333us/step - loss: 0.1442 - accuracy: 0.9460 - val_loss: 0.1298 - val_accuracy: 0.9506\n",
      "Epoch 3/20\n",
      "18119/18119 [==============================] - 6s 324us/step - loss: 0.1162 - accuracy: 0.9566 - val_loss: 0.1115 - val_accuracy: 0.9579\n",
      "Epoch 4/20\n",
      "18119/18119 [==============================] - 6s 314us/step - loss: 0.1010 - accuracy: 0.9620 - val_loss: 0.1020 - val_accuracy: 0.9618\n",
      "Epoch 5/20\n",
      "18119/18119 [==============================] - 6s 311us/step - loss: 0.0964 - accuracy: 0.9634 - val_loss: 0.1000 - val_accuracy: 0.9625\n",
      "Epoch 6/20\n",
      "18119/18119 [==============================] - 6s 310us/step - loss: 0.0905 - accuracy: 0.9661 - val_loss: 0.0964 - val_accuracy: 0.9639\n",
      "Epoch 7/20\n",
      "18119/18119 [==============================] - 6s 328us/step - loss: 0.0884 - accuracy: 0.9668 - val_loss: 0.0908 - val_accuracy: 0.9657\n",
      "Epoch 8/20\n",
      "18119/18119 [==============================] - 6s 319us/step - loss: 0.0826 - accuracy: 0.9687 - val_loss: 0.0865 - val_accuracy: 0.9681\n",
      "Epoch 9/20\n",
      "18119/18119 [==============================] - 6s 322us/step - loss: 0.0799 - accuracy: 0.9697 - val_loss: 0.0878 - val_accuracy: 0.9675\n",
      "Epoch 10/20\n",
      "18119/18119 [==============================] - 6s 325us/step - loss: 0.0786 - accuracy: 0.9707 - val_loss: 0.0882 - val_accuracy: 0.9668\n",
      "Epoch 11/20\n",
      "18119/18119 [==============================] - 6s 322us/step - loss: 0.0750 - accuracy: 0.9718 - val_loss: 0.0836 - val_accuracy: 0.9689\n",
      "Epoch 12/20\n",
      "18119/18119 [==============================] - 6s 316us/step - loss: 0.0727 - accuracy: 0.9730 - val_loss: 0.0860 - val_accuracy: 0.9681\n",
      "Epoch 13/20\n",
      "18119/18119 [==============================] - 6s 312us/step - loss: 0.0708 - accuracy: 0.9737 - val_loss: 0.0863 - val_accuracy: 0.9681\n",
      "Epoch 14/20\n",
      "18119/18119 [==============================] - 6s 309us/step - loss: 0.0703 - accuracy: 0.9735 - val_loss: 0.0806 - val_accuracy: 0.9694\n",
      "Epoch 15/20\n",
      "18119/18119 [==============================] - 6s 313us/step - loss: 0.0683 - accuracy: 0.9745 - val_loss: 0.0823 - val_accuracy: 0.9693\n",
      "Epoch 16/20\n",
      "18119/18119 [==============================] - 6s 312us/step - loss: 0.0672 - accuracy: 0.9747 - val_loss: 0.0811 - val_accuracy: 0.9701\n",
      "Epoch 17/20\n",
      "18119/18119 [==============================] - 6s 321us/step - loss: 0.0653 - accuracy: 0.9754 - val_loss: 0.0808 - val_accuracy: 0.9705\n",
      "Epoch 18/20\n",
      "18119/18119 [==============================] - 6s 319us/step - loss: 0.0633 - accuracy: 0.9765 - val_loss: 0.0790 - val_accuracy: 0.9709\n",
      "Epoch 19/20\n",
      "18119/18119 [==============================] - 6s 312us/step - loss: 0.0600 - accuracy: 0.9778 - val_loss: 0.0803 - val_accuracy: 0.9704\n",
      "Epoch 20/20\n",
      "18119/18119 [==============================] - 6s 310us/step - loss: 0.0597 - accuracy: 0.9777 - val_loss: 0.0780 - val_accuracy: 0.9715\n"
     ]
    }
   ],
   "source": [
    "x_train = x_train.reshape((x_train.shape[0], x_train.shape[1],n_features))\n",
    "x_test = x_test.reshape((x_test.shape[0], x_test.shape[1],n_features))\n",
    "H = model_cnnlstm.fit(x_train, y_train, validation_data= (x_test,y_test),epochs=20, verbose=1, batch_size=512)"
   ]
  },
  {
   "cell_type": "code",
   "execution_count": 167,
   "metadata": {
    "colab": {
     "base_uri": "https://localhost:8080/",
     "height": 312
    },
    "colab_type": "code",
    "id": "EaU_qo4M6tIV",
    "outputId": "890333ed-7539-4206-aab1-f9acdf0540c3"
   },
   "outputs": [
    {
     "data": {
      "image/png": "[encoded data removed]",
      "text/plain": [
       "<Figure size 432x288 with 1 Axes>"
      ]
     },
     "metadata": {
      "needs_background": "light",
      "tags": []
     },
     "output_type": "display_data"
    },
    {
     "data": {
      "text/plain": [
       "<Figure size 432x288 with 0 Axes>"
      ]
     },
     "metadata": {
      "tags": []
     },
     "output_type": "display_data"
    }
   ],
   "source": [
    "import matplotlib.pyplot as plt\n",
    "# plt.plot(hist.history[\"acc\"])\n",
    "# plt.plot(hist.history['val_acc'])\n",
    "plt.figure()\n",
    "plt.plot(H.history['loss'])\n",
    "plt.plot(H.history['val_loss'])\n",
    "plt.title(\"model loss\")\n",
    "plt.ylabel(\"Loss\")\n",
    "plt.xlabel(\"Epoch\")\n",
    "plt.legend([\"Loss\",\"Validation Loss\"])\n",
    "plt.show()\n",
    "plt.savefig('chart loss.png')"
   ]
  },
  {
   "cell_type": "code",
   "execution_count": 169,
   "metadata": {
    "colab": {
     "base_uri": "https://localhost:8080/",
     "height": 34
    },
    "colab_type": "code",
    "id": "xT5D4AtM6tFn",
    "outputId": "aa0ffdf1-d5ef-4b17-9405-d8f4bb357fbd"
   },
   "outputs": [
    {
     "name": "stdout",
     "output_type": "stream",
     "text": [
      "Test Accuracy: 97.152328\n"
     ]
    }
   ],
   "source": [
    "# evaluate \n",
    "loss, acc = model_cnnlstm.evaluate(x_test, y_test, verbose=0)\n",
    "print('Test Accuracy: %f' % (acc*100)) \n",
    "\n",
    "# lb: label encodem \n",
    "# ft: fast text \n",
    "# sg: skip gram \n",
    "# cnn: convolution neural network \n",
    "# lstm: long short term memory \n",
    "# nn: neural network"
   ]
  },
  {
   "cell_type": "code",
   "execution_count": 170,
   "metadata": {
    "colab": {},
    "colab_type": "code",
    "id": "VkuP33Qm6tDv"
   },
   "outputs": [],
   "source": [
    "LABEL_ENCODE_PATH=\"/content/drive/My Drive/NLP/WordSmi/ModelClassify/Fasttext/lb_ft_sg_cnn_lstm.pkl\" \n",
    "ESTIMATE_PATH=\"/content/drive/My Drive/NLP/WordSmi/ModelClassify/Fasttext/estimator_ft_sg_cnn_lstm.h5\"\n",
    "FileStore(file_path=LABEL_ENCODE_PATH).save_pickle(obj=mlb)\n",
    "FileStore(file_path=ESTIMATE_PATH).save_pickle(obj=model_cnnlstm)\n",
    "\n",
    "from keras.models import save_model, load_model\n",
    "\n",
    "# Creates a HDF5 file 'ESTIMATE_PATH.h5' \n",
    "save_model(model_cnnlstm, ESTIMATE_PATH) "
   ]
  },
  {
   "cell_type": "code",
   "execution_count": null,
   "metadata": {
    "colab": {},
    "colab_type": "code",
    "id": "RKAHFFZ26tBG"
   },
   "outputs": [],
   "source": []
  },
  {
   "cell_type": "code",
   "execution_count": 174,
   "metadata": {
    "colab": {},
    "colab_type": "code",
    "id": "xkWpbcIx6s--"
   },
   "outputs": [],
   "source": [
    "from keras.models import Sequential\n",
    "from keras.layers.normalization import BatchNormalization\n",
    "from keras.layers.convolutional import Conv2D\n",
    "from keras.layers.convolutional import MaxPooling2D\n",
    "from keras.layers.core import Activation, Dense, Flatten, Dropout\n",
    "from keras.layers import LSTM\n",
    "from keras import backend as K\n",
    "from keras.optimizers import Adam, SGD \n",
    "from keras.layers import LeakyReLU,Conv1D,MaxPooling1D,Bidirectional\n",
    "from sklearn.metrics import classification_report\n",
    "class RNN_Model(object): \n",
    "  @staticmethod\n",
    "  def build(SIZE_TRAIN,num_classes, final_activation):    \n",
    "    # define model\n",
    "    model = Sequential()\n",
    "    model.add(Bidirectional(LSTM(200, activation='tanh', dropout=0.2, recurrent_dropout=0.2))) \n",
    "    model.add(Dense(100))\n",
    "    model.add(Dense(num_classes, activation=final_activation)) \n",
    "    return model \n",
    "\n",
    "    \n",
    "# khởi tạo model\n",
    "EPOCHS = 20\n",
    "INIT_LR = 1e-3\n",
    "BS = 32 \n",
    "n_features = 1\n",
    "\n",
    "model_rnn = RNN_Model.build(SIZE_TRAIN=SIZE_TRAIN,num_classes=len(mlb.classes_),final_activation='softmax')\n",
    "opt = Adam(lr=INIT_LR, decay=INIT_LR / EPOCHS)\n",
    "sgd = SGD(lr=0.001); \n",
    "model_rnn.compile(loss='binary_crossentropy', optimizer=opt, metrics=['accuracy'])\n",
    "# model_lstm.summary() \n",
    "  "
   ]
  },
  {
   "cell_type": "code",
   "execution_count": 175,
   "metadata": {
    "colab": {
     "base_uri": "https://localhost:8080/",
     "height": 714
    },
    "colab_type": "code",
    "id": "JTvVUDQB6s8x",
    "outputId": "e2e30097-a55a-4a5c-ab71-b370c378a8f2"
   },
   "outputs": [
    {
     "name": "stdout",
     "output_type": "stream",
     "text": [
      "Train on 18119 samples, validate on 4530 samples\n",
      "Epoch 1/20\n",
      "18119/18119 [==============================] - 21s 1ms/step - loss: 0.2582 - accuracy: 0.9133 - val_loss: 0.2006 - val_accuracy: 0.9242\n",
      "Epoch 2/20\n",
      "18119/18119 [==============================] - 20s 1ms/step - loss: 0.1989 - accuracy: 0.9271 - val_loss: 0.1610 - val_accuracy: 0.9402\n",
      "Epoch 3/20\n",
      "18119/18119 [==============================] - 20s 1ms/step - loss: 0.1701 - accuracy: 0.9364 - val_loss: 0.1385 - val_accuracy: 0.9481\n",
      "Epoch 4/20\n",
      "18119/18119 [==============================] - 20s 1ms/step - loss: 0.1562 - accuracy: 0.9419 - val_loss: 0.1281 - val_accuracy: 0.9519\n",
      "Epoch 5/20\n",
      "18119/18119 [==============================] - 21s 1ms/step - loss: 0.1460 - accuracy: 0.9461 - val_loss: 0.1236 - val_accuracy: 0.9536\n",
      "Epoch 6/20\n",
      "18119/18119 [==============================] - 21s 1ms/step - loss: 0.1384 - accuracy: 0.9489 - val_loss: 0.1133 - val_accuracy: 0.9578\n",
      "Epoch 7/20\n",
      "18119/18119 [==============================] - 20s 1ms/step - loss: 0.1317 - accuracy: 0.9513 - val_loss: 0.1114 - val_accuracy: 0.9591\n",
      "Epoch 8/20\n",
      "18119/18119 [==============================] - 20s 1ms/step - loss: 0.1302 - accuracy: 0.9521 - val_loss: 0.1052 - val_accuracy: 0.9611\n",
      "Epoch 9/20\n",
      "18119/18119 [==============================] - 21s 1ms/step - loss: 0.1243 - accuracy: 0.9543 - val_loss: 0.1084 - val_accuracy: 0.9608\n",
      "Epoch 10/20\n",
      "18119/18119 [==============================] - 20s 1ms/step - loss: 0.1229 - accuracy: 0.9545 - val_loss: 0.1020 - val_accuracy: 0.9632\n",
      "Epoch 11/20\n",
      "18119/18119 [==============================] - 20s 1ms/step - loss: 0.1177 - accuracy: 0.9568 - val_loss: 0.1009 - val_accuracy: 0.9645\n",
      "Epoch 12/20\n",
      "18119/18119 [==============================] - 20s 1ms/step - loss: 0.1146 - accuracy: 0.9578 - val_loss: 0.1010 - val_accuracy: 0.9626\n",
      "Epoch 13/20\n",
      "18119/18119 [==============================] - 20s 1ms/step - loss: 0.1120 - accuracy: 0.9589 - val_loss: 0.0958 - val_accuracy: 0.9660\n",
      "Epoch 14/20\n",
      "18119/18119 [==============================] - 20s 1ms/step - loss: 0.1103 - accuracy: 0.9596 - val_loss: 0.0951 - val_accuracy: 0.9660\n",
      "Epoch 15/20\n",
      "18119/18119 [==============================] - 20s 1ms/step - loss: 0.1089 - accuracy: 0.9601 - val_loss: 0.0955 - val_accuracy: 0.9666\n",
      "Epoch 16/20\n",
      "18119/18119 [==============================] - 20s 1ms/step - loss: 0.1072 - accuracy: 0.9611 - val_loss: 0.0942 - val_accuracy: 0.9672\n",
      "Epoch 17/20\n",
      "18119/18119 [==============================] - 20s 1ms/step - loss: 0.1047 - accuracy: 0.9612 - val_loss: 0.0932 - val_accuracy: 0.9675\n",
      "Epoch 18/20\n",
      "18119/18119 [==============================] - 21s 1ms/step - loss: 0.1045 - accuracy: 0.9620 - val_loss: 0.0907 - val_accuracy: 0.9680\n",
      "Epoch 19/20\n",
      "18119/18119 [==============================] - 20s 1ms/step - loss: 0.1016 - accuracy: 0.9629 - val_loss: 0.0922 - val_accuracy: 0.9681\n",
      "Epoch 20/20\n",
      "18119/18119 [==============================] - 21s 1ms/step - loss: 0.1008 - accuracy: 0.9633 - val_loss: 0.0879 - val_accuracy: 0.9689\n"
     ]
    }
   ],
   "source": [
    "x_train = x_train.reshape((x_train.shape[0], x_train.shape[1],n_features))\n",
    "x_test = x_test.reshape((x_test.shape[0], x_test.shape[1],n_features))\n",
    "H = model_rnn.fit(x_train, y_train, validation_data= (x_test,y_test),epochs=20, verbose=1, batch_size=512)"
   ]
  },
  {
   "cell_type": "code",
   "execution_count": 176,
   "metadata": {
    "colab": {
     "base_uri": "https://localhost:8080/",
     "height": 312
    },
    "colab_type": "code",
    "id": "A1vh5G3y6s6j",
    "outputId": "215e7bdf-0c9a-4fb7-db51-1056ac3fecf5"
   },
   "outputs": [
    {
     "data": {
      "image/png": "[encoded data removed]",
      "text/plain": [
       "<Figure size 432x288 with 1 Axes>"
      ]
     },
     "metadata": {
      "needs_background": "light",
      "tags": []
     },
     "output_type": "display_data"
    },
    {
     "data": {
      "text/plain": [
       "<Figure size 432x288 with 0 Axes>"
      ]
     },
     "metadata": {
      "tags": []
     },
     "output_type": "display_data"
    }
   ],
   "source": [
    "import matplotlib.pyplot as plt\n",
    "# plt.plot(hist.history[\"acc\"])\n",
    "# plt.plot(hist.history['val_acc'])\n",
    "plt.figure()\n",
    "plt.plot(H.history['loss'])\n",
    "plt.plot(H.history['val_loss'])\n",
    "plt.title(\"model loss\")\n",
    "plt.ylabel(\"Loss\")\n",
    "plt.xlabel(\"Epoch\")\n",
    "plt.legend([\"Loss\",\"Validation Loss\"])\n",
    "plt.show()\n",
    "plt.savefig('chart loss.png')"
   ]
  },
  {
   "cell_type": "code",
   "execution_count": 177,
   "metadata": {
    "colab": {
     "base_uri": "https://localhost:8080/",
     "height": 34
    },
    "colab_type": "code",
    "id": "ZJK_vSY66s4P",
    "outputId": "c6085934-cdef-4754-bd41-221bd238efba"
   },
   "outputs": [
    {
     "name": "stdout",
     "output_type": "stream",
     "text": [
      "Test Accuracy: 96.891439\n"
     ]
    }
   ],
   "source": [
    "# evaluate \n",
    "loss, acc = model_rnn.evaluate(x_test, y_test, verbose=0)\n",
    "print('Test Accuracy: %f' % (acc*100)) \n",
    "\n",
    "# lb: label encodem \n",
    "# ft: fast text \n",
    "# sg: skip gram \n",
    "# cnn: convolution neural network \n",
    "# lstm: long short term memory \n",
    "# nn: neural network"
   ]
  },
  {
   "cell_type": "code",
   "execution_count": 178,
   "metadata": {
    "colab": {},
    "colab_type": "code",
    "id": "nfdG5vtb6s2T"
   },
   "outputs": [],
   "source": [
    "LABEL_ENCODE_PATH=\"/content/drive/My Drive/NLP/WordSmi/ModelClassify/Fasttext/lb_ft_sg_rnn.pkl\" \n",
    "ESTIMATE_PATH=\"/content/drive/My Drive/NLP/WordSmi/ModelClassify/Fasttext/estimator_ft_sg_rnn.h5\"\n",
    "FileStore(file_path=LABEL_ENCODE_PATH).save_pickle(obj=mlb)\n",
    "FileStore(file_path=ESTIMATE_PATH).save_pickle(obj=model_rnn)\n",
    "\n",
    "from keras.models import save_model, load_model\n",
    "\n",
    "# Creates a HDF5 file 'ESTIMATE_PATH.h5' \n",
    "save_model(model_rnn, ESTIMATE_PATH) "
   ]
  },
  {
   "cell_type": "code",
   "execution_count": null,
   "metadata": {
    "colab": {
     "base_uri": "https://localhost:8080/",
     "height": 443
    },
    "colab_type": "code",
    "id": "4Psfl98wDKcW",
    "outputId": "296b1a99-1b88-4109-c693-3ea925acd35d"
   },
   "outputs": [
    {
     "name": "stdout",
     "output_type": "stream",
     "text": [
      "--2020-06-19 08:35:23--  https://dl.fbaipublicfiles.com/fasttext/data/cooking.stackexchange.tar.gz\n",
      "Resolving dl.fbaipublicfiles.com (dl.fbaipublicfiles.com)... 172.67.9.4, 104.22.75.142, 104.22.74.142, ...\n",
      "Connecting to dl.fbaipublicfiles.com (dl.fbaipublicfiles.com)|172.67.9.4|:443... connected.\n",
      "HTTP request sent, awaiting response... 200 OK\n",
      "Length: 457609 (447K) [application/x-tar]\n",
      "Saving to: ‘cooking.stackexchange.tar.gz’\n",
      "\n",
      "cooking.stackexchan 100%[===================>] 446.88K  1.22MB/s    in 0.4s    \n",
      "\n",
      "2020-06-19 08:35:24 (1.22 MB/s) - ‘cooking.stackexchange.tar.gz’ saved [457609/457609]\n",
      "\n",
      "cooking.stackexchange.id\n",
      "cooking.stackexchange.txt\n",
      "readme.txt\n",
      "__label__sauce __label__cheese How much does potato starch affect a cheese sauce recipe?\n",
      "__label__food-safety __label__acidity Dangerous pathogens capable of growing in acidic environments\n",
      "__label__cast-iron __label__stove How do I cover up the white spots on my cast iron stove?\n",
      "__label__restaurant Michelin Three Star Restaurant; but if the chef is not there\n",
      "__label__knife-skills __label__dicing Without knife skills, how can I quickly and accurately dice vegetables?\n",
      "__label__storage-method __label__equipment __label__bread What's the purpose of a bread box?\n",
      "__label__baking __label__food-safety __label__substitutions __label__peanuts how to seperate peanut oil from roasted peanuts at home?\n",
      "__label__chocolate American equivalent for British chocolate terms\n",
      "__label__baking __label__oven __label__convection Fan bake vs bake\n",
      "__label__sauce __label__storage-lifetime __label__acidity __label__mayonnaise Regulation and balancing of readymade packed mayonnaise and other sauces\n"
     ]
    }
   ],
   "source": [
    "!wget https://dl.fbaipublicfiles.com/fasttext/data/cooking.stackexchange.tar.gz && tar xvzf cooking.stackexchange.tar.gz\n",
    "!head cooking.stackexchange.txt"
   ]
  },
  {
   "cell_type": "code",
   "execution_count": null,
   "metadata": {},
   "outputs": [],
   "source": [
    "from underthesea import sent_tokenize\n",
    "data_process = []\n",
    "for index in tqdm_notebook(xrange(len(data_train)), desc='build dataset'):\n",
    "  item = data_train[index]\n",
    "  for sentence in sent_tokenize(item['content']):\n",
    "    dat = dict(data_train[index])\n",
    "    dat['content'] = '__label__'+ item['category']+' ' + NLP(sentence).segmentation()\n",
    "    data_process.append(dat)"
   ]
  },
  {
   "cell_type": "code",
   "execution_count": null,
   "metadata": {
    "colab": {},
    "colab_type": "code",
    "id": "NDBGtd6OuTme"
   },
   "outputs": [],
   "source": [
    "with open('/content/drive/My Drive/NLP/WordSmi/Fasttext/data/data_train_ft.news.txt','w') as f:\n",
    "    for i in data_process:\n",
    "        f.write(i['content']+'\\n')"
   ]
  },
  {
   "cell_type": "code",
   "execution_count": null,
   "metadata": {
    "colab": {
     "base_uri": "https://localhost:8080/",
     "height": 52
    },
    "colab_type": "code",
    "id": "aQqB2w5hyj9g",
    "outputId": "7c18d294-b724-41c9-fc09-93ebc2f8429f"
   },
   "outputs": [
    {
     "name": "stdout",
     "output_type": "stream",
     "text": [
      "/content/drive/My Drive/NLP/WordSmi/Fasttext/data\n",
      "   515053  14944997 110119224 data_train_ft.news.txt\n"
     ]
    }
   ],
   "source": [
    "%cd /content/drive/My Drive/NLP/WordSmi/Fasttext/data\n",
    "!wc data_train_ft.news.txt"
   ]
  },
  {
   "cell_type": "code",
   "execution_count": null,
   "metadata": {
    "colab": {},
    "colab_type": "code",
    "id": "Soh03tq22a0K"
   },
   "outputs": [],
   "source": [
    "import fasttext"
   ]
  },
  {
   "cell_type": "code",
   "execution_count": null,
   "metadata": {
    "colab": {},
    "colab_type": "code",
    "id": "unwwP14_2fBZ"
   },
   "outputs": [],
   "source": [
    "!head -n 500000 data_train_ft.news.txt > news.train.txt\n",
    "!tail -n 15053 data_train_ft.news.txt > news.valid.txt"
   ]
  },
  {
   "cell_type": "code",
   "execution_count": null,
   "metadata": {
    "colab": {},
    "colab_type": "code",
    "id": "ECx_Gmj92nCw"
   },
   "outputs": [],
   "source": [
    "model = fasttext.train_supervised(input=\"news.train.txt\", lr=0.1, epoch=25, wordNgrams=6, bucket=200000, dim=5000, loss='ova')\n",
    "model.save_model(\"model_news.bin\")"
   ]
  },
  {
   "cell_type": "code",
   "execution_count": null,
   "metadata": {
    "colab": {
     "base_uri": "https://localhost:8080/",
     "height": 34
    },
    "colab_type": "code",
    "id": "AtBU2cn0LEe0",
    "outputId": "84c8e50d-bced-4f57-8e4b-eb6d102b6877"
   },
   "outputs": [
    {
     "data": {
      "text/plain": [
       "(15053, 0.047619047619047616, 1.0)"
      ]
     },
     "execution_count": 19,
     "metadata": {
      "tags": []
     },
     "output_type": "execute_result"
    }
   ],
   "source": [
    " model.test(\"news.valid.txt\", k=-1)"
   ]
  },
  {
   "cell_type": "code",
   "execution_count": null,
   "metadata": {
    "colab": {
     "base_uri": "https://localhost:8080/",
     "height": 1000
    },
    "colab_type": "code",
    "id": "Nf3WHiYU3Ew6",
    "outputId": "56c48211-1a01-4e75-f849-f60c7d554fb7"
   },
   "outputs": [
    {
     "name": "stdout",
     "output_type": "stream",
     "text": [
      "__label__Xe Ngoài_ra , theo theo_dõi của chúng_tôi , giá xăng tại Việt_Nam tiếp_tục tăng vào cuối năm 2013 , và đầu năm 2014 .\n",
      "(('__label__Doanh_nghiep',), array([0.74338043]))\n",
      "===================\n",
      "\n",
      "__label__The_gioi Thực_tế , trước sự bùng_nổ của các phương_tiện thanh_toán trực_tuyến và di_động , ngày_càng nhiều người Trung_Quốc lì_xì cho nhau bằng hồng bao điện_tử .\n",
      "(('__label__Cong_nghe',), array([0.47587857]))\n",
      "===================\n",
      "\n",
      "__label__The_gioi Hãng tin cũng vừa trích lại bản tin của .\n",
      "(('__label__Cong_nghe',), array([0.43986785]))\n",
      "===================\n",
      "\n",
      "__label__The_gioi Báo cũng đưa tin tương_tự .\n",
      "(('__label__Cong_nghe',), array([0.96754324]))\n",
      "===================\n",
      "\n",
      "__label__The_gioi Nhiều phóng_viên nước_ngoài , như một nhóm phóng_viên của Hãng tin Reuters , đã tranh_thủ rủ nhau đi khám_phá món bánh_mì ở Hà_Nội , và phóng_viên Hyonhee_Shin đã chia_sẻ lại hình_ảnh của họ tại một tiệm trên phố Hàn_Thuyên .\n",
      "(('__label__Doanh_nghiep',), array([0.28170961]))\n",
      "===================\n",
      "\n",
      "__label__Cong_nghe 3 .\n",
      "(('__label__Doanh_nghiep',), array([0.73901486]))\n",
      "===================\n",
      "\n",
      "__label__The_gioi Các hành_khách đã được lên bờ và sắp_xếp các chuyến bay để về nước .\n",
      "(('__label__The_gioi',), array([0.38567519]))\n",
      "===================\n",
      "\n",
      "__label__The_gioi Đây là danh_sách bao_gồm những tổ_chức , doanh_nghiệp và cá_nhân không đáng tin_cậy , có nguy_cơ gây phương_hại đến lợi_ích của doanh_nghiệp Trung_Quốc .\n",
      "(('__label__Cong_nghe',), array([0.57044649]))\n",
      "===================\n",
      "\n",
      "__label__The_gioi Nhiều người đang , đã làm_việc với WHO và cả những người nghiên_cứu về các chiến_dịch hành_động của WHO , cho rằng trong quyết_định chậm_trễ khi tuyên_bố COVID - 19 là vấn_đề y_tế cộng_đồng khẩn_cấp toàn_cầu trước đây của WHO , cơ_quan này đã do_dự vì lo_ngại động_thái đó có_thể gây tổn_thất nặng_nề cho nền kinh_tế Trung_Quốc cũng như hình_ảnh đội_ngũ lãnh_đạo của quốc_gia này .\n",
      "(('__label__The_gioi',), array([0.59515148]))\n",
      "===================\n",
      "\n",
      "__label__The_gioi Giải_thưởng Nobel_hóa học được trao cho Tomas_Lindahl , Paul_Modrich và Aziz_Sancar vì công_trình nghiên_cứu về cơ_chế sửa_chữa ADN trong tế_bào - vật_chất di_truyền cơ_bản của mọi sinh_vật sống .\n",
      "(('__label__The_gioi',), array([0.74867791]))\n",
      "===================\n",
      "\n",
      "__label__The_gioi Mặt_hàng ống thép chất đầy cảng biển ở thành_phố Liên_Vân Cảng , tỉnh Giang_Tô , Trung_Quốc - Ảnh : REUTERS Ngay từ khi nổ ra cuộc_chiến thương_mại , Trung_Quốc đã tìm_kiếm các biện_pháp tương_xứng để đáp trả .\n",
      "(('__label__The_gioi',), array([0.59700692]))\n",
      "===================\n",
      "\n",
      "__label__The_gioi - N nghiên_cứu ADN chữa ung_thư Giải_thưởng Nobel_hóa học được trao cho Tomas_Lindahl , Paul_Modrich và Aziz_Sancar vì công_trình nghiên_cứu về cơ_chế sửa_chữa ADN trong tế_bào - vật_chất di_truyền cơ_bản của mọi sinh_vật sống .\n",
      "(('__label__The_gioi',), array([0.65934187]))\n",
      "===================\n",
      "\n",
      "__label__The_gioi Tính đến 9h35 ngày 29 - 1 ( giờ Việt_Nam ) , Ủy_ban Y_tế quốc_gia Trung_Quốc xác_nhận số ca nhiễm virus corona là 5.974 ca ( thêm 1.400 ca mới ) và .\n",
      "(('__label__The_gioi',), array([0.88994062]))\n",
      "===================\n",
      "\n",
      "__label__The_gioi Song ông cho rằng việc kéo_dài thời_gian phong_tỏa thêm 3 tuần nữa là \" quyết_định khó_khăn nhưng cần_thiết mà tôi hoàn_toàn chịu trách_nhiệm chính_trị \" .\n",
      "(('__label__Tai_chinh_quoc_te',), array([0.26229131]))\n",
      "===================\n",
      "\n",
      "__label__Cong_nghe Chỉ cần đọc lướt qua thông_báo chính_sách mới của Facebook , bất_cứ người đọc nào cũng có_thể_hình_dung được mức_độ khó_khăn của công_việc mà các nhân_viên điều_phối nội_dung trên nền_tảng này phải đối_mặt .\n",
      "(('__label__Cong_nghe',), array([0.89765996]))\n",
      "===================\n",
      "\n",
      "__label__The_gioi Các nhà nghiên_cứu đã đi_sâu vào cách con_người hiểu những phát_ngôn vô_nghĩa được bọc dưới lớp vỏ có_nghĩa , bằng cách ghép những từ_thông_dụng một_cách ngẫu_nhiên thành những cấu_trúc câu đúng ngữ_pháp nhưng lại nghe vô_nghĩa .\n",
      "(('__label__Cong_nghe',), array([0.38616005]))\n",
      "===================\n",
      "\n",
      "__label__Cong_nghe TTO - Tên_lửa Falcon 9 của công_ty SpaceX vừa được phóng vào quỹ_đạo với một sứ_mệnh đặc_biệt : mang tinh_trùng lên nghiên_cứu tại Trạm vũ_trụ quốc_tế ( ISS ) .\n",
      "(('__label__The_gioi',), array([0.60359621]))\n",
      "===================\n",
      "\n",
      "__label__The_gioi Từ ngày 1 - 2 , Nhật_Bản cấm các công_dân nước_ngoài từng đến Hồ_Bắc ( Trung_Quốc ) trong những tuần gần đây , cũng như những người mang hộ_chiếu Trung_Quốc được cấp ở Hồ_Bắc .\n",
      "(('__label__The_gioi',), array([0.50086474]))\n",
      "===================\n",
      "\n",
      "__label__Cong_nghe Không chỉ AAG , theo thông_tin từ nhà mạng Viettel , hai tuyến khác là IA và AAE - 1 cũng đang gặp sự_cố .\n",
      "(('__label__Cong_nghe',), array([0.99533617]))\n",
      "===================\n",
      "\n",
      "__label__The_gioi Năm 2017 , nhà chức_trách Hà_Lan cũng bắt các nghi phạm liên_quan tới hãng điện_thoại PGP Safe với cáo_buộc tương_tự .\n",
      "(('__label__Cong_nghe',), array([0.73739332]))\n",
      "===================\n",
      "\n",
      "__label__The_gioi Ông chỉ cho biết \" cả 2 phía đã trao_đổi đáng_kể về sự sắp_xếp công_việc cho giai_đoạn tiếp_theo \" .\n",
      "(('__label__Cong_nghe',), array([0.48350447]))\n",
      "===================\n",
      "\n",
      "__label__The_gioi TTO - Tổng_thống Mỹ Donald_Trump và Phó_thủ_tướng Trung_Quốc Lưu_Hạc đã cùng ký_kết thỏa_thuận thương_mại giai_đoạn 1 tại Washington trưa 15 - 1 đánh_dấu sự ngưng chiến sau hơn 18 tháng ăn miếng trả_miếng .\n",
      "(('__label__Kinh_doanh',), array([0.69101626]))\n",
      "===================\n",
      "\n",
      "__label__Benh_dich Hiện thành_phố công_bố không có công_dân địa_phương cũng như người Trung_Quốc sinh_sống , làm_việc tại Hải Phòng_bị mắc nCoV .\n",
      "(('__label__The_gioi',), array([0.32617211]))\n",
      "===================\n",
      "\n",
      "__label__The_gioi * Nhà_khoa_học Edvard Moser sinh năm 1962 tại Ålesund , Na_Uy .\n",
      "(('__label__The_gioi',), array([0.41854346]))\n",
      "===================\n",
      "\n",
      "__label__The_gioi Đầu_tiên là chế_tạo tên_lửa và bay thử .\n",
      "(('__label__The_gioi',), array([0.5810588]))\n",
      "===================\n",
      "\n",
      "__label__The_gioi Mỹ đưa Huawei vào danh_sách_đen vì quan_ngại an_ninh và mối liên_kết giữa công_ty này với chính_phủ Bắc_Kinh - Ảnh : AFP \" Chính_phủ Ý có chính_sách linh_động và cởi_mở , không bị ảnh_hưởng bởi các vấn_đề giữa Mỹ và Trung_Quốc \" - ông Miao phát_biểu trong cuộc họp_báo ngày 15 - 7 ở Milan .\n",
      "(('__label__Cong_nghe',), array([0.44806731]))\n",
      "===================\n",
      "\n",
      "__label__The_gioi Quá_trình xét_duyệt dự_tính có_thể kéo_dài khoảng 3 tháng .\n",
      "(('__label__The_gioi',), array([0.25020164]))\n",
      "===================\n",
      "\n",
      "__label__Cong_nghe \" Trung_Quốc đã thử_nghiệm các thiết_bị cài_đặt hệ điều_hành Aurora \" , nguồn tin từ tờ cho biết .\n",
      "(('__label__Cong_nghe',), array([0.91058278]))\n",
      "===================\n",
      "\n",
      "__label__The_gioi - Đại_sứ Trung_Quốc nói , cảnh_báo thêm rằng lượng du_học_sinh Trung_Quốc đến Úc cũng có_thể bị ảnh_hưởng .\n",
      "(('__label__The_gioi',), array([0.78146082]))\n",
      "===================\n",
      "\n",
      "__label__The_gioi ( TTO - Số_liệu cập_nhật ngày 13 - 2 được công_bố chậm gần 2 tiếng so với những ngày trước đó và khiến nhiều người giật_mình bởi số ca nhiễm Covid - 19 mới tăng gấp 9 lần , số ca tử_vong cũng tăng gần gấp 3 lần .\n",
      "(('__label__The_gioi',), array([0.49991667]))\n",
      "===================\n",
      "\n",
      "__label__The_gioi Các trường múa vẫn thể_hiện hết khả_năng sáng_tạo cùng sắc_đẹp của các nữ vũ_công để_dành lấy tiếng_tăm .\n",
      "(('__label__Doanh_nghiep',), array([0.33480117]))\n",
      "===================\n",
      "\n",
      "__label__The_gioi Ngoài_ra , những người không thích sở_hữu xe có_thể liên_tục đổi TTO - Cục Cảnh_sát giao_thông đang nghiên_cứu đề_xuất hoàn_thiện quy_định xử_lý nghiêm các trường_hợp mua_bán xe , sang_tên đổi chủ mà không nộp lại giấy đăng_ký để nâng cao hiệu_quả trong việc xử_phạt qua hệ_thống camera giám_sát .\n",
      "(('__label__Chia_se_kien_thuc',), array([0.46977282]))\n",
      "===================\n",
      "\n",
      "__label__The_gioi Chúng_ta sẽ trao_đổi thẳng_thắn , cởi_mở về các thách_thức an_ninh mà thế_giới , khu_vực và đặc_biệt ASEAN đang phải đối_mặt \" .\n",
      "(('__label__Cong_nghe',), array([0.48532349]))\n",
      "===================\n",
      "\n",
      "__label__The_gioi Thượng_nghị_sĩ Đảng Dân_chủ Kamala_Harris - Ảnh chụp màn_hình Fox News Báo ngày 4 - 10 cho biết trong một bức thư gửi giám_đốc điều_hành Jack Dorsey của đề ngày 1 - 10 , bà Kamala_Harris - thượng nghị_sĩ và là ứng_viên tổng_thống của Đảng Dân_chủ , đã kêu_gọi khóa tài_khoản Twitter của Tổng_thống Mỹ Donald_Trump .\n",
      "(('__label__The_gioi',), array([0.45310614]))\n",
      "===================\n",
      "\n",
      "__label__The_gioi Đồ_họa : NGỌC THÀNH Dẫn lại số_liệu từ Bộ Y_tế Nhật_Bản , truyền_thông nước này cho biết có thêm 99 người trên du_thuyền Diamond Princess nhiễm virus corona chủng mới .\n",
      "(('__label__The_gioi',), array([0.95407653]))\n",
      "===================\n",
      "\n",
      "__label__The_gioi Tài_khoản Twitter phát_tán những thông_tin cá_nhân của các chính_trị_gia Đức của tin_tặc 20 tuổi - Ảnh : EPA - EFE Đài_DW ( Đức ) dẫn thông_báo của cảnh_sát điều_tra liên_bang Đức ( BKA ) cho biết thanh_niên 20 tuổi ( không nêu tên ) này hành_động một_mình , không có dấu_hiệu cho thấy có ai khác hoặc một chính_phủ nước_ngoài nào liên_quan .\n",
      "(('__label__Cong_nghe',), array([0.59067237]))\n",
      "===================\n",
      "\n",
      "__label__The_gioi Về các vấn_đề quốc_tế và khu_vực , hai bên nhất_trí tiếp_tục phối_hợp chặt_chẽ và hợp_tác hiệu_quả trên các cơ_chế đa_phương như Liên_Hiệp_Quốc , ASEAN , APEC , ASEM , Mekong - Hàn_Quốc ; hoan_nghênh những nỗ_lực nhằm thúc_đẩy đối_thoại và giải_quyết hòa bình vấn_đề hạt_nhân Triều_Tiên , ủng_hộ việc duy_trì hòa bình , an_ninh ổn_định , giải_quyết các tranh_chấp bằng biện_pháp hòa bình ở Biển_Đông phù_hợp luật_pháp quốc_tế .\n",
      "(('__label__Chia_se_kien_thuc',), array([0.34413686]))\n",
      "===================\n",
      "\n",
      "__label__The_gioi Trước ngày khai_mạc , báo_chí Trung_Quốc đưa tin chính_quyền nước này ra_lệnh cấm ngặt chuyện người_mẫu “ khoe hàng ” tại SIAIE nhằm “ tạo môi_trường trật_tự , sạch_sẽ và an_toàn , chấm_dứt mọi hiện_tượng phản_cảm ” .\n",
      "(('__label__Chia_se_kien_thuc',), array([0.7357114]))\n",
      "===================\n",
      "\n",
      "__label__The_gioi Khác với con_người , sở_thích giới_tính của các loài bốn chân và lông_vũ diễn ra rất bình_thường .\n",
      "(('__label__Chia_se_kien_thuc',), array([0.37189525]))\n",
      "===================\n",
      "\n",
      "__label__The_gioi Trong số các ca nhiễm mới , 7 ca là từ nước_ngoài trở về , 5 ca ở thành_phố Vũ_Hán .\n",
      "(('__label__The_gioi',), array([0.9715271]))\n",
      "===================\n",
      "\n"
     ]
    }
   ],
   "source": [
    "\n",
    "with open('news.valid.txt','r') as f:\n",
    "  a = f.readlines()  \n",
    "  random.shuffle(a) \n",
    "  for i in a[100:140]: \n",
    "    txt = ' '.join(i.split(' ')[1:]).replace('\\n','')\n",
    "    label = i.split(' ')[0]\n",
    "    print(label,txt)\n",
    "    print(model.predict(txt))\n",
    "    print('===================\\n')"
   ]
  },
  {
   "cell_type": "code",
   "execution_count": null,
   "metadata": {
    "colab": {
     "base_uri": "https://localhost:8080/",
     "height": 34
    },
    "colab_type": "code",
    "id": "kHLBLk9z3T0P",
    "outputId": "38496316-9d69-4409-cae9-bec6bd4e432b"
   },
   "outputs": [
    {
     "data": {
      "text/plain": [
       "(('__label__Giao_duc',), array([0.59696656]))"
      ]
     },
     "execution_count": 105,
     "metadata": {
      "tags": []
     },
     "output_type": "execute_result"
    }
   ],
   "source": [
    "model.predict(\"Chưa năm nào các trường đại học sử dụng nhiều phương thức tuyển sinh và giảm mạnh chỉ tiêu xét điểm kỳ thi chung như năm nay. Thay đổi này khiến thí sinh cần cân nhắc nhiều hơn trong việc lựa chọn phương thức xét tuyển. ?\")"
   ]
  }
 ],
 "metadata": {
  "accelerator": "GPU",
  "colab": {
   "collapsed_sections": [],
   "name": "Fast text",
   "provenance": []
  },
  "kernelspec": {
   "display_name": "Python 3 (ipykernel)",
   "language": "python",
   "name": "python3"
  },
  "language_info": {
   "codemirror_mode": {
    "name": "ipython",
    "version": 3
   },
   "file_extension": ".py",
   "mimetype": "text/x-python",
   "name": "python",
   "nbconvert_exporter": "python",
   "pygments_lexer": "ipython3",
   "version": "3.7.11"
  },
  "widgets": {
   "application/vnd.jupyter.widget-state+json": {
    "02da955dbf994830a60946210e31259c": {
     "model_module": "@jupyter-widgets/controls",
     "model_name": "FloatProgressModel",
     "state": {
      "_dom_classes": [],
      "_model_module": "@jupyter-widgets/controls",
      "_model_module_version": "1.5.0",
      "_model_name": "FloatProgressModel",
      "_view_count": null,
      "_view_module": "@jupyter-widgets/controls",
      "_view_module_version": "1.5.0",
      "_view_name": "ProgressView",
      "bar_style": "danger",
      "description": "build dataset:   0%",
      "description_tooltip": null,
      "layout": "IPY_MODEL_d184a574473646059ad3aed8a3518e1c",
      "max": 24852,
      "min": 0,
      "orientation": "horizontal",
      "style": "IPY_MODEL_1d5b6e639e704ba3871b0228764b09b7",
      "value": 28
     }
    },
    "05c3165db36f462bb1ce0302b7800a79": {
     "model_module": "@jupyter-widgets/base",
     "model_name": "LayoutModel",
     "state": {
      "_model_module": "@jupyter-widgets/base",
      "_model_module_version": "1.2.0",
      "_model_name": "LayoutModel",
      "_view_count": null,
      "_view_module": "@jupyter-widgets/base",
      "_view_module_version": "1.2.0",
      "_view_name": "LayoutView",
      "align_content": null,
      "align_items": null,
      "align_self": null,
      "border": null,
      "bottom": null,
      "display": null,
      "flex": null,
      "flex_flow": null,
      "grid_area": null,
      "grid_auto_columns": null,
      "grid_auto_flow": null,
      "grid_auto_rows": null,
      "grid_column": null,
      "grid_gap": null,
      "grid_row": null,
      "grid_template_areas": null,
      "grid_template_columns": null,
      "grid_template_rows": null,
      "height": null,
      "justify_content": null,
      "justify_items": null,
      "left": null,
      "margin": null,
      "max_height": null,
      "max_width": null,
      "min_height": null,
      "min_width": null,
      "object_fit": null,
      "object_position": null,
      "order": null,
      "overflow": null,
      "overflow_x": null,
      "overflow_y": null,
      "padding": null,
      "right": null,
      "top": null,
      "visibility": null,
      "width": null
     }
    },
    "1d5b6e639e704ba3871b0228764b09b7": {
     "model_module": "@jupyter-widgets/controls",
     "model_name": "ProgressStyleModel",
     "state": {
      "_model_module": "@jupyter-widgets/controls",
      "_model_module_version": "1.5.0",
      "_model_name": "ProgressStyleModel",
      "_view_count": null,
      "_view_module": "@jupyter-widgets/base",
      "_view_module_version": "1.2.0",
      "_view_name": "StyleView",
      "bar_color": null,
      "description_width": "initial"
     }
    },
    "2c41adf375014484a2a64fb09de94bca": {
     "model_module": "@jupyter-widgets/controls",
     "model_name": "ProgressStyleModel",
     "state": {
      "_model_module": "@jupyter-widgets/controls",
      "_model_module_version": "1.5.0",
      "_model_name": "ProgressStyleModel",
      "_view_count": null,
      "_view_module": "@jupyter-widgets/base",
      "_view_module_version": "1.2.0",
      "_view_name": "StyleView",
      "bar_color": null,
      "description_width": "initial"
     }
    },
    "31ba61122306473fb3ce6d6d55cf0807": {
     "model_module": "@jupyter-widgets/controls",
     "model_name": "DescriptionStyleModel",
     "state": {
      "_model_module": "@jupyter-widgets/controls",
      "_model_module_version": "1.5.0",
      "_model_name": "DescriptionStyleModel",
      "_view_count": null,
      "_view_module": "@jupyter-widgets/base",
      "_view_module_version": "1.2.0",
      "_view_name": "StyleView",
      "description_width": ""
     }
    },
    "40c189d1ad2d437ebea24f2c91b1c3cb": {
     "model_module": "@jupyter-widgets/controls",
     "model_name": "HBoxModel",
     "state": {
      "_dom_classes": [],
      "_model_module": "@jupyter-widgets/controls",
      "_model_module_version": "1.5.0",
      "_model_name": "HBoxModel",
      "_view_count": null,
      "_view_module": "@jupyter-widgets/controls",
      "_view_module_version": "1.5.0",
      "_view_name": "HBoxView",
      "box_style": "",
      "children": [
       "IPY_MODEL_02da955dbf994830a60946210e31259c",
       "IPY_MODEL_cb7c5fa311e84f67ba26e27bc82ef92c"
      ],
      "layout": "IPY_MODEL_feaa2c3121824a1399698875522dbbff"
     }
    },
    "95a6893a19144e739bacf4de781d72b0": {
     "model_module": "@jupyter-widgets/controls",
     "model_name": "DescriptionStyleModel",
     "state": {
      "_model_module": "@jupyter-widgets/controls",
      "_model_module_version": "1.5.0",
      "_model_name": "DescriptionStyleModel",
      "_view_count": null,
      "_view_module": "@jupyter-widgets/base",
      "_view_module_version": "1.2.0",
      "_view_name": "StyleView",
      "description_width": ""
     }
    },
    "a06a96779e8144a9b681ab70ce983505": {
     "model_module": "@jupyter-widgets/controls",
     "model_name": "FloatProgressModel",
     "state": {
      "_dom_classes": [],
      "_model_module": "@jupyter-widgets/controls",
      "_model_module_version": "1.5.0",
      "_model_name": "FloatProgressModel",
      "_view_count": null,
      "_view_module": "@jupyter-widgets/controls",
      "_view_module_version": "1.5.0",
      "_view_name": "ProgressView",
      "bar_style": "success",
      "description": "build dataset: 100%",
      "description_tooltip": null,
      "layout": "IPY_MODEL_c101ff642a3145f8b05b4e893c56541b",
      "max": 22649,
      "min": 0,
      "orientation": "horizontal",
      "style": "IPY_MODEL_2c41adf375014484a2a64fb09de94bca",
      "value": 22649
     }
    },
    "c101ff642a3145f8b05b4e893c56541b": {
     "model_module": "@jupyter-widgets/base",
     "model_name": "LayoutModel",
     "state": {
      "_model_module": "@jupyter-widgets/base",
      "_model_module_version": "1.2.0",
      "_model_name": "LayoutModel",
      "_view_count": null,
      "_view_module": "@jupyter-widgets/base",
      "_view_module_version": "1.2.0",
      "_view_name": "LayoutView",
      "align_content": null,
      "align_items": null,
      "align_self": null,
      "border": null,
      "bottom": null,
      "display": null,
      "flex": null,
      "flex_flow": null,
      "grid_area": null,
      "grid_auto_columns": null,
      "grid_auto_flow": null,
      "grid_auto_rows": null,
      "grid_column": null,
      "grid_gap": null,
      "grid_row": null,
      "grid_template_areas": null,
      "grid_template_columns": null,
      "grid_template_rows": null,
      "height": null,
      "justify_content": null,
      "justify_items": null,
      "left": null,
      "margin": null,
      "max_height": null,
      "max_width": null,
      "min_height": null,
      "min_width": null,
      "object_fit": null,
      "object_position": null,
      "order": null,
      "overflow": null,
      "overflow_x": null,
      "overflow_y": null,
      "padding": null,
      "right": null,
      "top": null,
      "visibility": null,
      "width": null
     }
    },
    "c2b90eba86134d079f0feb5a3174925d": {
     "model_module": "@jupyter-widgets/base",
     "model_name": "LayoutModel",
     "state": {
      "_model_module": "@jupyter-widgets/base",
      "_model_module_version": "1.2.0",
      "_model_name": "LayoutModel",
      "_view_count": null,
      "_view_module": "@jupyter-widgets/base",
      "_view_module_version": "1.2.0",
      "_view_name": "LayoutView",
      "align_content": null,
      "align_items": null,
      "align_self": null,
      "border": null,
      "bottom": null,
      "display": null,
      "flex": null,
      "flex_flow": null,
      "grid_area": null,
      "grid_auto_columns": null,
      "grid_auto_flow": null,
      "grid_auto_rows": null,
      "grid_column": null,
      "grid_gap": null,
      "grid_row": null,
      "grid_template_areas": null,
      "grid_template_columns": null,
      "grid_template_rows": null,
      "height": null,
      "justify_content": null,
      "justify_items": null,
      "left": null,
      "margin": null,
      "max_height": null,
      "max_width": null,
      "min_height": null,
      "min_width": null,
      "object_fit": null,
      "object_position": null,
      "order": null,
      "overflow": null,
      "overflow_x": null,
      "overflow_y": null,
      "padding": null,
      "right": null,
      "top": null,
      "visibility": null,
      "width": null
     }
    },
    "cb7c5fa311e84f67ba26e27bc82ef92c": {
     "model_module": "@jupyter-widgets/controls",
     "model_name": "HTMLModel",
     "state": {
      "_dom_classes": [],
      "_model_module": "@jupyter-widgets/controls",
      "_model_module_version": "1.5.0",
      "_model_name": "HTMLModel",
      "_view_count": null,
      "_view_module": "@jupyter-widgets/controls",
      "_view_module_version": "1.5.0",
      "_view_name": "HTMLView",
      "description": "",
      "description_tooltip": null,
      "layout": "IPY_MODEL_c2b90eba86134d079f0feb5a3174925d",
      "placeholder": "​",
      "style": "IPY_MODEL_95a6893a19144e739bacf4de781d72b0",
      "value": " 28/24852 [00:03&lt;48:37,  8.51it/s]"
     }
    },
    "d184a574473646059ad3aed8a3518e1c": {
     "model_module": "@jupyter-widgets/base",
     "model_name": "LayoutModel",
     "state": {
      "_model_module": "@jupyter-widgets/base",
      "_model_module_version": "1.2.0",
      "_model_name": "LayoutModel",
      "_view_count": null,
      "_view_module": "@jupyter-widgets/base",
      "_view_module_version": "1.2.0",
      "_view_name": "LayoutView",
      "align_content": null,
      "align_items": null,
      "align_self": null,
      "border": null,
      "bottom": null,
      "display": null,
      "flex": null,
      "flex_flow": null,
      "grid_area": null,
      "grid_auto_columns": null,
      "grid_auto_flow": null,
      "grid_auto_rows": null,
      "grid_column": null,
      "grid_gap": null,
      "grid_row": null,
      "grid_template_areas": null,
      "grid_template_columns": null,
      "grid_template_rows": null,
      "height": null,
      "justify_content": null,
      "justify_items": null,
      "left": null,
      "margin": null,
      "max_height": null,
      "max_width": null,
      "min_height": null,
      "min_width": null,
      "object_fit": null,
      "object_position": null,
      "order": null,
      "overflow": null,
      "overflow_x": null,
      "overflow_y": null,
      "padding": null,
      "right": null,
      "top": null,
      "visibility": null,
      "width": null
     }
    },
    "d6f2090a776c4c959fc8369e78f75ae5": {
     "model_module": "@jupyter-widgets/base",
     "model_name": "LayoutModel",
     "state": {
      "_model_module": "@jupyter-widgets/base",
      "_model_module_version": "1.2.0",
      "_model_name": "LayoutModel",
      "_view_count": null,
      "_view_module": "@jupyter-widgets/base",
      "_view_module_version": "1.2.0",
      "_view_name": "LayoutView",
      "align_content": null,
      "align_items": null,
      "align_self": null,
      "border": null,
      "bottom": null,
      "display": null,
      "flex": null,
      "flex_flow": null,
      "grid_area": null,
      "grid_auto_columns": null,
      "grid_auto_flow": null,
      "grid_auto_rows": null,
      "grid_column": null,
      "grid_gap": null,
      "grid_row": null,
      "grid_template_areas": null,
      "grid_template_columns": null,
      "grid_template_rows": null,
      "height": null,
      "justify_content": null,
      "justify_items": null,
      "left": null,
      "margin": null,
      "max_height": null,
      "max_width": null,
      "min_height": null,
      "min_width": null,
      "object_fit": null,
      "object_position": null,
      "order": null,
      "overflow": null,
      "overflow_x": null,
      "overflow_y": null,
      "padding": null,
      "right": null,
      "top": null,
      "visibility": null,
      "width": null
     }
    },
    "e07bd3d6d2604ec4803709def6bf3738": {
     "model_module": "@jupyter-widgets/controls",
     "model_name": "HTMLModel",
     "state": {
      "_dom_classes": [],
      "_model_module": "@jupyter-widgets/controls",
      "_model_module_version": "1.5.0",
      "_model_name": "HTMLModel",
      "_view_count": null,
      "_view_module": "@jupyter-widgets/controls",
      "_view_module_version": "1.5.0",
      "_view_name": "HTMLView",
      "description": "",
      "description_tooltip": null,
      "layout": "IPY_MODEL_05c3165db36f462bb1ce0302b7800a79",
      "placeholder": "​",
      "style": "IPY_MODEL_31ba61122306473fb3ce6d6d55cf0807",
      "value": " 22649/22649 [08:21&lt;00:00, 45.15it/s]"
     }
    },
    "e4c53605d4bc49fa99f4775de47e158d": {
     "model_module": "@jupyter-widgets/controls",
     "model_name": "HBoxModel",
     "state": {
      "_dom_classes": [],
      "_model_module": "@jupyter-widgets/controls",
      "_model_module_version": "1.5.0",
      "_model_name": "HBoxModel",
      "_view_count": null,
      "_view_module": "@jupyter-widgets/controls",
      "_view_module_version": "1.5.0",
      "_view_name": "HBoxView",
      "box_style": "",
      "children": [
       "IPY_MODEL_a06a96779e8144a9b681ab70ce983505",
       "IPY_MODEL_e07bd3d6d2604ec4803709def6bf3738"
      ],
      "layout": "IPY_MODEL_d6f2090a776c4c959fc8369e78f75ae5"
     }
    },
    "feaa2c3121824a1399698875522dbbff": {
     "model_module": "@jupyter-widgets/base",
     "model_name": "LayoutModel",
     "state": {
      "_model_module": "@jupyter-widgets/base",
      "_model_module_version": "1.2.0",
      "_model_name": "LayoutModel",
      "_view_count": null,
      "_view_module": "@jupyter-widgets/base",
      "_view_module_version": "1.2.0",
      "_view_name": "LayoutView",
      "align_content": null,
      "align_items": null,
      "align_self": null,
      "border": null,
      "bottom": null,
      "display": null,
      "flex": null,
      "flex_flow": null,
      "grid_area": null,
      "grid_auto_columns": null,
      "grid_auto_flow": null,
      "grid_auto_rows": null,
      "grid_column": null,
      "grid_gap": null,
      "grid_row": null,
      "grid_template_areas": null,
      "grid_template_columns": null,
      "grid_template_rows": null,
      "height": null,
      "justify_content": null,
      "justify_items": null,
      "left": null,
      "margin": null,
      "max_height": null,
      "max_width": null,
      "min_height": null,
      "min_width": null,
      "object_fit": null,
      "object_position": null,
      "order": null,
      "overflow": null,
      "overflow_x": null,
      "overflow_y": null,
      "padding": null,
      "right": null,
      "top": null,
      "visibility": null,
      "width": null
     }
    }
   }
  }
 },
 "nbformat": 4,
 "nbformat_minor": 1
}
