{
 "cells": [
  {
   "cell_type": "code",
   "execution_count": 1,
   "metadata": {
    "colab": {
     "base_uri": "https://localhost:8080/",
     "height": 125
    },
    "colab_type": "code",
    "id": "I4EdyckDRmI2",
    "outputId": "c32fafbc-c538-4f5d-80ec-7b8e1e34cda5"
   },
   "outputs": [
    {
     "name": "stdout",
     "output_type": "stream",
     "text": [
      "Go to this URL in a browser: https://accounts.google.com/o/oauth2/auth?client_id=947318989803-6bn6qk8qdgf4n4g3pfee6491hc0brc4i.apps.googleusercontent.com&redirect_uri=urn%3aietf%3awg%3aoauth%3a2.0%3aoob&response_type=code&scope=email%20https%3a%2f%2fwww.googleapis.com%2fauth%2fdocs.test%20https%3a%2f%2fwww.googleapis.com%2fauth%2fdrive%20https%3a%2f%2fwww.googleapis.com%2fauth%2fdrive.photos.readonly%20https%3a%2f%2fwww.googleapis.com%2fauth%2fpeopleapi.readonly\n",
      "\n",
      "Enter your authorization code:\n",
      "··········\n",
      "Mounted at /content/drive\n"
     ]
    }
   ],
   "source": [
    "from google.colab import drive\n",
    "drive.mount('/content/drive')"
   ]
  },
  {
   "cell_type": "code",
   "execution_count": 2,
   "metadata": {
    "colab": {
     "base_uri": "https://localhost:8080/",
     "height": 496
    },
    "colab_type": "code",
    "id": "fb7nXyxPQQHm",
    "outputId": "5fa407c9-01c2-4798-9560-54d5b19cebb6"
   },
   "outputs": [
    {
     "name": "stdout",
     "output_type": "stream",
     "text": [
      "/content/drive/My Drive/NLP/WordSmi/Word2Vec\n",
      "Collecting pyvi\n",
      "\u001b[?25l  Downloading https://files.pythonhosted.org/packages/10/e1/0e5bc6b5e3327b9385d6e0f1b0a7c0404f28b74eb6db59a778515b30fd9c/pyvi-0.1-py2.py3-none-any.whl (8.5MB)\n",
      "\u001b[K     |████████████████████████████████| 8.5MB 3.2MB/s \n",
      "\u001b[?25hRequirement already satisfied: scikit-learn in /usr/local/lib/python3.6/dist-packages (from pyvi) (0.22.2.post1)\n",
      "Collecting sklearn-crfsuite\n",
      "  Downloading https://files.pythonhosted.org/packages/25/74/5b7befa513482e6dee1f3dd68171a6c9dfc14c0eaa00f885ffeba54fe9b0/sklearn_crfsuite-0.3.6-py2.py3-none-any.whl\n",
      "Requirement already satisfied: numpy>=1.11.0 in /usr/local/lib/python3.6/dist-packages (from scikit-learn->pyvi) (1.18.5)\n",
      "Requirement already satisfied: scipy>=0.17.0 in /usr/local/lib/python3.6/dist-packages (from scikit-learn->pyvi) (1.4.1)\n",
      "Requirement already satisfied: joblib>=0.11 in /usr/local/lib/python3.6/dist-packages (from scikit-learn->pyvi) (0.15.1)\n",
      "Requirement already satisfied: six in /usr/local/lib/python3.6/dist-packages (from sklearn-crfsuite->pyvi) (1.12.0)\n",
      "Collecting python-crfsuite>=0.8.3\n",
      "\u001b[?25l  Downloading https://files.pythonhosted.org/packages/95/99/869dde6dbf3e0d07a013c8eebfb0a3d30776334e0097f8432b631a9a3a19/python_crfsuite-0.9.7-cp36-cp36m-manylinux1_x86_64.whl (743kB)\n",
      "\u001b[K     |████████████████████████████████| 747kB 39.0MB/s \n",
      "\u001b[?25hRequirement already satisfied: tqdm>=2.0 in /usr/local/lib/python3.6/dist-packages (from sklearn-crfsuite->pyvi) (4.41.1)\n",
      "Requirement already satisfied: tabulate in /usr/local/lib/python3.6/dist-packages (from sklearn-crfsuite->pyvi) (0.8.7)\n",
      "Installing collected packages: python-crfsuite, sklearn-crfsuite, pyvi\n",
      "Successfully installed python-crfsuite-0.9.7 pyvi-0.1 sklearn-crfsuite-0.3.6\n",
      "Collecting overrides\n",
      "  Downloading https://files.pythonhosted.org/packages/ff/b1/10f69c00947518e6676bbd43e739733048de64b8dd998e9c2d5a71f44c5d/overrides-3.1.0.tar.gz\n",
      "Building wheels for collected packages: overrides\n",
      "  Building wheel for overrides (setup.py) ... \u001b[?25l\u001b[?25hdone\n",
      "  Created wheel for overrides: filename=overrides-3.1.0-cp36-none-any.whl size=10174 sha256=59672c3458f1390129f69b29be7cbbce79ee7a34e51631321001fb124af98799\n",
      "  Stored in directory: /root/.cache/pip/wheels/5c/24/13/6ef8600e6f147c95e595f1289a86a3cc82ed65df57582c65a9\n",
      "Successfully built overrides\n",
      "Installing collected packages: overrides\n",
      "Successfully installed overrides-3.1.0\n"
     ]
    }
   ],
   "source": [
    "%cd /content/drive/My Drive/NLP/WordSmi/Word2Vec\n",
    "!pip install pyvi\n",
    "!pip install overrides\n",
    "import pickle as cPickle   \n",
    "from tqdm import tqdm\n",
    "import numpy as np \n",
    "import random\n",
    "import os\n",
    "from pyvi import ViTokenizer "
   ]
  },
  {
   "cell_type": "code",
   "execution_count": 3,
   "metadata": {
    "colab": {},
    "colab_type": "code",
    "id": "9CY1Wlht0TMX"
   },
   "outputs": [],
   "source": [
    "\n",
    "class FileStore(object):\n",
    "    def __init__(self, file_path, data = None):\n",
    "        self.file_path = file_path\n",
    "        self.data = data\n",
    "\n",
    "    def store_json(self):\n",
    "        print(\"Save: \",self.file_path)\n",
    "        with open(self.file_path, 'w') as outfile:\n",
    "            json.dump(self.data, outfile)\n",
    "\n",
    "    # store dictionary: https://radimrehurek.com/gensim/corpora/dictionary.html#gensim.corpora.dictionary.Dictionary.filter_extremes\n",
    "    # dict_word là mãng chữa các đoạn text đã được segmentation [[cá, con, ăn],[con, mèo],[con, chó, chạy, qua]]\n",
    "    # len của dictionary sẽ là 7 \n",
    "    # no_above là tần suất xuất hiện trên số phần trăm ví dụ: no_above = 0.5 là tần suất xuất hiện không được trên (phải dưới) của tổng số tài liệu 50%\n",
    "    # no_below là số lần xuất hiện không được dưới ... ví dụ no_below = 2 là số lần xuất hiện trong từng tài liệu không được dưới 2\n",
    "    def store_dictionary(self, dict_words):\n",
    "        dictionary = corpora.Dictionary(dict_words)\n",
    "        dictionary.filter_extremes(no_below=170, no_above=0.3) \n",
    "        dictionary.save_as_text(self.file_path)\n",
    " \n",
    "\n",
    "    def save_pickle(self,  obj):\n",
    "        outfile = open(self.file_path, 'wb')\n",
    "        fastPickler = cPickle.Pickler(outfile, 4)\n",
    "        fastPickler.fast = 1\n",
    "        fastPickler.dump(obj)\n",
    "        outfile.close()"
   ]
  },
  {
   "cell_type": "code",
   "execution_count": 4,
   "metadata": {
    "colab": {},
    "colab_type": "code",
    "id": "wSxNDkI-QQHq"
   },
   "outputs": [],
   "source": [
    "# tạo class đọc file \n",
    "class FileReader(object):\n",
    "    def __init__(self, file_path, encoder = None):\n",
    "        self.file_path = file_path\n",
    "        self.encoder = encoder if encoder != None else 'utf-16le'\n",
    "\n",
    "    def read(self):\n",
    "        with open(self.file_path,'rb',encoding ='utf-8') as f:\n",
    "            s = f.read() \n",
    "        return s\n",
    "\n",
    "    def content(self):\n",
    "        s = self.read() \n",
    "        return s.decode(self.encoder)\n",
    "\n",
    "    def read_json(self):\n",
    "        with open(self.file_path) as f:\n",
    "            s = json.load(f)\n",
    "        return s\n",
    "        \n",
    "    def read_stopwords(self):\n",
    "        with open(self.file_path, 'r',encoding ='utf-8') as f:\n",
    "            stopwords = set([w.strip().replace(' ', '_') for w in f.readlines()])\n",
    "        return stopwords\n",
    "      \n",
    "    def load_estimator(self): \n",
    "        with open(self.file_path, mode='rb') as f:\n",
    "            estimator = cPickle.load(f)\n",
    "            f.close()\n",
    "        return estimator"
   ]
  },
  {
   "cell_type": "code",
   "execution_count": 5,
   "metadata": {
    "colab": {},
    "colab_type": "code",
    "id": "AgFMEOIiQQHt"
   },
   "outputs": [],
   "source": [
    "DATA_TRAIN_JSON = '/content/drive/My Drive/NLP/WordSmi/ELMO/dataset/train.json'\n",
    "STOP_WORDS = '/content/drive/My Drive/NLP/WordSmi/ELMO/dataset/stopwords-nlp-vi.txt'\n",
    "SPECIAL_CHARACTER = '0123456789%@$.,=+-!;/()*\"&^:#|\\n\\t\\''\n",
    "DICTIONARY_PATH = '/content/drive/My Drive/NLP/nlp_me/dictionary.txt'"
   ]
  },
  {
   "cell_type": "markdown",
   "metadata": {
    "colab_type": "text",
    "id": "GEXufl_ZQQHw"
   },
   "source": [
    "Đọc file train"
   ]
  },
  {
   "cell_type": "code",
   "execution_count": 6,
   "metadata": {
    "colab": {},
    "colab_type": "code",
    "id": "s7B_VvP5QQH1"
   },
   "outputs": [],
   "source": [
    "# xây dựng class NLP extends từ pyvi để extract feature \n",
    "class NLP(object):\n",
    "    def __init__(self, text = None):\n",
    "        self.text = text\n",
    "        self.__set_stopwords()\n",
    "\n",
    "    #đọc file stop_word đã chứa sẵn trong đường dẫn\n",
    "    def __set_stopwords(self):\n",
    "        self.stopwords = FileReader(STOP_WORDS).read_stopwords()\n",
    "\n",
    "    # vì trong câu sẽ xuất hiện rất nhiều từ vô nghĩa, sẽ làm noise dữ liệu cho nên phải segmentation trước khi train. Sử dụng ViTokenizer từ Pyvi \n",
    "    # để tokenize (đây là một model do người việt đã làm để segmentation tiếng việt)\n",
    "    def segmentation(self):\n",
    "        return ViTokenizer.tokenize(self.text)\n",
    "\n",
    "    # loại bỏ kí tự đặc biệt, lowercase và segmentation tiếng việt\n",
    "    def split_words(self):\n",
    "        text = self.segmentation()\n",
    "        try:\n",
    "            return [x.strip(SPECIAL_CHARACTER).lower() for x in text.split()]\n",
    "        except TypeError:\n",
    "            return []\n",
    "\n",
    "    # get feature trong câu gồm hai bước \n",
    "    # loại bỏ kí tự đặc biệt và loại bỏ stop_words - stop_word là những từ vô nghĩa không mang lại hiệu quả train \n",
    "    def get_words_feature(self):\n",
    "        split_words = self.split_words()\n",
    "        return [word for word in split_words if word.encode('utf-8') not in self.stopwords]\n"
   ]
  },
  {
   "cell_type": "code",
   "execution_count": 6,
   "metadata": {
    "colab": {},
    "colab_type": "code",
    "id": "6GHofZNjQQH4"
   },
   "outputs": [],
   "source": []
  },
  {
   "cell_type": "code",
   "execution_count": null,
   "metadata": {
    "colab": {},
    "colab_type": "code",
    "id": "HUd9EB27QQH7"
   },
   "outputs": [],
   "source": [
    "word_not_in_vocab = []\n",
    "class FeatureExtraction(object):\n",
    "    def __init__(self, data=None, build_dic=False):\n",
    "        self.data = data\n",
    "        self.build_dic = build_dic\n",
    "\n",
    "    # build từ điển gồm các từ xuất hiện trong văn bản sau khi đã preprocess dữ liệu \n",
    "    def __build_dictionary(self):\n",
    "        print('Building dictionary')\n",
    "        dict_words = []  \n",
    "        for i in tqdm(range(len(self.data)), desc='build dictionary'): \n",
    "            if self.data[i]['category'].split('.')[0] != 'My': \n",
    "                words = NLP(text = self.data[i]['content']).split_words()\n",
    "                dict_words.append(words)  \n",
    "        FileStore(file_path=DICTIONARY_PATH).store_dictionary(dict_words)\n",
    "\n",
    "    # load từ điển đã xây dựng theo dữ liệu train\n",
    "    def __load_dictionary(self):\n",
    "        if os.path.exists(DICTIONARY_PATH) == False or self.build_dic == True: \n",
    "            print(\"Dictionary is not exist\")\n",
    "            self.__build_dictionary() \n",
    "            self.build_dic = False\n",
    "        \n",
    "        self.dictionary = FileReader(DICTIONARY_PATH).load_dictionary()\n",
    "    # extract feature từ từ điển đã tạo cùng với label\n",
    "    # x sẽ là word2vec, y là label\n",
    "    def __build_dataset(self):\n",
    "        self.features = []\n",
    "        self.labels = [] \n",
    "        error = 0\n",
    "        for i in tqdm(range(len(self.data)), desc='build dataset'): \n",
    "            try:\n",
    "                content = self.get_dense(self.data[i]['content'])\n",
    "                self.features.append(content)\n",
    "                self.labels.append(self.data[i]['category'])\n",
    "            except:\n",
    "                print(\"error\",error)\n",
    "                error+=1\n",
    "                continue \n",
    "        print('Total:',error,'paragraph')\n",
    "\n",
    "    def get_dense(self, text):\n",
    "        words = NLP(text).get_words_feature()\n",
    "        vec = []\n",
    "        for w in words:\n",
    "            try:\n",
    "                vec.append(word2vec_model[w])\n",
    "            except:\n",
    "                if w not in word_not_in_vocab:\n",
    "                    word_not_in_vocab.append(w)\n",
    "        return np.sum(vec, axis=0)\n",
    "\n",
    "    def get_data_and_label(self):\n",
    "        print(\"** Start build dataset\")\n",
    "        self.__build_dataset()  \n",
    "        return self.features, self.labels"
   ]
  },
  {
   "cell_type": "code",
   "execution_count": null,
   "metadata": {
    "colab": {
     "base_uri": "https://localhost:8080/",
     "height": 34
    },
    "colab_type": "code",
    "id": "_6YpitVBWpmB",
    "outputId": "9470f174-3300-4256-eb4b-9e80b9d7a74a"
   },
   "outputs": [
    {
     "name": "stdout",
     "output_type": "stream",
     "text": [
      "Total data train: 105800\n"
     ]
    }
   ],
   "source": [
    "import json\n",
    "\n",
    "train_loader = FileReader(file_path=DATA_TRAIN_JSON) \n",
    "data_train_raw = train_loader.read_json()\n",
    "print('Total data train: %d' %len(data_train_raw))\n",
    "random.shuffle(data_train_raw)"
   ]
  },
  {
   "cell_type": "code",
   "execution_count": null,
   "metadata": {
    "colab": {},
    "colab_type": "code",
    "id": "6fABUdhCQQH-"
   },
   "outputs": [],
   "source": [
    "dic = dict() \n",
    "dic_count = dict()\n",
    "NUM_RANDOM = random.randint(2000,2500) \n",
    "for item in data_train_raw:\n",
    "    if item['category'] not in dic.keys():\n",
    "        dic[item['category']] = NUM_RANDOM\n",
    "        dic_count[item['category']] = 0\n",
    "    if len(dic.keys()) > 11:\n",
    "        break"
   ]
  },
  {
   "cell_type": "code",
   "execution_count": null,
   "metadata": {
    "colab": {
     "base_uri": "https://localhost:8080/",
     "height": 34
    },
    "colab_type": "code",
    "id": "yKYrl9UVQQIB",
    "outputId": "b68047f0-3eef-4143-9b01-58035e4d86ea"
   },
   "outputs": [
    {
     "name": "stderr",
     "output_type": "stream",
     "text": [
      "build dataset: 100%|██████████| 105800/105800 [00:00<00:00, 899691.15it/s]\n"
     ]
    }
   ],
   "source": [
    "data_train = []\n",
    "for i in tqdm(range(len(data_train_raw)), desc='build dataset'): \n",
    "    item = data_train_raw[i]\n",
    "    try:\n",
    "        if dic[item['category']] > dic_count[item['category']]: \n",
    "            data_train.append(item)\n",
    "            dic_count[item['category']]+=1\n",
    "    except:\n",
    "        continue"
   ]
  },
  {
   "cell_type": "code",
   "execution_count": null,
   "metadata": {
    "colab": {
     "base_uri": "https://localhost:8080/",
     "height": 34
    },
    "colab_type": "code",
    "id": "JmNGM5z6h--7",
    "outputId": "12d5eea5-f114-4866-b0f7-8c4fd1683cfe"
   },
   "outputs": [
    {
     "name": "stdout",
     "output_type": "stream",
     "text": [
      "28944\n"
     ]
    }
   ],
   "source": [
    "print(len(data_train))"
   ]
  },
  {
   "cell_type": "code",
   "execution_count": null,
   "metadata": {
    "colab": {
     "base_uri": "https://localhost:8080/",
     "height": 88
    },
    "colab_type": "code",
    "id": "so9XB93KZWs8",
    "outputId": "7492615c-a6c9-4981-b71c-3edde1091b74"
   },
   "outputs": [
    {
     "name": "stdout",
     "output_type": "stream",
     "text": [
      "Loading word2vec model ...\n"
     ]
    },
    {
     "name": "stderr",
     "output_type": "stream",
     "text": [
      "/usr/local/lib/python3.6/dist-packages/smart_open/smart_open_lib.py:253: UserWarning: This function is deprecated, use smart_open.open instead. See the migration notes for details: https://github.com/RaRe-Technologies/smart_open/blob/master/README.rst#migrating-to-the-new-open-function\n",
      "  'See the migration notes for details: %s' % _MIGRATION_NOTES_URL\n"
     ]
    }
   ],
   "source": [
    "import codecs\n",
    "import gensim\n",
    "import os\n",
    "\n",
    "from distutils.version import LooseVersion, StrictVersion\n",
    "\n",
    "model = 'model/baomoi.model.bin'\n",
    "\n",
    "if os.path.isfile(model):\n",
    "    print('Loading word2vec model ...')\n",
    "    if LooseVersion(gensim.__version__) >= LooseVersion(\"1.0.1\"):\n",
    "        from gensim.models import KeyedVectors\n",
    "        word2vec_model = KeyedVectors.load_word2vec_format(model, binary=True)\n",
    "    else:\n",
    "        from gensim.models import Word2Vec\n",
    "        word2vec_model = Word2Vec.load_word2vec_format(model, binary=True)\n",
    "\n",
    "        app.run(port=8089)\n",
    "else:\n",
    "    print(\"Download word2vec model and put into ./data/. File: https://drive.google.com/open?id=0B1GKSX6YCHXlakkzQ2plZVdUUE0\")\n"
   ]
  },
  {
   "cell_type": "code",
   "execution_count": null,
   "metadata": {
    "colab": {
     "base_uri": "https://localhost:8080/",
     "height": 34
    },
    "colab_type": "code",
    "id": "Uby9mNV5QQIE",
    "outputId": "33c84719-1065-4541-a42a-919fa3879ea9"
   },
   "outputs": [
    {
     "data": {
      "text/plain": [
       "(400,)"
      ]
     },
     "execution_count": 46,
     "metadata": {
      "tags": []
     },
     "output_type": "execute_result"
    }
   ],
   "source": [
    "query = \"yêu_đời\"\n",
    "word2vec_model[query].shape"
   ]
  },
  {
   "cell_type": "code",
   "execution_count": null,
   "metadata": {
    "colab": {
     "base_uri": "https://localhost:8080/",
     "height": 88
    },
    "colab_type": "code",
    "id": "dRK3IrTrhzaY",
    "outputId": "6187d684-2f7c-4d53-ec27-a01737dd9fe8"
   },
   "outputs": [
    {
     "name": "stdout",
     "output_type": "stream",
     "text": [
      "['tươi_vui - 0.6415250897407532', 'phấn_chấn - 0.6185187101364136', 'hoạt_bát - 0.5687282085418701', 'vui_vẻ - 0.5604209899902344', 'phơi_phới - 0.5565494894981384', 'vui_tươi - 0.5514799356460571', 'tươi_trẻ - 0.5471391677856445', 'thanh_thản - 0.5283610224723816', 'thư_thái - 0.5135704278945923', 'tươi_tắn - 0.5111798048019409', 'tươi_tỉnh - 0.5072929859161377', 'hăng_say - 0.5022311806678772', 'rạo_rực - 0.49628326296806335', 'khỏe_khoắn - 0.49231481552124023', 'tràn_đầy - 0.4911952614784241', 'vui_tính - 0.4880105257034302', 'sảng_khoái - 0.4871392250061035', 'minh_mẫn - 0.4856101870536804', 'rắn_rỏi - 0.4804350435733795', 'cứng_cỏi - 0.4753692150115967', 'tráng_kiện - 0.47459495067596436', 'trầm_tĩnh - 0.47308027744293213', 'ngời_sáng - 0.4708581864833832', 'trong_trẻo - 0.4699096381664276', 'hồn_nhiên - 0.46882152557373047', 'trẻ_trung - 0.46811094880104065', 'ấm_áp - 0.4674622714519501', 'đằm_thắm - 0.4665767550468445', 'vững_tâm - 0.46642324328422546', 'an_nhiên - 0.46389240026474', 'hào_sảng - 0.46086350083351135', 'đôn_hậu - 0.45829421281814575', 'nhẹ_nhõm - 0.4569872319698334', 'hướng_ngoại - 0.455521821975708', 'tâm_hồn - 0.45336732268333435', 'hòa_đồng - 0.453124463558197', 'sâu_lắng - 0.4529900550842285', 'vui_cười - 0.4524940848350525', 'hồng_hào - 0.45100265741348267', 'khoan_khoái - 0.4492083787918091', 'lí_lắc - 0.4485580325126648', 'nhựa_sống - 0.4477815330028534', 'khỏe_mạnh - 0.4477541446685791', 'hạnh_phúc - 0.44694578647613525', 'khỏe - 0.4436294436454773', 'mê_say - 0.44186991453170776', 'tự_tại - 0.439909428358078', 'phóng_khoáng - 0.4390627145767212', 'u_sầu - 0.4387044906616211', 'dạt_dào - 0.43784716725349426']\n"
     ]
    },
    {
     "name": "stderr",
     "output_type": "stream",
     "text": [
      "/usr/local/lib/python3.6/dist-packages/gensim/matutils.py:737: FutureWarning: Conversion of the second argument of issubdtype from `int` to `np.signedinteger` is deprecated. In future, it will be treated as `np.int64 == np.dtype(int).type`.\n",
      "  if np.issubdtype(vec.dtype, np.int):\n"
     ]
    }
   ],
   "source": [
    "# try:\n",
    "output = []\n",
    "sim_list = word2vec_model.most_similar(query, topn=50)\n",
    "#output = word2vec_model.most_similar('u' + '\\\"' + query + '\\\"', topn=5)\n",
    "for wordsimilar in sim_list:\n",
    "    # output[wordsimilar[0]] = wordsimilar[1]\n",
    "    output.append(wordsimilar[0] + ' - '+ str(wordsimilar[1]))\n",
    "    # file = codecs.open(\"output.txt\", \"a\", \"utf-8\")\n",
    "    # file.write(wordsimilar[0] + \"\\t\" + str(wordsimilar[1]) + \"\\n\")\n",
    "    # file.close()\n",
    "# exceoutput = 'Not found' + query\n",
    "    \n",
    "print(output)"
   ]
  },
  {
   "cell_type": "code",
   "execution_count": null,
   "metadata": {
    "colab": {},
    "colab_type": "code",
    "id": "a7blxrv6hzYL"
   },
   "outputs": [],
   "source": []
  },
  {
   "cell_type": "code",
   "execution_count": null,
   "metadata": {
    "colab": {
     "base_uri": "https://localhost:8080/",
     "height": 100,
     "referenced_widgets": [
      "b3936e38e7d54873a3c02da165a0f89f",
      "3e0446af76904de492276eb578256fc2",
      "d6fc2881b39a413c9bed8fa64653d5a7",
      "4571c35611ea487f8cae2e735085a3ca",
      "5f9a2c33fb05467ab8a7a1504baf92d0",
      "d68cd6d2562f410386b13182101839db",
      "8ac9037888b84ccdb39fcaf858baa704",
      "e0ee6a5621474be899f958120401f6f9"
     ]
    },
    "colab_type": "code",
    "id": "8SrpuaI9QQIH",
    "outputId": "d677b40d-28f5-44fa-f8c3-d9e3867b18b3"
   },
   "outputs": [
    {
     "name": "stdout",
     "output_type": "stream",
     "text": [
      "** Start build dataset\n"
     ]
    },
    {
     "data": {
      "application/vnd.jupyter.widget-view+json": {
       "model_id": "b3936e38e7d54873a3c02da165a0f89f",
       "version_major": 2,
       "version_minor": 0
      },
      "text/plain": [
       "HBox(children=(FloatProgress(value=0.0, description='build dataset', max=28944.0, style=ProgressStyle(descript…"
      ]
     },
     "metadata": {
      "tags": []
     },
     "output_type": "display_data"
    },
    {
     "name": "stdout",
     "output_type": "stream",
     "text": [
      "\n",
      "Total: 0 paragraph\n"
     ]
    }
   ],
   "source": [
    "from tqdm.notebook import tqdm\n",
    "features_train, labels_train = FeatureExtraction(data=data_train).get_data_and_label() "
   ]
  },
  {
   "cell_type": "code",
   "execution_count": null,
   "metadata": {
    "colab": {},
    "colab_type": "code",
    "id": "mqGnSZBfQQIK"
   },
   "outputs": [],
   "source": []
  },
  {
   "cell_type": "code",
   "execution_count": null,
   "metadata": {
    "colab": {},
    "colab_type": "code",
    "id": "kM6i8RCdQQIN"
   },
   "outputs": [],
   "source": [
    "# # load data hơi lâu nên để hai biến giữ lại data ban dầu  \n",
    "x, y = np.array(features_train),np.array(labels_train)\n",
    "np.save('/content/drive/My Drive/NLP/WordSmi/Word2Vec/data/x_full.npy', x) \n",
    "np.save('/content/drive/My Drive/NLP/WordSmi/Word2Vec/data/y_full.npy', y) "
   ]
  },
  {
   "cell_type": "code",
   "execution_count": 7,
   "metadata": {
    "colab": {},
    "colab_type": "code",
    "id": "D3g3JOMhoKTF"
   },
   "outputs": [],
   "source": [
    "\n",
    "x = np.load('/content/drive/My Drive/NLP/WordSmi/Word2Vec/data/x_full.npy') \n",
    "y = np.load('/content/drive/My Drive/NLP/WordSmi/Word2Vec/data/y_full.npy')"
   ]
  },
  {
   "cell_type": "code",
   "execution_count": null,
   "metadata": {
    "colab": {},
    "colab_type": "code",
    "id": "A91pRdpefxN8"
   },
   "outputs": [],
   "source": [
    "# from sklearn import preprocessing\n",
    "# x = preprocessing.scale(x)"
   ]
  },
  {
   "cell_type": "code",
   "execution_count": 8,
   "metadata": {
    "colab": {
     "base_uri": "https://localhost:8080/",
     "height": 34
    },
    "colab_type": "code",
    "id": "U8ecS2JuQQIP",
    "outputId": "a0db4c1c-6243-4967-d531-d4d762383bf7"
   },
   "outputs": [
    {
     "name": "stderr",
     "output_type": "stream",
     "text": [
      "Using TensorFlow backend.\n"
     ]
    }
   ],
   "source": [
    "from keras.utils import to_categorical\n",
    "from sklearn.preprocessing import MultiLabelBinarizer,LabelEncoder\n",
    "# encode label  \n",
    "\n",
    "# mlb = FileReader(file_path=LABEL_ENCODE_PATH).load_estimator()\n",
    "mlb = LabelEncoder()\n",
    "k = mlb.fit_transform(y)\n",
    "# one hot encoding \n",
    "y = to_categorical(k)"
   ]
  },
  {
   "cell_type": "code",
   "execution_count": 8,
   "metadata": {
    "colab": {},
    "colab_type": "code",
    "id": "lcU-UwcKhQpv"
   },
   "outputs": [],
   "source": []
  },
  {
   "cell_type": "code",
   "execution_count": 9,
   "metadata": {
    "colab": {
     "base_uri": "https://localhost:8080/",
     "height": 34
    },
    "colab_type": "code",
    "id": "pvgnYSurQQIS",
    "outputId": "be1c4349-5f08-465b-cf81-4530e68e7dec"
   },
   "outputs": [
    {
     "data": {
      "text/plain": [
       "(23155, 12)"
      ]
     },
     "execution_count": 9,
     "metadata": {
      "tags": []
     },
     "output_type": "execute_result"
    }
   ],
   "source": [
    "from sklearn.model_selection import train_test_split\n",
    "# chia tập train, test theo tỉ lệ 8:2   \n",
    "(x_train,x_test, y_train, y_test) = train_test_split(x, y, test_size=0.2, random_state=43)\n",
    "y_train.shape"
   ]
  },
  {
   "cell_type": "code",
   "execution_count": 10,
   "metadata": {
    "colab": {
     "base_uri": "https://localhost:8080/",
     "height": 105
    },
    "colab_type": "code",
    "id": "UX_xjXf_nGMK",
    "outputId": "81cbd637-2b17-4302-8ed0-c67639cecf13"
   },
   "outputs": [
    {
     "name": "stdout",
     "output_type": "stream",
     "text": [
      "Shape features: Total document 28944 - Size matrix train (size dictionary) (23155, 400)\n",
      "Train set 23155 docs\n",
      "Test set 5789 docs\n",
      "Shape (28944, 400) (28944, 12)\n"
     ]
    },
    {
     "data": {
      "text/plain": [
       "array([1., 0., 0., 0., 0., 0., 0., 0., 0., 0., 0., 0.], dtype=float32)"
      ]
     },
     "execution_count": 10,
     "metadata": {
      "tags": []
     },
     "output_type": "execute_result"
    }
   ],
   "source": [
    "print('Shape features:',\"Total document\",y_train.shape[0] + y_test.shape[0],\"- Size matrix train (size dictionary)\",x_train.shape)\n",
    "print('Train set',y_train.shape[0],'docs') \n",
    "print('Test set',y_test.shape[0],'docs') \n",
    "print(\"Shape\",x.shape,y.shape)\n",
    "SIZE_TRAIN = x_train.shape[1]\n",
    "y_test[0]\n"
   ]
  },
  {
   "cell_type": "code",
   "execution_count": 11,
   "metadata": {
    "colab": {
     "base_uri": "https://localhost:8080/",
     "height": 247
    },
    "colab_type": "code",
    "id": "p6OOpBLinVpy",
    "outputId": "579b548d-3943-4e2b-b52b-036b4ab61897"
   },
   "outputs": [
    {
     "name": "stdout",
     "output_type": "stream",
     "text": [
      "- tổng số label:\n",
      "1. Chia_se_kien_thuc\n",
      "2. Doanh_nghiep\n",
      "3. Du_lich\n",
      "4. Giai_tri\n",
      "5. Giao_duc\n",
      "6. Suc_khoe\n",
      "7. Tai_chinh_quoc_te\n",
      "8. The_thao\n",
      "9. Thi_truong_chung_khoan\n",
      "10. Tin_tuc\n",
      "11. Van_hoa\n",
      "12. Xe\n"
     ]
    }
   ],
   "source": [
    "print(\"- tổng số label:\")\n",
    "# loop over each of the possible class labels and show them\n",
    "for (i, label) in enumerate(mlb.classes_):\n",
    "\tprint(\"{}. {}\".format(i + 1, label)) "
   ]
  },
  {
   "cell_type": "code",
   "execution_count": null,
   "metadata": {
    "colab": {
     "base_uri": "https://localhost:8080/",
     "height": 629
    },
    "colab_type": "code",
    "id": "Qf7o0zsen1X7",
    "outputId": "0e40c493-2bde-47f3-e22f-0e3ec58084b7"
   },
   "outputs": [
    {
     "name": "stdout",
     "output_type": "stream",
     "text": [
      "Model: \"sequential_1\"\n",
      "_________________________________________________________________\n",
      "Layer (type)                 Output Shape              Param #   \n",
      "=================================================================\n",
      "dense_1 (Dense)              (None, 700)               280700    \n",
      "_________________________________________________________________\n",
      "leaky_re_lu_1 (LeakyReLU)    (None, 700)               0         \n",
      "_________________________________________________________________\n",
      "dropout_1 (Dropout)          (None, 700)               0         \n",
      "_________________________________________________________________\n",
      "dense_2 (Dense)              (None, 600)               420600    \n",
      "_________________________________________________________________\n",
      "leaky_re_lu_2 (LeakyReLU)    (None, 600)               0         \n",
      "_________________________________________________________________\n",
      "dropout_2 (Dropout)          (None, 600)               0         \n",
      "_________________________________________________________________\n",
      "dense_3 (Dense)              (None, 500)               300500    \n",
      "_________________________________________________________________\n",
      "leaky_re_lu_3 (LeakyReLU)    (None, 500)               0         \n",
      "_________________________________________________________________\n",
      "dropout_3 (Dropout)          (None, 500)               0         \n",
      "_________________________________________________________________\n",
      "dense_4 (Dense)              (None, 400)               200400    \n",
      "_________________________________________________________________\n",
      "leaky_re_lu_4 (LeakyReLU)    (None, 400)               0         \n",
      "_________________________________________________________________\n",
      "dropout_4 (Dropout)          (None, 400)               0         \n",
      "_________________________________________________________________\n",
      "dense_5 (Dense)              (None, 300)               120300    \n",
      "_________________________________________________________________\n",
      "dense_6 (Dense)              (None, 12)                3612      \n",
      "=================================================================\n",
      "Total params: 1,326,112\n",
      "Trainable params: 1,326,112\n",
      "Non-trainable params: 0\n",
      "_________________________________________________________________\n"
     ]
    }
   ],
   "source": [
    "from keras.models import Sequential\n",
    "from keras.layers.normalization import BatchNormalization\n",
    "from keras.layers.convolutional import Conv2D\n",
    "from keras.layers.convolutional import MaxPooling2D\n",
    "from keras.layers.core import Activation, Dense, Flatten, Dropout\n",
    "from keras import backend as K\n",
    "from keras.optimizers import Adam, SGD \n",
    "from keras.layers import LeakyReLU\n",
    "from sklearn.metrics import classification_report\n",
    "# from tensorflow.python.keras.layers import Dense\n",
    "# from tensorflow.python.keras import Sequential\n",
    "\n",
    "# xây dựng mạng network\n",
    "class ModelNLP(object):\n",
    "  @staticmethod\n",
    "  def build(SIZE_TRAIN,num_classes, final_activation):\n",
    "    model = Sequential()\n",
    "    model.add(Dense(700, input_shape=(SIZE_TRAIN,), activation='relu', kernel_initializer=\"uniform\")) \n",
    "    model.add(LeakyReLU(alpha=0.3))        \n",
    "    model.add(Dropout(rate=0.2)) \n",
    "    model.add(Dense(600))      \n",
    "    model.add(LeakyReLU(alpha=0.3))  \n",
    "    model.add(Dropout(rate=0.2)) \n",
    "    model.add(Dense(500))      \n",
    "    model.add(LeakyReLU(alpha=0.3))        \n",
    "    model.add(Dropout(rate=0.2))\n",
    "    model.add(Dense(400))      \n",
    "    model.add(LeakyReLU(alpha=0.3))        \n",
    "    model.add(Dropout(rate=0.2))\n",
    "    model.add(Dense(300))    \n",
    "    model.add(Dense(num_classes, activation=final_activation))\n",
    "  \n",
    "    return model\n",
    "# !pip install tensorflow==1.14\n",
    "# khởi tạo model\n",
    "EPOCHS = 20\n",
    "INIT_LR = 1e-3\n",
    "BS = 32\n",
    "\n",
    "model = ModelNLP.build(SIZE_TRAIN=SIZE_TRAIN,num_classes=len(mlb.classes_),final_activation='softmax')\n",
    "opt = Adam(lr=INIT_LR, decay=INIT_LR / EPOCHS)\n",
    "\n",
    "sgd = SGD(lr=0.001); \n",
    "model.compile(loss='binary_crossentropy', optimizer=sgd, metrics=['accuracy'])\n",
    "model.summary()"
   ]
  },
  {
   "cell_type": "code",
   "execution_count": null,
   "metadata": {
    "colab": {
     "base_uri": "https://localhost:8080/",
     "height": 1000
    },
    "colab_type": "code",
    "id": "M_8tX75Dn252",
    "outputId": "addaf061-7cf2-4532-efb9-711cbc591920"
   },
   "outputs": [
    {
     "name": "stdout",
     "output_type": "stream",
     "text": [
      "Train on 23155 samples, validate on 5789 samples\n",
      "Epoch 1/40\n",
      "23155/23155 [==============================] - 7s 287us/step - loss: 1.3718 - accuracy: 0.8972 - val_loss: 0.9150 - val_accuracy: 0.9316\n",
      "Epoch 2/40\n",
      "23155/23155 [==============================] - 5s 207us/step - loss: 0.8891 - accuracy: 0.9323 - val_loss: 0.6217 - val_accuracy: 0.9511\n",
      "Epoch 3/40\n",
      "23155/23155 [==============================] - 5s 208us/step - loss: 0.6906 - accuracy: 0.9467 - val_loss: 0.5293 - val_accuracy: 0.9594\n",
      "Epoch 4/40\n",
      "23155/23155 [==============================] - 5s 207us/step - loss: 0.6143 - accuracy: 0.9528 - val_loss: 0.5353 - val_accuracy: 0.9592\n",
      "Epoch 5/40\n",
      "23155/23155 [==============================] - 5s 208us/step - loss: 0.5836 - accuracy: 0.9553 - val_loss: 0.5085 - val_accuracy: 0.9605\n",
      "Epoch 6/40\n",
      "23155/23155 [==============================] - 5s 210us/step - loss: 0.5508 - accuracy: 0.9572 - val_loss: 0.4370 - val_accuracy: 0.9663\n",
      "Epoch 7/40\n",
      "23155/23155 [==============================] - 5s 219us/step - loss: 0.5173 - accuracy: 0.9601 - val_loss: 0.4372 - val_accuracy: 0.9661\n",
      "Epoch 8/40\n",
      "23155/23155 [==============================] - 5s 229us/step - loss: 0.4998 - accuracy: 0.9614 - val_loss: 0.4443 - val_accuracy: 0.9658\n",
      "Epoch 9/40\n",
      "23155/23155 [==============================] - 5s 224us/step - loss: 0.4945 - accuracy: 0.9618 - val_loss: 0.4311 - val_accuracy: 0.9664\n",
      "Epoch 10/40\n",
      "23155/23155 [==============================] - 5s 210us/step - loss: 0.4741 - accuracy: 0.9627 - val_loss: 0.4091 - val_accuracy: 0.9683\n",
      "Epoch 11/40\n",
      "23155/23155 [==============================] - 5s 210us/step - loss: 0.4631 - accuracy: 0.9636 - val_loss: 0.3993 - val_accuracy: 0.9682\n",
      "Epoch 12/40\n",
      "23155/23155 [==============================] - 5s 210us/step - loss: 0.4428 - accuracy: 0.9648 - val_loss: 0.3914 - val_accuracy: 0.9691\n",
      "Epoch 13/40\n",
      "23155/23155 [==============================] - 5s 211us/step - loss: 0.4345 - accuracy: 0.9653 - val_loss: 0.3883 - val_accuracy: 0.9693\n",
      "Epoch 14/40\n",
      "23155/23155 [==============================] - 5s 212us/step - loss: 0.4138 - accuracy: 0.9670 - val_loss: 0.3729 - val_accuracy: 0.9704\n",
      "Epoch 15/40\n",
      "23155/23155 [==============================] - 5s 210us/step - loss: 0.4124 - accuracy: 0.9669 - val_loss: 0.3675 - val_accuracy: 0.9699\n",
      "Epoch 16/40\n",
      "23155/23155 [==============================] - 5s 209us/step - loss: 0.4050 - accuracy: 0.9667 - val_loss: 0.3604 - val_accuracy: 0.9706\n",
      "Epoch 17/40\n",
      "23155/23155 [==============================] - 5s 207us/step - loss: 0.3874 - accuracy: 0.9679 - val_loss: 0.3583 - val_accuracy: 0.9703\n",
      "Epoch 18/40\n",
      "23155/23155 [==============================] - 5s 208us/step - loss: 0.3829 - accuracy: 0.9685 - val_loss: 0.3632 - val_accuracy: 0.9699\n",
      "Epoch 19/40\n",
      "23155/23155 [==============================] - 6s 249us/step - loss: 0.3756 - accuracy: 0.9679 - val_loss: 0.3480 - val_accuracy: 0.9707\n",
      "Epoch 20/40\n",
      "23155/23155 [==============================] - 5s 213us/step - loss: 0.3700 - accuracy: 0.9682 - val_loss: 0.3488 - val_accuracy: 0.9698\n",
      "Epoch 21/40\n",
      "23155/23155 [==============================] - 5s 213us/step - loss: 0.3577 - accuracy: 0.9688 - val_loss: 0.3191 - val_accuracy: 0.9718\n",
      "Epoch 22/40\n",
      "23155/23155 [==============================] - 5s 213us/step - loss: 0.3442 - accuracy: 0.9696 - val_loss: 0.3039 - val_accuracy: 0.9723\n",
      "Epoch 23/40\n",
      "23155/23155 [==============================] - 5s 212us/step - loss: 0.3350 - accuracy: 0.9697 - val_loss: 0.3092 - val_accuracy: 0.9716\n",
      "Epoch 24/40\n",
      "23155/23155 [==============================] - 5s 212us/step - loss: 0.3272 - accuracy: 0.9697 - val_loss: 0.2892 - val_accuracy: 0.9730\n",
      "Epoch 25/40\n",
      "23155/23155 [==============================] - 5s 212us/step - loss: 0.3164 - accuracy: 0.9703 - val_loss: 0.2810 - val_accuracy: 0.9726\n",
      "Epoch 26/40\n",
      "23155/23155 [==============================] - 5s 215us/step - loss: 0.3091 - accuracy: 0.9701 - val_loss: 0.2703 - val_accuracy: 0.9734\n",
      "Epoch 27/40\n",
      "23155/23155 [==============================] - 5s 215us/step - loss: 0.2985 - accuracy: 0.9701 - val_loss: 0.2666 - val_accuracy: 0.9729\n",
      "Epoch 28/40\n",
      "23155/23155 [==============================] - 5s 214us/step - loss: 0.2845 - accuracy: 0.9710 - val_loss: 0.2505 - val_accuracy: 0.9738\n",
      "Epoch 29/40\n",
      "23155/23155 [==============================] - 5s 214us/step - loss: 0.2789 - accuracy: 0.9707 - val_loss: 0.2409 - val_accuracy: 0.9740\n",
      "Epoch 30/40\n",
      "23155/23155 [==============================] - 5s 217us/step - loss: 0.2691 - accuracy: 0.9706 - val_loss: 0.2357 - val_accuracy: 0.9735\n",
      "Epoch 31/40\n",
      "23155/23155 [==============================] - 5s 216us/step - loss: 0.2590 - accuracy: 0.9709 - val_loss: 0.2232 - val_accuracy: 0.9738\n",
      "Epoch 32/40\n",
      "23155/23155 [==============================] - 5s 213us/step - loss: 0.2474 - accuracy: 0.9710 - val_loss: 0.2146 - val_accuracy: 0.9736\n",
      "Epoch 33/40\n",
      "23155/23155 [==============================] - 5s 215us/step - loss: 0.2308 - accuracy: 0.9714 - val_loss: 0.2082 - val_accuracy: 0.9737\n",
      "Epoch 34/40\n",
      "23155/23155 [==============================] - 5s 218us/step - loss: 0.2229 - accuracy: 0.9716 - val_loss: 0.1957 - val_accuracy: 0.9739\n",
      "Epoch 35/40\n",
      "23155/23155 [==============================] - 5s 215us/step - loss: 0.2164 - accuracy: 0.9711 - val_loss: 0.1820 - val_accuracy: 0.9734\n",
      "Epoch 36/40\n",
      "23155/23155 [==============================] - 5s 214us/step - loss: 0.2032 - accuracy: 0.9708 - val_loss: 0.1735 - val_accuracy: 0.9733\n",
      "Epoch 37/40\n",
      "23155/23155 [==============================] - 5s 216us/step - loss: 0.1947 - accuracy: 0.9707 - val_loss: 0.1672 - val_accuracy: 0.9731\n",
      "Epoch 38/40\n",
      "23155/23155 [==============================] - 5s 214us/step - loss: 0.1831 - accuracy: 0.9707 - val_loss: 0.1524 - val_accuracy: 0.9733\n",
      "Epoch 39/40\n",
      "23155/23155 [==============================] - 5s 215us/step - loss: 0.1749 - accuracy: 0.9706 - val_loss: 0.1528 - val_accuracy: 0.9730\n",
      "Epoch 40/40\n",
      "23155/23155 [==============================] - 5s 217us/step - loss: 0.1629 - accuracy: 0.9710 - val_loss: 0.1366 - val_accuracy: 0.9737\n"
     ]
    }
   ],
   "source": [
    "# training \n",
    "H = model.fit(x_train, y_train, validation_data= (x_test,y_test),epochs=40, verbose=1)"
   ]
  },
  {
   "cell_type": "code",
   "execution_count": null,
   "metadata": {
    "colab": {
     "base_uri": "https://localhost:8080/",
     "height": 34
    },
    "colab_type": "code",
    "id": "FzMaHNpyn4T5",
    "outputId": "8b572c2a-1425-4331-8a00-969f0581b58a"
   },
   "outputs": [
    {
     "name": "stdout",
     "output_type": "stream",
     "text": [
      "Test Accuracy: 97.369963\n"
     ]
    }
   ],
   "source": [
    "# evaluate \n",
    "loss, acc = model.evaluate(x_test, y_test, verbose=0)\n",
    "print('Test Accuracy: %f' % (acc*100)) "
   ]
  },
  {
   "cell_type": "code",
   "execution_count": null,
   "metadata": {
    "colab": {
     "base_uri": "https://localhost:8080/",
     "height": 312
    },
    "colab_type": "code",
    "id": "1UjfmTKtn5vU",
    "outputId": "de2564bd-9a91-48a7-c0de-d84b0b9a1b33"
   },
   "outputs": [
    {
     "data": {
      "image/png": "[encoded data removed]",
      "text/plain": [
       "<Figure size 432x288 with 1 Axes>"
      ]
     },
     "metadata": {
      "needs_background": "light",
      "tags": []
     },
     "output_type": "display_data"
    },
    {
     "data": {
      "text/plain": [
       "<Figure size 432x288 with 0 Axes>"
      ]
     },
     "metadata": {
      "tags": []
     },
     "output_type": "display_data"
    }
   ],
   "source": [
    "import matplotlib.pyplot as plt\n",
    "# plt.plot(hist.history[\"acc\"])\n",
    "# plt.plot(hist.history['val_acc'])\n",
    "plt.figure()\n",
    "plt.plot(H.history['loss'])\n",
    "plt.plot(H.history['val_loss'])\n",
    "plt.title(\"model loss\")\n",
    "plt.ylabel(\"Loss\")\n",
    "plt.xlabel(\"Epoch\")\n",
    "plt.legend([\"Loss\",\"Validation Loss\"])\n",
    "plt.show()\n",
    "plt.savefig('chart loss.png')"
   ]
  },
  {
   "cell_type": "code",
   "execution_count": null,
   "metadata": {
    "colab": {},
    "colab_type": "code",
    "id": "sD-jCkJooXmv"
   },
   "outputs": [],
   "source": [
    "  \n",
    "LABEL_ENCODE_PATH=\"/content/drive/My Drive/NLP/WordSmi/ModelClassify/Word2Vec/lb_elmo_nn.pkl\"\n",
    "ESTIMATE_PATH=\"/content/drive/My Drive/NLP/WordSmi/ModelClassify/Word2Vec/estimator_elmo_nn.h5\"\n",
    "FileStore(file_path=LABEL_ENCODE_PATH).save_pickle(obj=mlb)\n",
    "FileStore(file_path=ESTIMATE_PATH).save_pickle(obj=model)\n",
    "\n",
    "from keras.models import save_model, load_model\n",
    "\n",
    "# Creates a HDF5 file 'ESTIMATE_PATH.h5' \n",
    "save_model(model, ESTIMATE_PATH) "
   ]
  },
  {
   "cell_type": "code",
   "execution_count": null,
   "metadata": {
    "colab": {},
    "colab_type": "code",
    "id": "njj-wMPt0L78"
   },
   "outputs": [],
   "source": []
  },
  {
   "cell_type": "code",
   "execution_count": null,
   "metadata": {
    "colab": {},
    "colab_type": "code",
    "id": "6vtbQ_rXfHG8"
   },
   "outputs": [],
   "source": []
  },
  {
   "cell_type": "markdown",
   "metadata": {
    "colab_type": "text",
    "id": "6JvAAHYUfIMd"
   },
   "source": [
    "LSTMModel"
   ]
  },
  {
   "cell_type": "code",
   "execution_count": null,
   "metadata": {
    "colab": {
     "base_uri": "https://localhost:8080/",
     "height": 255
    },
    "colab_type": "code",
    "id": "4CoRsIuFfHJm",
    "outputId": "5764ff5a-b530-454d-efd9-8432faebcc38"
   },
   "outputs": [
    {
     "name": "stdout",
     "output_type": "stream",
     "text": [
      "Model: \"sequential_3\"\n",
      "_________________________________________________________________\n",
      "Layer (type)                 Output Shape              Param #   \n",
      "=================================================================\n",
      "lstm_2 (LSTM)                (None, 100)               40800     \n",
      "_________________________________________________________________\n",
      "dense_9 (Dense)              (None, 50)                5050      \n",
      "_________________________________________________________________\n",
      "dense_10 (Dense)             (None, 12)                612       \n",
      "=================================================================\n",
      "Total params: 46,462\n",
      "Trainable params: 46,462\n",
      "Non-trainable params: 0\n",
      "_________________________________________________________________\n"
     ]
    }
   ],
   "source": [
    "from keras.models import Sequential\n",
    "from keras.layers.normalization import BatchNormalization\n",
    "from keras.layers.convolutional import Conv2D\n",
    "from keras.layers.convolutional import MaxPooling2D\n",
    "from keras.layers.core import Activation, Dense, Flatten, Dropout\n",
    "from keras.layers import LSTM\n",
    "from keras import backend as K\n",
    "from keras.optimizers import Adam, SGD \n",
    "from keras.layers import LeakyReLU\n",
    "from sklearn.metrics import classification_report\n",
    "class LSTMModel(object): \n",
    "  @staticmethod\n",
    "  def build(SIZE_TRAIN,num_classes, final_activation):    \n",
    "    # define model\n",
    "    model = Sequential()\n",
    "    model.add(LSTM(100,input_shape=(SIZE_TRAIN,1), activation='tanh', dropout=0.2, recurrent_dropout=0.2))\n",
    "    model.add(Dense(50))\n",
    "    model.add(Dense(num_classes, activation=final_activation)) \n",
    "    return model \n",
    "\n",
    "    \n",
    "# khởi tạo model\n",
    "EPOCHS = 20\n",
    "INIT_LR = 1e-3\n",
    "BS = 32 \n",
    "n_features = 1\n",
    "\n",
    "model_lstm = LSTMModel.build(SIZE_TRAIN=SIZE_TRAIN,num_classes=len(mlb.classes_),final_activation='softmax')\n",
    "opt = Adam(lr=INIT_LR, decay=INIT_LR / EPOCHS)\n",
    "sgd = SGD(lr=0.001); \n",
    "model_lstm.compile(loss='binary_crossentropy', optimizer=opt, metrics=['accuracy'])\n",
    "model_lstm.summary() \n",
    " \n"
   ]
  },
  {
   "cell_type": "code",
   "execution_count": null,
   "metadata": {
    "colab": {
     "base_uri": "https://localhost:8080/",
     "height": 34
    },
    "colab_type": "code",
    "id": "39BCaSu8fTS8",
    "outputId": "cb8df606-2983-42eb-b496-5e4e5da6b490"
   },
   "outputs": [
    {
     "data": {
      "text/plain": [
       "(23155, 400, 1)"
      ]
     },
     "execution_count": 67,
     "metadata": {
      "tags": []
     },
     "output_type": "execute_result"
    }
   ],
   "source": [
    "x_train.shape"
   ]
  },
  {
   "cell_type": "code",
   "execution_count": null,
   "metadata": {
    "colab": {
     "base_uri": "https://localhost:8080/",
     "height": 1000
    },
    "colab_type": "code",
    "id": "V01UtNEtfHL-",
    "outputId": "abd264f2-2d89-4eeb-8f40-d000bac13e81"
   },
   "outputs": [
    {
     "name": "stdout",
     "output_type": "stream",
     "text": [
      "Train on 23155 samples, validate on 5789 samples\n",
      "Epoch 1/30\n",
      "23155/23155 [==============================] - 62s 3ms/step - loss: 0.2671 - accuracy: 0.9167 - val_loss: 0.2437 - val_accuracy: 0.9167\n",
      "Epoch 2/30\n",
      "23155/23155 [==============================] - 62s 3ms/step - loss: 0.2420 - accuracy: 0.9185 - val_loss: 0.2241 - val_accuracy: 0.9210\n",
      "Epoch 3/30\n",
      "23155/23155 [==============================] - 62s 3ms/step - loss: 0.2285 - accuracy: 0.9215 - val_loss: 0.2062 - val_accuracy: 0.9254\n",
      "Epoch 4/30\n",
      "23155/23155 [==============================] - 61s 3ms/step - loss: 0.2192 - accuracy: 0.9238 - val_loss: 0.1973 - val_accuracy: 0.9280\n",
      "Epoch 5/30\n",
      "23155/23155 [==============================] - 62s 3ms/step - loss: 0.2122 - accuracy: 0.9262 - val_loss: 0.1906 - val_accuracy: 0.9305\n",
      "Epoch 6/30\n",
      "23155/23155 [==============================] - 62s 3ms/step - loss: 0.2060 - accuracy: 0.9281 - val_loss: 0.1846 - val_accuracy: 0.9319\n",
      "Epoch 7/30\n",
      "23155/23155 [==============================] - 65s 3ms/step - loss: 0.2022 - accuracy: 0.9297 - val_loss: 0.1760 - val_accuracy: 0.9348\n",
      "Epoch 8/30\n",
      "23155/23155 [==============================] - 65s 3ms/step - loss: 0.1981 - accuracy: 0.9305 - val_loss: 0.1736 - val_accuracy: 0.9353\n",
      "Epoch 9/30\n",
      "23155/23155 [==============================] - 61s 3ms/step - loss: 0.1951 - accuracy: 0.9321 - val_loss: 0.1715 - val_accuracy: 0.9359\n",
      "Epoch 10/30\n",
      "23155/23155 [==============================] - 60s 3ms/step - loss: 0.1931 - accuracy: 0.9325 - val_loss: 0.1654 - val_accuracy: 0.9385\n",
      "Epoch 11/30\n",
      "23155/23155 [==============================] - 60s 3ms/step - loss: 0.1909 - accuracy: 0.9333 - val_loss: 0.1627 - val_accuracy: 0.9390\n",
      "Epoch 12/30\n",
      "23155/23155 [==============================] - 60s 3ms/step - loss: 0.1876 - accuracy: 0.9343 - val_loss: 0.1609 - val_accuracy: 0.9395\n",
      "Epoch 13/30\n",
      "23155/23155 [==============================] - 60s 3ms/step - loss: 0.1870 - accuracy: 0.9347 - val_loss: 0.1585 - val_accuracy: 0.9408\n",
      "Epoch 14/30\n",
      "23155/23155 [==============================] - 59s 3ms/step - loss: 0.1855 - accuracy: 0.9353 - val_loss: 0.1600 - val_accuracy: 0.9399\n",
      "Epoch 15/30\n",
      "23155/23155 [==============================] - 59s 3ms/step - loss: 0.1832 - accuracy: 0.9362 - val_loss: 0.1583 - val_accuracy: 0.9405\n",
      "Epoch 16/30\n",
      "23155/23155 [==============================] - 60s 3ms/step - loss: 0.1824 - accuracy: 0.9365 - val_loss: 0.1539 - val_accuracy: 0.9421\n",
      "Epoch 17/30\n",
      "23155/23155 [==============================] - 61s 3ms/step - loss: 0.1805 - accuracy: 0.9365 - val_loss: 0.1519 - val_accuracy: 0.9430\n",
      "Epoch 18/30\n",
      "23155/23155 [==============================] - 59s 3ms/step - loss: 0.1800 - accuracy: 0.9370 - val_loss: 0.1500 - val_accuracy: 0.9431\n",
      "Epoch 19/30\n",
      "23155/23155 [==============================] - 60s 3ms/step - loss: 0.1789 - accuracy: 0.9373 - val_loss: 0.1516 - val_accuracy: 0.9426\n",
      "Epoch 20/30\n",
      "23155/23155 [==============================] - 60s 3ms/step - loss: 0.1783 - accuracy: 0.9374 - val_loss: 0.1500 - val_accuracy: 0.9432\n",
      "Epoch 21/30\n",
      "23155/23155 [==============================] - 61s 3ms/step - loss: 0.1769 - accuracy: 0.9381 - val_loss: 0.1475 - val_accuracy: 0.9436\n",
      "Epoch 22/30\n",
      "23155/23155 [==============================] - 61s 3ms/step - loss: 0.1770 - accuracy: 0.9383 - val_loss: 0.1477 - val_accuracy: 0.9438\n",
      "Epoch 23/30\n",
      "23155/23155 [==============================] - 63s 3ms/step - loss: 0.1758 - accuracy: 0.9382 - val_loss: 0.1486 - val_accuracy: 0.9435\n",
      "Epoch 24/30\n",
      "23155/23155 [==============================] - 61s 3ms/step - loss: 0.1739 - accuracy: 0.9393 - val_loss: 0.1453 - val_accuracy: 0.9442\n",
      "Epoch 25/30\n",
      "23155/23155 [==============================] - 62s 3ms/step - loss: 0.1734 - accuracy: 0.9392 - val_loss: 0.1461 - val_accuracy: 0.9440\n",
      "Epoch 26/30\n",
      "23155/23155 [==============================] - 62s 3ms/step - loss: 0.1733 - accuracy: 0.9395 - val_loss: 0.1445 - val_accuracy: 0.9448\n",
      "Epoch 27/30\n",
      "23155/23155 [==============================] - 61s 3ms/step - loss: 0.1714 - accuracy: 0.9401 - val_loss: 0.1443 - val_accuracy: 0.9447\n",
      "Epoch 28/30\n",
      "23155/23155 [==============================] - 62s 3ms/step - loss: 0.1717 - accuracy: 0.9400 - val_loss: 0.1434 - val_accuracy: 0.9453\n",
      "Epoch 29/30\n",
      "23155/23155 [==============================] - 61s 3ms/step - loss: 0.1709 - accuracy: 0.9400 - val_loss: 0.1441 - val_accuracy: 0.9452\n",
      "Epoch 30/30\n",
      "23155/23155 [==============================] - 61s 3ms/step - loss: 0.1697 - accuracy: 0.9405 - val_loss: 0.1415 - val_accuracy: 0.9458\n"
     ]
    }
   ],
   "source": [
    "x_train = x_train.reshape((x_train.shape[0], x_train.shape[1],1))\n",
    "x_test = x_test.reshape((x_test.shape[0], x_test.shape[1],1))\n",
    "H = model_lstm.fit(x_train, y_train, validation_data= (x_test,y_test),epochs=30, verbose=1, batch_size=512)"
   ]
  },
  {
   "cell_type": "code",
   "execution_count": null,
   "metadata": {
    "colab": {
     "base_uri": "https://localhost:8080/",
     "height": 312
    },
    "colab_type": "code",
    "id": "HyEGicDwfHQs",
    "outputId": "e0ce75f0-c4e0-43e3-94bc-c608e0543677"
   },
   "outputs": [
    {
     "data": {
      "image/png": "[encoded data removed]",
      "text/plain": [
       "<Figure size 432x288 with 1 Axes>"
      ]
     },
     "metadata": {
      "needs_background": "light",
      "tags": []
     },
     "output_type": "display_data"
    },
    {
     "data": {
      "text/plain": [
       "<Figure size 432x288 with 0 Axes>"
      ]
     },
     "metadata": {
      "tags": []
     },
     "output_type": "display_data"
    }
   ],
   "source": [
    "import matplotlib.pyplot as plt\n",
    "plt.figure()\n",
    "plt.plot(H.history['loss'])\n",
    "plt.plot(H.history['val_loss'])\n",
    "plt.title(\"model loss\")\n",
    "plt.ylabel(\"Loss\")\n",
    "plt.xlabel(\"Epoch\")\n",
    "plt.legend([\"Loss\",\"Validation Loss\"])\n",
    "plt.show()\n",
    "plt.savefig('chart loss.png')"
   ]
  },
  {
   "cell_type": "code",
   "execution_count": null,
   "metadata": {
    "colab": {
     "base_uri": "https://localhost:8080/",
     "height": 34
    },
    "colab_type": "code",
    "id": "9I8H9vl_fHOs",
    "outputId": "c5831a7d-7da9-4e58-8c91-87830c6b2a69"
   },
   "outputs": [
    {
     "name": "stdout",
     "output_type": "stream",
     "text": [
      "Test Accuracy: 94.578779\n"
     ]
    }
   ],
   "source": [
    "# evaluate \n",
    "loss, acc = model_lstm.evaluate(x_test, y_test, verbose=0)\n",
    "print('Test Accuracy: %f' % (acc*100)) "
   ]
  },
  {
   "cell_type": "code",
   "execution_count": null,
   "metadata": {
    "colab": {},
    "colab_type": "code",
    "id": "4fa-a0IfaN1Q"
   },
   "outputs": [],
   "source": [
    "LABEL_ENCODE_PATH=\"/content/drive/My Drive/NLP/WordSmi/ModelClassify/Word2Vec/lb_elmo_lstm.pkl\"\n",
    "ESTIMATE_PATH=\"/content/drive/My Drive/NLP/WordSmi/ModelClassify/Word2Vec/estimator_elmo_lstm.h5\"\n",
    "FileStore(file_path=LABEL_ENCODE_PATH).save_pickle(obj=mlb)\n",
    "FileStore(file_path=ESTIMATE_PATH).save_pickle(obj=model_lstm)\n",
    "\n",
    "from keras.models import save_model, load_model\n",
    "\n",
    "# Creates a HDF5 file 'ESTIMATE_PATH.h5' \n",
    "save_model(model_lstm, ESTIMATE_PATH) "
   ]
  },
  {
   "cell_type": "code",
   "execution_count": null,
   "metadata": {
    "colab": {},
    "colab_type": "code",
    "id": "LH2K-D9SaN6G"
   },
   "outputs": [],
   "source": []
  },
  {
   "cell_type": "markdown",
   "metadata": {
    "colab_type": "text",
    "id": "tU0bsxl3aVXa"
   },
   "source": [
    "CNN_LSTM_Model\n"
   ]
  },
  {
   "cell_type": "code",
   "execution_count": null,
   "metadata": {
    "colab": {
     "base_uri": "https://localhost:8080/",
     "height": 323
    },
    "colab_type": "code",
    "id": "J_AJawO8aOBX",
    "outputId": "a7a92a75-b266-4d00-8443-23df809960d2"
   },
   "outputs": [
    {
     "name": "stdout",
     "output_type": "stream",
     "text": [
      "Model: \"sequential_5\"\n",
      "_________________________________________________________________\n",
      "Layer (type)                 Output Shape              Param #   \n",
      "=================================================================\n",
      "conv1d_2 (Conv1D)            (None, 400, 32)           128       \n",
      "_________________________________________________________________\n",
      "max_pooling1d_2 (MaxPooling1 (None, 200, 32)           0         \n",
      "_________________________________________________________________\n",
      "lstm_4 (LSTM)                (None, 200)               186400    \n",
      "_________________________________________________________________\n",
      "dense_13 (Dense)             (None, 100)               20100     \n",
      "_________________________________________________________________\n",
      "dense_14 (Dense)             (None, 12)                1212      \n",
      "=================================================================\n",
      "Total params: 207,840\n",
      "Trainable params: 207,840\n",
      "Non-trainable params: 0\n",
      "_________________________________________________________________\n"
     ]
    }
   ],
   "source": [
    "from keras.models import Sequential\n",
    "from keras.layers.normalization import BatchNormalization\n",
    "from keras.layers.convolutional import Conv2D\n",
    "from keras.layers.convolutional import MaxPooling2D\n",
    "from keras.layers.core import Activation, Dense, Flatten, Dropout\n",
    "from keras.layers import LSTM\n",
    "from keras import backend as K\n",
    "from keras.optimizers import Adam, SGD \n",
    "from keras.layers import LeakyReLU,Conv1D,MaxPooling1D\n",
    "from sklearn.metrics import classification_report\n",
    "class CNN_LSTM_Model(object): \n",
    "  @staticmethod\n",
    "  def build(SIZE_TRAIN,num_classes, final_activation):    \n",
    "    # define model\n",
    "    model = Sequential()\n",
    "    model.add(Conv1D(filters=32,input_shape=(SIZE_TRAIN,1), kernel_size=3, padding='same', activation='relu'))\n",
    "    model.add(MaxPooling1D(pool_size=2))\n",
    "    model.add(LSTM(200))\n",
    "    model.add(Dense(100))  \n",
    "    model.add(Dense(num_classes, activation=final_activation)) \n",
    "    return model \n",
    "\n",
    "    \n",
    "# khởi tạo model\n",
    "EPOCHS = 20\n",
    "INIT_LR = 1e-3\n",
    "BS = 32 \n",
    "n_features = 1\n",
    "\n",
    "model_cnnlstm = CNN_LSTM_Model.build(SIZE_TRAIN=SIZE_TRAIN,num_classes=len(mlb.classes_),final_activation='softmax')\n",
    "opt = Adam(lr=INIT_LR, decay=INIT_LR / EPOCHS)\n",
    "sgd = SGD(lr=0.001); \n",
    "model_cnnlstm.compile(loss='binary_crossentropy', optimizer=opt, metrics=['accuracy'])\n",
    "model_cnnlstm.summary() \n",
    "  "
   ]
  },
  {
   "cell_type": "code",
   "execution_count": null,
   "metadata": {
    "colab": {
     "base_uri": "https://localhost:8080/",
     "height": 714
    },
    "colab_type": "code",
    "id": "V6_Xy-yKaOGP",
    "outputId": "f437c37c-0668-4f85-e268-8ab43f1eda78"
   },
   "outputs": [
    {
     "name": "stdout",
     "output_type": "stream",
     "text": [
      "Train on 23155 samples, validate on 5789 samples\n",
      "Epoch 1/20\n",
      "23155/23155 [==============================] - 29s 1ms/step - loss: 0.2170 - accuracy: 0.9242 - val_loss: 0.1914 - val_accuracy: 0.9312\n",
      "Epoch 2/20\n",
      "23155/23155 [==============================] - 29s 1ms/step - loss: 0.1769 - accuracy: 0.9347 - val_loss: 0.1726 - val_accuracy: 0.9361\n",
      "Epoch 3/20\n",
      "23155/23155 [==============================] - 29s 1ms/step - loss: 0.1619 - accuracy: 0.9396 - val_loss: 0.1653 - val_accuracy: 0.9391\n",
      "Epoch 4/20\n",
      "23155/23155 [==============================] - 28s 1ms/step - loss: 0.1550 - accuracy: 0.9420 - val_loss: 0.1584 - val_accuracy: 0.9416\n",
      "Epoch 5/20\n",
      "23155/23155 [==============================] - 28s 1ms/step - loss: 0.1484 - accuracy: 0.9445 - val_loss: 0.1558 - val_accuracy: 0.9416\n",
      "Epoch 6/20\n",
      "23155/23155 [==============================] - 28s 1ms/step - loss: 0.1435 - accuracy: 0.9460 - val_loss: 0.1517 - val_accuracy: 0.9429\n",
      "Epoch 7/20\n",
      "23155/23155 [==============================] - 29s 1ms/step - loss: 0.1381 - accuracy: 0.9479 - val_loss: 0.1469 - val_accuracy: 0.9452\n",
      "Epoch 8/20\n",
      "23155/23155 [==============================] - 29s 1ms/step - loss: 0.1332 - accuracy: 0.9496 - val_loss: 0.1436 - val_accuracy: 0.9464\n",
      "Epoch 9/20\n",
      "23155/23155 [==============================] - 29s 1ms/step - loss: 0.1296 - accuracy: 0.9511 - val_loss: 0.1461 - val_accuracy: 0.9457\n",
      "Epoch 10/20\n",
      "23155/23155 [==============================] - 29s 1ms/step - loss: 0.1263 - accuracy: 0.9521 - val_loss: 0.1446 - val_accuracy: 0.9464\n",
      "Epoch 11/20\n",
      "23155/23155 [==============================] - 29s 1ms/step - loss: 0.1238 - accuracy: 0.9532 - val_loss: 0.1436 - val_accuracy: 0.9459\n",
      "Epoch 12/20\n",
      "23155/23155 [==============================] - 29s 1ms/step - loss: 0.1203 - accuracy: 0.9544 - val_loss: 0.1380 - val_accuracy: 0.9475\n",
      "Epoch 13/20\n",
      "23155/23155 [==============================] - 29s 1ms/step - loss: 0.1159 - accuracy: 0.9563 - val_loss: 0.1374 - val_accuracy: 0.9488\n",
      "Epoch 14/20\n",
      "23155/23155 [==============================] - 29s 1ms/step - loss: 0.1116 - accuracy: 0.9579 - val_loss: 0.1362 - val_accuracy: 0.9488\n",
      "Epoch 15/20\n",
      "23155/23155 [==============================] - 30s 1ms/step - loss: 0.1092 - accuracy: 0.9587 - val_loss: 0.1372 - val_accuracy: 0.9484\n",
      "Epoch 16/20\n",
      "23155/23155 [==============================] - 29s 1ms/step - loss: 0.1068 - accuracy: 0.9598 - val_loss: 0.1338 - val_accuracy: 0.9498\n",
      "Epoch 17/20\n",
      "23155/23155 [==============================] - 29s 1ms/step - loss: 0.1041 - accuracy: 0.9610 - val_loss: 0.1331 - val_accuracy: 0.9496\n",
      "Epoch 18/20\n",
      "23155/23155 [==============================] - 30s 1ms/step - loss: 0.0999 - accuracy: 0.9624 - val_loss: 0.1340 - val_accuracy: 0.9502\n",
      "Epoch 19/20\n",
      "23155/23155 [==============================] - 29s 1ms/step - loss: 0.0977 - accuracy: 0.9632 - val_loss: 0.1330 - val_accuracy: 0.9504\n",
      "Epoch 20/20\n",
      "23155/23155 [==============================] - 29s 1ms/step - loss: 0.0950 - accuracy: 0.9643 - val_loss: 0.1333 - val_accuracy: 0.9505\n"
     ]
    }
   ],
   "source": [
    "x_train = x_train.reshape((x_train.shape[0], x_train.shape[1],n_features))\n",
    "x_test = x_test.reshape((x_test.shape[0], x_test.shape[1],n_features))\n",
    "H = model_cnnlstm.fit(x_train, y_train, validation_data= (x_test,y_test),epochs=20, verbose=1, batch_size=512)"
   ]
  },
  {
   "cell_type": "code",
   "execution_count": null,
   "metadata": {
    "colab": {
     "base_uri": "https://localhost:8080/",
     "height": 312
    },
    "colab_type": "code",
    "id": "U1t8hYcjaOLE",
    "outputId": "3bc22f34-34fd-4940-fa0d-61deac0ecc20"
   },
   "outputs": [
    {
     "data": {
      "image/png": "[encoded data removed]",
      "text/plain": [
       "<Figure size 432x288 with 1 Axes>"
      ]
     },
     "metadata": {
      "needs_background": "light",
      "tags": []
     },
     "output_type": "display_data"
    },
    {
     "data": {
      "text/plain": [
       "<Figure size 432x288 with 0 Axes>"
      ]
     },
     "metadata": {
      "tags": []
     },
     "output_type": "display_data"
    }
   ],
   "source": [
    "import matplotlib.pyplot as plt \n",
    "plt.figure()\n",
    "plt.plot(H.history['loss'])\n",
    "plt.plot(H.history['val_loss'])\n",
    "plt.title(\"model loss\")\n",
    "plt.ylabel(\"Loss\")\n",
    "plt.xlabel(\"Epoch\")\n",
    "plt.legend([\"Loss\",\"Validation Loss\"])\n",
    "plt.show()\n",
    "plt.savefig('chart loss.png')"
   ]
  },
  {
   "cell_type": "code",
   "execution_count": null,
   "metadata": {
    "colab": {
     "base_uri": "https://localhost:8080/",
     "height": 34
    },
    "colab_type": "code",
    "id": "UHC6Mpt2aOOO",
    "outputId": "c6128ca7-c357-4302-cefb-6e01969f04b9"
   },
   "outputs": [
    {
     "name": "stdout",
     "output_type": "stream",
     "text": [
      "Test Accuracy: 95.049524\n"
     ]
    }
   ],
   "source": [
    "# evaluate \n",
    "loss, acc = model_cnnlstm.evaluate(x_test, y_test, verbose=0)\n",
    "print('Test Accuracy: %f' % (acc*100)) \n",
    "\n",
    "# lb: label encodem \n",
    "# ft: fast text \n",
    "# sg: skip gram \n",
    "# cnn: convolution neural network \n",
    "# lstm: long short term memory \n",
    "# nn: neural network"
   ]
  },
  {
   "cell_type": "code",
   "execution_count": null,
   "metadata": {
    "colab": {},
    "colab_type": "code",
    "id": "ASIfwljaaOJL"
   },
   "outputs": [],
   "source": [
    "LABEL_ENCODE_PATH=\"/content/drive/My Drive/NLP/WordSmi/ModelClassify/Word2Vec/lb_elmo_cnn_lstm.pkl\" \n",
    "ESTIMATE_PATH=\"/content/drive/My Drive/NLP/WordSmi/ModelClassify/Word2Vec/estimator_elmo_cnn_lstm.h5\"\n",
    "FileStore(file_path=LABEL_ENCODE_PATH).save_pickle(obj=mlb)\n",
    "FileStore(file_path=ESTIMATE_PATH).save_pickle(obj=model_cnnlstm)\n",
    "\n",
    "from keras.models import save_model, load_model\n",
    "\n",
    "# Creates a HDF5 file 'ESTIMATE_PATH.h5' \n",
    "save_model(model_cnnlstm, ESTIMATE_PATH) "
   ]
  },
  {
   "cell_type": "code",
   "execution_count": null,
   "metadata": {
    "colab": {},
    "colab_type": "code",
    "id": "IPfgHDaraOEe"
   },
   "outputs": [],
   "source": []
  },
  {
   "cell_type": "markdown",
   "metadata": {
    "colab_type": "text",
    "id": "IOzWhK2jdqlX"
   },
   "source": [
    "RNN_Model\n"
   ]
  },
  {
   "cell_type": "code",
   "execution_count": 12,
   "metadata": {
    "colab": {
     "base_uri": "https://localhost:8080/",
     "height": 265
    },
    "colab_type": "code",
    "id": "nHkvvBdNaN_M",
    "outputId": "cdf86e40-bbd7-4216-ab2e-df5ba8d11cb0"
   },
   "outputs": [
    {
     "name": "stdout",
     "output_type": "stream",
     "text": [
      "Model: \"sequential_1\"\n",
      "_________________________________________________________________\n",
      "Layer (type)                 Output Shape              Param #   \n",
      "=================================================================\n",
      "bidirectional_1 (Bidirection (None, 400)               323200    \n",
      "_________________________________________________________________\n",
      "dense_1 (Dense)              (None, 100)               40100     \n",
      "_________________________________________________________________\n",
      "dense_2 (Dense)              (None, 12)                1212      \n",
      "=================================================================\n",
      "Total params: 364,512\n",
      "Trainable params: 364,512\n",
      "Non-trainable params: 0\n",
      "_________________________________________________________________\n"
     ]
    }
   ],
   "source": [
    "from keras.models import Sequential\n",
    "from keras.layers.normalization import BatchNormalization\n",
    "from keras.layers.convolutional import Conv2D\n",
    "from keras.layers.convolutional import MaxPooling2D\n",
    "from keras.layers.core import Activation, Dense, Flatten, Dropout\n",
    "from keras.layers import LSTM\n",
    "from keras import backend as K\n",
    "from keras.optimizers import Adam, SGD \n",
    "from keras.layers import LeakyReLU,Conv1D,MaxPooling1D,Bidirectional\n",
    "from sklearn.metrics import classification_report\n",
    "class RNN_Model(object): \n",
    "  @staticmethod\n",
    "  def build(SIZE_TRAIN,num_classes, final_activation):    \n",
    "    # define model\n",
    "    model = Sequential()\n",
    "    model.add(Bidirectional(LSTM(200, activation='tanh', dropout=0.2, recurrent_dropout=0.2),input_shape=(SIZE_TRAIN,1))) \n",
    "    model.add(Dense(100))\n",
    "    model.add(Dense(num_classes, activation=final_activation)) \n",
    "    return model \n",
    "\n",
    "    \n",
    "# khởi tạo model\n",
    "EPOCHS = 20\n",
    "INIT_LR = 1e-3\n",
    "BS = 32 \n",
    "n_features = 1\n",
    "\n",
    "model_rnn = RNN_Model.build(SIZE_TRAIN=SIZE_TRAIN,num_classes=len(mlb.classes_),final_activation='softmax')\n",
    "opt = Adam(lr=INIT_LR, decay=INIT_LR / EPOCHS)\n",
    "sgd = SGD(lr=0.001); \n",
    "model_rnn.compile(loss='binary_crossentropy', optimizer=opt, metrics=['accuracy'])\n",
    "model_rnn.summary() \n",
    "  "
   ]
  },
  {
   "cell_type": "code",
   "execution_count": 13,
   "metadata": {
    "colab": {},
    "colab_type": "code",
    "id": "GIX2Dt78iLUn"
   },
   "outputs": [],
   "source": [
    "# from sklearn import preprocessing\n",
    "# x_t = preprocessing.scale(x_train.reshape((x_train.shape[0], x_train.shape[1])))"
   ]
  },
  {
   "cell_type": "code",
   "execution_count": 14,
   "metadata": {
    "colab": {
     "base_uri": "https://localhost:8080/",
     "height": 745
    },
    "colab_type": "code",
    "id": "cd4xz88vaN9a",
    "outputId": "725888ab-db2c-4443-cd46-d2502eefd01f"
   },
   "outputs": [
    {
     "name": "stdout",
     "output_type": "stream",
     "text": [
      "Train on 23155 samples, validate on 5789 samples\n",
      "Epoch 1/20\n",
      "23155/23155 [==============================] - 121s 5ms/step - loss: 0.2367 - accuracy: 0.9209 - val_loss: 0.2009 - val_accuracy: 0.9268\n",
      "Epoch 2/20\n",
      "23155/23155 [==============================] - 120s 5ms/step - loss: 0.1988 - accuracy: 0.9284 - val_loss: 0.1682 - val_accuracy: 0.9363\n",
      "Epoch 3/20\n",
      "23155/23155 [==============================] - 118s 5ms/step - loss: 0.1803 - accuracy: 0.9340 - val_loss: 0.1528 - val_accuracy: 0.9422\n",
      "Epoch 4/20\n",
      "23155/23155 [==============================] - 119s 5ms/step - loss: 0.1701 - accuracy: 0.9371 - val_loss: 0.1459 - val_accuracy: 0.9444\n",
      "Epoch 5/20\n",
      "23155/23155 [==============================] - 120s 5ms/step - loss: 0.1627 - accuracy: 0.9398 - val_loss: 0.1430 - val_accuracy: 0.9444\n",
      "Epoch 6/20\n",
      "23155/23155 [==============================] - 121s 5ms/step - loss: 0.1559 - accuracy: 0.9417 - val_loss: 0.1410 - val_accuracy: 0.9458\n",
      "Epoch 7/20\n",
      "23155/23155 [==============================] - 121s 5ms/step - loss: 0.1530 - accuracy: 0.9423 - val_loss: 0.1341 - val_accuracy: 0.9476\n",
      "Epoch 8/20\n",
      "23155/23155 [==============================] - 120s 5ms/step - loss: 0.1486 - accuracy: 0.9444 - val_loss: 0.1317 - val_accuracy: 0.9491\n",
      "Epoch 9/20\n",
      "23155/23155 [==============================] - 118s 5ms/step - loss: 0.1479 - accuracy: 0.9448 - val_loss: 0.1339 - val_accuracy: 0.9480\n",
      "Epoch 10/20\n",
      "23155/23155 [==============================] - 118s 5ms/step - loss: 0.1465 - accuracy: 0.9451 - val_loss: 0.1271 - val_accuracy: 0.9516\n",
      "Epoch 11/20\n",
      "23155/23155 [==============================] - 120s 5ms/step - loss: 0.1406 - accuracy: 0.9471 - val_loss: 0.1246 - val_accuracy: 0.9520\n",
      "Epoch 12/20\n",
      "23155/23155 [==============================] - 118s 5ms/step - loss: 0.1400 - accuracy: 0.9476 - val_loss: 0.1227 - val_accuracy: 0.9529\n",
      "Epoch 13/20\n",
      "23155/23155 [==============================] - 115s 5ms/step - loss: 0.1367 - accuracy: 0.9489 - val_loss: 0.1230 - val_accuracy: 0.9532\n",
      "Epoch 14/20\n",
      "23155/23155 [==============================] - 113s 5ms/step - loss: 0.1381 - accuracy: 0.9485 - val_loss: 0.1232 - val_accuracy: 0.9533\n",
      "Epoch 15/20\n",
      "23155/23155 [==============================] - 113s 5ms/step - loss: 0.1368 - accuracy: 0.9486 - val_loss: 0.1229 - val_accuracy: 0.9537\n",
      "Epoch 16/20\n",
      "23155/23155 [==============================] - 112s 5ms/step - loss: 0.1337 - accuracy: 0.9497 - val_loss: 0.1207 - val_accuracy: 0.9540\n",
      "Epoch 17/20\n",
      "23155/23155 [==============================] - 113s 5ms/step - loss: 0.1312 - accuracy: 0.9505 - val_loss: 0.1204 - val_accuracy: 0.9545\n",
      "Epoch 18/20\n",
      "23155/23155 [==============================] - 115s 5ms/step - loss: 0.1300 - accuracy: 0.9516 - val_loss: 0.1177 - val_accuracy: 0.9557\n",
      "Epoch 19/20\n",
      "23155/23155 [==============================] - 113s 5ms/step - loss: 0.1287 - accuracy: 0.9517 - val_loss: 0.1153 - val_accuracy: 0.9564\n",
      "Epoch 20/20\n",
      "23155/23155 [==============================] - 114s 5ms/step - loss: 0.1284 - accuracy: 0.9520 - val_loss: 0.1162 - val_accuracy: 0.9563\n"
     ]
    }
   ],
   "source": [
    "x_train = x_train.reshape((x_train.shape[0], x_train.shape[1],n_features))\n",
    "x_test = x_test.reshape((x_test.shape[0], x_test.shape[1],n_features))\n",
    "H = model_rnn.fit(x_train, y_train, validation_data= (x_test,y_test),epochs=20, verbose=1, batch_size=512)"
   ]
  },
  {
   "cell_type": "code",
   "execution_count": 15,
   "metadata": {
    "colab": {
     "base_uri": "https://localhost:8080/",
     "height": 312
    },
    "colab_type": "code",
    "id": "-d2VLLrVdst5",
    "outputId": "7ffa7ccb-ea6f-4f64-c77a-8d3c5a020349"
   },
   "outputs": [
    {
     "data": {
      "image/png": "[encoded data removed]",
      "text/plain": [
       "<Figure size 432x288 with 1 Axes>"
      ]
     },
     "metadata": {
      "needs_background": "light",
      "tags": []
     },
     "output_type": "display_data"
    },
    {
     "data": {
      "text/plain": [
       "<Figure size 432x288 with 0 Axes>"
      ]
     },
     "metadata": {
      "tags": []
     },
     "output_type": "display_data"
    }
   ],
   "source": [
    "import matplotlib.pyplot as plt \n",
    "plt.figure()\n",
    "plt.plot(H.history['loss'])\n",
    "plt.plot(H.history['val_loss'])\n",
    "plt.title(\"model loss\")\n",
    "plt.ylabel(\"Loss\")\n",
    "plt.xlabel(\"Epoch\")\n",
    "plt.legend([\"Loss\",\"Validation Loss\"])\n",
    "plt.show()\n",
    "plt.savefig('chart loss.png')"
   ]
  },
  {
   "cell_type": "code",
   "execution_count": 16,
   "metadata": {
    "colab": {
     "base_uri": "https://localhost:8080/",
     "height": 34
    },
    "colab_type": "code",
    "id": "MKNU2gjfdswl",
    "outputId": "59e36982-f2bf-4567-b870-81a9394531a4"
   },
   "outputs": [
    {
     "name": "stdout",
     "output_type": "stream",
     "text": [
      "Test Accuracy: 95.632517\n"
     ]
    }
   ],
   "source": [
    "# evaluate \n",
    "loss, acc = model_rnn.evaluate(x_test, y_test, verbose=0)\n",
    "print('Test Accuracy: %f' % (acc*100)) \n",
    "\n",
    "# lb: label encodem \n",
    "# ft: fast text \n",
    "# sg: skip gram \n",
    "# cnn: convolution neural network \n",
    "# lstm: long short term memory \n",
    "# nn: neural network"
   ]
  },
  {
   "cell_type": "code",
   "execution_count": 17,
   "metadata": {
    "colab": {},
    "colab_type": "code",
    "id": "zn8bzlKRds1g"
   },
   "outputs": [],
   "source": [
    "LABEL_ENCODE_PATH=\"/content/drive/My Drive/NLP/WordSmi/ModelClassify/Word2Vec/lb_elmo_rnn.pkl\" \n",
    "ESTIMATE_PATH=\"/content/drive/My Drive/NLP/WordSmi/ModelClassify/Word2Vec/estimator_elmo_rnn.h5\"\n",
    "FileStore(file_path=LABEL_ENCODE_PATH).save_pickle(obj=mlb)\n",
    "FileStore(file_path=ESTIMATE_PATH).save_pickle(obj=model_rnn)\n",
    "\n",
    "from keras.models import save_model, load_model\n",
    "\n",
    "# Creates a HDF5 file 'ESTIMATE_PATH.h5' \n",
    "save_model(model_rnn, ESTIMATE_PATH) "
   ]
  },
  {
   "cell_type": "code",
   "execution_count": null,
   "metadata": {
    "colab": {},
    "colab_type": "code",
    "id": "thEoSdRzds83"
   },
   "outputs": [],
   "source": []
  },
  {
   "cell_type": "code",
   "execution_count": null,
   "metadata": {
    "colab": {},
    "colab_type": "code",
    "id": "EYsAwZYhdtB5"
   },
   "outputs": [],
   "source": []
  },
  {
   "cell_type": "code",
   "execution_count": null,
   "metadata": {
    "colab": {},
    "colab_type": "code",
    "id": "pk04MrzUds_q"
   },
   "outputs": [],
   "source": []
  },
  {
   "cell_type": "code",
   "execution_count": null,
   "metadata": {
    "colab": {},
    "colab_type": "code",
    "id": "Mv41n_r7ds7W"
   },
   "outputs": [],
   "source": []
  },
  {
   "cell_type": "code",
   "execution_count": null,
   "metadata": {
    "colab": {},
    "colab_type": "code",
    "id": "McEA_92Zds4k"
   },
   "outputs": [],
   "source": []
  },
  {
   "cell_type": "code",
   "execution_count": null,
   "metadata": {
    "colab": {},
    "colab_type": "code",
    "id": "LB0KXlESdszY"
   },
   "outputs": [],
   "source": []
  },
  {
   "cell_type": "code",
   "execution_count": null,
   "metadata": {
    "colab": {},
    "colab_type": "code",
    "id": "gaJlndqNaN3_"
   },
   "outputs": [],
   "source": []
  }
 ],
 "metadata": {
  "accelerator": "GPU",
  "colab": {
   "collapsed_sections": [],
   "name": "Word2VecTraining.ipynb",
   "provenance": []
  },
  "kernelspec": {
   "display_name": "Python 3",
   "language": "python",
   "name": "python3"
  },
  "language_info": {
   "codemirror_mode": {
    "name": "ipython",
    "version": 3
   },
   "file_extension": ".py",
   "mimetype": "text/x-python",
   "name": "python",
   "nbconvert_exporter": "python",
   "pygments_lexer": "ipython3",
   "version": "3.7.6"
  },
  "widgets": {
   "application/vnd.jupyter.widget-state+json": {
    "3e0446af76904de492276eb578256fc2": {
     "model_module": "@jupyter-widgets/base",
     "model_name": "LayoutModel",
     "state": {
      "_model_module": "@jupyter-widgets/base",
      "_model_module_version": "1.2.0",
      "_model_name": "LayoutModel",
      "_view_count": null,
      "_view_module": "@jupyter-widgets/base",
      "_view_module_version": "1.2.0",
      "_view_name": "LayoutView",
      "align_content": null,
      "align_items": null,
      "align_self": null,
      "border": null,
      "bottom": null,
      "display": null,
      "flex": null,
      "flex_flow": null,
      "grid_area": null,
      "grid_auto_columns": null,
      "grid_auto_flow": null,
      "grid_auto_rows": null,
      "grid_column": null,
      "grid_gap": null,
      "grid_row": null,
      "grid_template_areas": null,
      "grid_template_columns": null,
      "grid_template_rows": null,
      "height": null,
      "justify_content": null,
      "justify_items": null,
      "left": null,
      "margin": null,
      "max_height": null,
      "max_width": null,
      "min_height": null,
      "min_width": null,
      "object_fit": null,
      "object_position": null,
      "order": null,
      "overflow": null,
      "overflow_x": null,
      "overflow_y": null,
      "padding": null,
      "right": null,
      "top": null,
      "visibility": null,
      "width": null
     }
    },
    "4571c35611ea487f8cae2e735085a3ca": {
     "model_module": "@jupyter-widgets/controls",
     "model_name": "HTMLModel",
     "state": {
      "_dom_classes": [],
      "_model_module": "@jupyter-widgets/controls",
      "_model_module_version": "1.5.0",
      "_model_name": "HTMLModel",
      "_view_count": null,
      "_view_module": "@jupyter-widgets/controls",
      "_view_module_version": "1.5.0",
      "_view_name": "HTMLView",
      "description": "",
      "description_tooltip": null,
      "layout": "IPY_MODEL_e0ee6a5621474be899f958120401f6f9",
      "placeholder": "​",
      "style": "IPY_MODEL_8ac9037888b84ccdb39fcaf858baa704",
      "value": " 28944/28944 [14:45&lt;00:00, 32.69it/s]"
     }
    },
    "5f9a2c33fb05467ab8a7a1504baf92d0": {
     "model_module": "@jupyter-widgets/controls",
     "model_name": "ProgressStyleModel",
     "state": {
      "_model_module": "@jupyter-widgets/controls",
      "_model_module_version": "1.5.0",
      "_model_name": "ProgressStyleModel",
      "_view_count": null,
      "_view_module": "@jupyter-widgets/base",
      "_view_module_version": "1.2.0",
      "_view_name": "StyleView",
      "bar_color": null,
      "description_width": "initial"
     }
    },
    "8ac9037888b84ccdb39fcaf858baa704": {
     "model_module": "@jupyter-widgets/controls",
     "model_name": "DescriptionStyleModel",
     "state": {
      "_model_module": "@jupyter-widgets/controls",
      "_model_module_version": "1.5.0",
      "_model_name": "DescriptionStyleModel",
      "_view_count": null,
      "_view_module": "@jupyter-widgets/base",
      "_view_module_version": "1.2.0",
      "_view_name": "StyleView",
      "description_width": ""
     }
    },
    "b3936e38e7d54873a3c02da165a0f89f": {
     "model_module": "@jupyter-widgets/controls",
     "model_name": "HBoxModel",
     "state": {
      "_dom_classes": [],
      "_model_module": "@jupyter-widgets/controls",
      "_model_module_version": "1.5.0",
      "_model_name": "HBoxModel",
      "_view_count": null,
      "_view_module": "@jupyter-widgets/controls",
      "_view_module_version": "1.5.0",
      "_view_name": "HBoxView",
      "box_style": "",
      "children": [
       "IPY_MODEL_d6fc2881b39a413c9bed8fa64653d5a7",
       "IPY_MODEL_4571c35611ea487f8cae2e735085a3ca"
      ],
      "layout": "IPY_MODEL_3e0446af76904de492276eb578256fc2"
     }
    },
    "d68cd6d2562f410386b13182101839db": {
     "model_module": "@jupyter-widgets/base",
     "model_name": "LayoutModel",
     "state": {
      "_model_module": "@jupyter-widgets/base",
      "_model_module_version": "1.2.0",
      "_model_name": "LayoutModel",
      "_view_count": null,
      "_view_module": "@jupyter-widgets/base",
      "_view_module_version": "1.2.0",
      "_view_name": "LayoutView",
      "align_content": null,
      "align_items": null,
      "align_self": null,
      "border": null,
      "bottom": null,
      "display": null,
      "flex": null,
      "flex_flow": null,
      "grid_area": null,
      "grid_auto_columns": null,
      "grid_auto_flow": null,
      "grid_auto_rows": null,
      "grid_column": null,
      "grid_gap": null,
      "grid_row": null,
      "grid_template_areas": null,
      "grid_template_columns": null,
      "grid_template_rows": null,
      "height": null,
      "justify_content": null,
      "justify_items": null,
      "left": null,
      "margin": null,
      "max_height": null,
      "max_width": null,
      "min_height": null,
      "min_width": null,
      "object_fit": null,
      "object_position": null,
      "order": null,
      "overflow": null,
      "overflow_x": null,
      "overflow_y": null,
      "padding": null,
      "right": null,
      "top": null,
      "visibility": null,
      "width": null
     }
    },
    "d6fc2881b39a413c9bed8fa64653d5a7": {
     "model_module": "@jupyter-widgets/controls",
     "model_name": "FloatProgressModel",
     "state": {
      "_dom_classes": [],
      "_model_module": "@jupyter-widgets/controls",
      "_model_module_version": "1.5.0",
      "_model_name": "FloatProgressModel",
      "_view_count": null,
      "_view_module": "@jupyter-widgets/controls",
      "_view_module_version": "1.5.0",
      "_view_name": "ProgressView",
      "bar_style": "success",
      "description": "build dataset: 100%",
      "description_tooltip": null,
      "layout": "IPY_MODEL_d68cd6d2562f410386b13182101839db",
      "max": 28944,
      "min": 0,
      "orientation": "horizontal",
      "style": "IPY_MODEL_5f9a2c33fb05467ab8a7a1504baf92d0",
      "value": 28944
     }
    },
    "e0ee6a5621474be899f958120401f6f9": {
     "model_module": "@jupyter-widgets/base",
     "model_name": "LayoutModel",
     "state": {
      "_model_module": "@jupyter-widgets/base",
      "_model_module_version": "1.2.0",
      "_model_name": "LayoutModel",
      "_view_count": null,
      "_view_module": "@jupyter-widgets/base",
      "_view_module_version": "1.2.0",
      "_view_name": "LayoutView",
      "align_content": null,
      "align_items": null,
      "align_self": null,
      "border": null,
      "bottom": null,
      "display": null,
      "flex": null,
      "flex_flow": null,
      "grid_area": null,
      "grid_auto_columns": null,
      "grid_auto_flow": null,
      "grid_auto_rows": null,
      "grid_column": null,
      "grid_gap": null,
      "grid_row": null,
      "grid_template_areas": null,
      "grid_template_columns": null,
      "grid_template_rows": null,
      "height": null,
      "justify_content": null,
      "justify_items": null,
      "left": null,
      "margin": null,
      "max_height": null,
      "max_width": null,
      "min_height": null,
      "min_width": null,
      "object_fit": null,
      "object_position": null,
      "order": null,
      "overflow": null,
      "overflow_x": null,
      "overflow_y": null,
      "padding": null,
      "right": null,
      "top": null,
      "visibility": null,
      "width": null
     }
    }
   }
  }
 },
 "nbformat": 4,
 "nbformat_minor": 1
}
