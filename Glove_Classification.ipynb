{
 "cells": [
  {
   "cell_type": "code",
   "execution_count": 1,
   "metadata": {
    "colab": {
     "base_uri": "https://localhost:8080/",
     "height": 34
    },
    "colab_type": "code",
    "id": "KJfgfiJh4ZKI",
    "outputId": "ac72cc7e-ee15-49d1-ca91-be495c792e41"
   },
   "outputs": [],
   "source": [
    "import numpy as np \n",
    "import random"
   ]
  },
  {
   "cell_type": "code",
   "execution_count": 4,
   "metadata": {
    "colab": {},
    "colab_type": "code",
    "id": "M-EFp6594ZKM"
   },
   "outputs": [],
   "source": [
    "with open('./data/vocab.txt', 'r',encoding=\"utf8\") as f:\n",
    "    words = [x.rstrip().split(' ')[0] for x in f.readlines()]\n",
    "    \n",
    "   # print(vocab)\n",
    "with open('./data/vectors.txt', 'r',encoding=\"utf8\") as f:\n",
    "    vectors = {}\n",
    "    for line in f:\n",
    "        vals = line.rstrip().split(' ')\n",
    "        vectors[vals[0]] = [float(x) for x in vals[1:]]\n",
    "\n",
    "\n",
    "vocab_size = len(words)\n",
    "vocab = {w: idx for idx, w in enumerate(words)}\n",
    "ivocab = {idx: w for idx, w in enumerate(words)}"
   ]
  },
  {
   "cell_type": "code",
   "execution_count": 5,
   "metadata": {
    "colab": {},
    "colab_type": "code",
    "id": "FSqMq5L54ZKP"
   },
   "outputs": [],
   "source": [
    "from numpy import dot\n",
    "from numpy.linalg import norm\n",
    "cos_sim = lambda a, b: dot(a, b)/(norm(a)*norm(b))"
   ]
  },
  {
   "cell_type": "code",
   "execution_count": 6,
   "metadata": {
    "colab": {
     "base_uri": "https://localhost:8080/",
     "height": 34
    },
    "colab_type": "code",
    "id": "7gH8bCsQ4ZKS",
    "outputId": "0a6ab5ad-3a90-402e-fda7-0f5240fe0485"
   },
   "outputs": [
    {
     "name": "stdout",
     "output_type": "stream",
     "text": [
      "o2o lê_thống_nhất\n"
     ]
    }
   ],
   "source": [
    "a = words[random.randint(0,len(words))]\n",
    "b = words[random.randint(0,len(words))]\n",
    "print(a,b)"
   ]
  },
  {
   "cell_type": "code",
   "execution_count": 7,
   "metadata": {
    "colab": {
     "base_uri": "https://localhost:8080/",
     "height": 187
    },
    "colab_type": "code",
    "id": "yu4jrrY24ZKW",
    "outputId": "319e679d-e84f-4581-8425-1fd68481d8f6"
   },
   "outputs": [
    {
     "data": {
      "text/plain": [
       "[('lê_thống_nhất', 0.9999999999999998),\n",
       " ('nguyễn_thành_nhân', 0.6520938354965224),\n",
       " ('lê_nguyên_phương', 0.5983226526901934),\n",
       " ('trần_ngọc_hiếu', 0.5877212131825099),\n",
       " ('wyedean', 0.5804330022407962),\n",
       " ('tuấn_thăng', 0.5760451885124674),\n",
       " ('bùi_chí_trung', 0.5751163923676395),\n",
       " ('nguyễn_gia_bình', 0.5679530324364702),\n",
       " ('hayes', 0.5583416829550395),\n",
       " ('amee', 0.5568727537695647)]"
      ]
     },
     "execution_count": 7,
     "metadata": {},
     "output_type": "execute_result"
    }
   ],
   "source": [
    "dist = {}\n",
    "for item in words:\n",
    "    dist[item] = cos_sim(vectors[b],vectors[item])\n",
    "sorted(dist.items(), key=lambda x: x[1],reverse=True)[:10]"
   ]
  },
  {
   "cell_type": "code",
   "execution_count": 12,
   "metadata": {
    "colab": {
     "base_uri": "https://localhost:8080/",
     "height": 1000
    },
    "colab_type": "code",
    "id": "6Bem1JtR4ZKg",
    "outputId": "955db55d-c8f9-4e28-fd3f-8297d7991d0d"
   },
   "outputs": [],
   "source": [
    "import glob \n",
    "import json\n",
    "import random\n",
    "import json\n",
    "import random\n",
    "import os\n",
    "import glob\n",
    "from random import randint \n",
    "from gensim import corpora, matutils\n",
    "import pickle as cPickle   \n",
    "from pyvi import ViTokenizer \n",
    "from tqdm import trange, tqdm_notebook\n",
    "import numpy as np\n",
    "from sklearn.preprocessing import MultiLabelBinarizer,LabelEncoder\n",
    "\n",
    "# tạo class đọc file \n",
    "class FileReader(object):\n",
    "    def __init__(self, file_path, encoder = None):\n",
    "        self.file_path = file_path\n",
    "        self.encoder = encoder if encoder != None else 'utf-16le'\n",
    "\n",
    "    def read(self):\n",
    "        with open(self.file_path,'rb') as f:\n",
    "            s = f.read() \n",
    "        return s\n",
    "\n",
    "    def content(self):\n",
    "        s = self.read() \n",
    "        return s.decode(self.encoder)\n",
    "\n",
    "    def read_json(self):\n",
    "        with open(self.file_path) as f:\n",
    "            s = json.load(f)\n",
    "        return s\n",
    "        \n",
    "    def read_stopwords(self):\n",
    "        with open(self.file_path, 'r') as f:\n",
    "            stopwords = set([w.strip().replace(' ', '_') for w in f.readlines()])\n",
    "        return stopwords\n",
    "\n",
    "    def load_dictionary(self):\n",
    "        return corpora.Dictionary.load_from_text(self.file_path)\n"
   ]
  },
  {
   "cell_type": "code",
   "execution_count": 10,
   "metadata": {
    "colab": {},
    "colab_type": "code",
    "id": "pSkRbKEC6nUL"
   },
   "outputs": [],
   "source": [
    "\n",
    "class FileStore(object):\n",
    "    def __init__(self, file_path, data = None):\n",
    "        self.file_path = file_path\n",
    "        self.data = data\n",
    "\n",
    "    def store_json(self):\n",
    "        print(\"Save: \",self.file_path)\n",
    "        with open(self.file_path, 'w') as outfile:\n",
    "            json.dump(self.data, outfile)\n",
    "\n",
    "    # store dictionary: https://radimrehurek.com/gensim/corpora/dictionary.html#gensim.corpora.dictionary.Dictionary.filter_extremes\n",
    "    # dict_word là mãng chữa các đoạn text đã được segmentation [[cá, con, ăn],[con, mèo],[con, chó, chạy, qua]]\n",
    "    # len của dictionary sẽ là 7 \n",
    "    # no_above là tần suất xuất hiện trên số phần trăm ví dụ: no_above = 0.5 là tần suất xuất hiện không được trên (phải dưới) của tổng số tài liệu 50%\n",
    "    # no_below là số lần xuất hiện không được dưới ... ví dụ no_below = 2 là số lần xuất hiện trong từng tài liệu không được dưới 2\n",
    "    def store_dictionary(self, dict_words):\n",
    "        dictionary = corpora.Dictionary(dict_words)\n",
    "        dictionary.filter_extremes(no_below=170, no_above=0.3) \n",
    "        dictionary.save_as_text(self.file_path)\n",
    " \n",
    "\n",
    "    def save_pickle(self,  obj):\n",
    "        outfile = open(self.file_path, 'wb')\n",
    "        fastPickler = cPickle.Pickler(outfile, 4)\n",
    "        fastPickler.fast = 1\n",
    "        fastPickler.dump(obj)\n",
    "        outfile.close()"
   ]
  },
  {
   "cell_type": "code",
   "execution_count": 15,
   "metadata": {
    "colab": {},
    "colab_type": "code",
    "id": "jg1TnghV6ovk"
   },
   "outputs": [],
   "source": [
    "DATA_TRAIN_JSON = './dataset/train.json'\n",
    "\n",
    "STOP_WORDS = './data/stopwords-nlp-vi.txt'\n",
    "SPECIAL_CHARACTER = '0123456789%@$.,=+-!;/()*\"&^:#|\\n\\t\\''\n",
    "DICTIONARY_PATH = '/content/drive/My Drive/NLP/nlp_me/dictionary.txt'"
   ]
  },
  {
   "cell_type": "code",
   "execution_count": 16,
   "metadata": {
    "colab": {
     "base_uri": "https://localhost:8080/",
     "height": 34
    },
    "colab_type": "code",
    "id": "er91lbup6rXw",
    "outputId": "19c44558-5f5c-4205-9c02-80c0775ca35c"
   },
   "outputs": [
    {
     "name": "stdout",
     "output_type": "stream",
     "text": [
      "Total data train: 105800\n"
     ]
    }
   ],
   "source": [
    "# đọc file train\n",
    "train_loader = FileReader(file_path=DATA_TRAIN_JSON) \n",
    "data_train_raw = train_loader.read_json()\n",
    "print('Total data train: %d' %len(data_train_raw))\n",
    "random.shuffle(data_train_raw)"
   ]
  },
  {
   "cell_type": "code",
   "execution_count": 17,
   "metadata": {
    "colab": {},
    "colab_type": "code",
    "id": "QA2blfwQ6rwq"
   },
   "outputs": [],
   "source": [
    "dic = dict() \n",
    "dic_count = dict()\n",
    "NUM_RANDOM = random.randint(2000,2500) \n",
    "for item in data_train_raw:\n",
    "    if item['category'] not in dic.keys():\n",
    "        dic[item['category']] = NUM_RANDOM\n",
    "        dic_count[item['category']] = 0\n",
    "    if len(dic.keys()) > 10:\n",
    "        break"
   ]
  },
  {
   "cell_type": "code",
   "execution_count": 18,
   "metadata": {
    "colab": {},
    "colab_type": "code",
    "id": "98Jfgvvq6tKh"
   },
   "outputs": [],
   "source": [
    "data_train = []\n",
    "data_validate = []\n",
    "for item in data_train_raw:  \n",
    "    try:\n",
    "        if dic[item['category']] > dic_count[item['category']]:\n",
    "            data_train.append(item)\n",
    "            dic_count[item['category']]+=1\n",
    "        if dic[item['category']] < dic_count[item['category']]:\n",
    "            data_validate.append(item) \n",
    "    except:\n",
    "        continue"
   ]
  },
  {
   "cell_type": "code",
   "execution_count": 19,
   "metadata": {
    "colab": {},
    "colab_type": "code",
    "id": "gw0aJm_76ucz"
   },
   "outputs": [],
   "source": [
    "# xây dựng class NLP extends từ pyvi để extract feature \n",
    "class NLP(object):\n",
    "    def __init__(self, text = None):\n",
    "        self.text = text\n",
    "        self.__set_stopwords()\n",
    "\n",
    "    #đọc file stop_word đã chứa sẵn trong đường dẫn\n",
    "    def __set_stopwords(self):\n",
    "        self.stopwords = FileReader(STOP_WORDS).read_stopwords()\n",
    "\n",
    "    # vì trong câu sẽ xuất hiện rất nhiều từ vô nghĩa, sẽ làm noise dữ liệu cho nên phải segmentation trước khi train. Sử dụng ViTokenizer từ Pyvi \n",
    "    # để tokenize (đây là một model do người việt đã làm để segmentation tiếng việt)\n",
    "    def segmentation(self):\n",
    "        return ViTokenizer.tokenize(self.text)\n",
    "\n",
    "    # loại bỏ kí tự đặc biệt, lowercase và segmentation tiếng việt\n",
    "    def split_words(self):\n",
    "        text = self.segmentation()\n",
    "        try:\n",
    "            return [x.strip(SPECIAL_CHARACTER).lower() for x in text.split()]\n",
    "        except TypeError:\n",
    "            return []\n",
    "\n",
    "    # get feature trong câu gồm hai bước \n",
    "    # loại bỏ kí tự đặc biệt và loại bỏ stop_words - stop_word là những từ vô nghĩa không mang lại hiệu quả train \n",
    "    def get_words_feature(self):\n",
    "        split_words = self.split_words()\n",
    "        return [word for word in split_words if word.encode('utf-8') not in self.stopwords]\n"
   ]
  },
  {
   "cell_type": "code",
   "execution_count": 23,
   "metadata": {
    "colab": {},
    "colab_type": "code",
    "id": "YUqsTW1K6v9_"
   },
   "outputs": [],
   "source": [
    "# extract feature \n",
    "# build dictionary để chuyển embedding dữ liệu, chuyển về word2vec => bag of word\n",
    "from past.builtins import xrange\n",
    "class FeatureExtraction(object):\n",
    "    def __init__(self, data=None, build_dic=False):\n",
    "        self.data = data\n",
    "        self.build_dic = build_dic\n",
    "\n",
    "    # build từ điển gồm các từ xuất hiện trong văn bản sau khi đã preprocess dữ liệu \n",
    "    def __build_dictionary(self):\n",
    "        print('Building dictionary')\n",
    "        dict_words = []  \n",
    "        for i in tqdm_notebook(xrange(len(self.data)), desc='build dictionary'): \n",
    "            if self.data[i]['category'].split('.')[0] != 'My': \n",
    "                words = NLP(text = self.data[i]['content']).get_words_feature()\n",
    "                dict_words.append(words)  \n",
    "        FileStore(file_path=DICTIONARY_PATH).store_dictionary(dict_words)\n",
    "\n",
    "    # load từ điển đã xây dựng theo dữ liệu train\n",
    "    def __load_dictionary(self):\n",
    "        if os.path.exists(DICTIONARY_PATH) == False or self.build_dic == True: \n",
    "            print(\"Dictionary is not exist\")\n",
    "            self.__build_dictionary() \n",
    "            self.build_dic = False\n",
    "        \n",
    "        self.dictionary = FileReader(DICTIONARY_PATH).load_dictionary()\n",
    "    # extract feature từ từ điển đã tạo cùng với label\n",
    "    # x sẽ là word2vec, y là label\n",
    "    def __build_dataset(self):\n",
    "        self.features = []\n",
    "        self.labels = [] \n",
    "        for i in tqdm_notebook(xrange(len(self.data)), desc='build dataset'): \n",
    "            # if self.data[i]['category'].split('.')[0] != 'My':\n",
    "            # for key, value in dic.items():\n",
    "            #   print(key, value)\n",
    "            content = self.get_dense(self.data[i]['content'])\n",
    "            self.features.append(content)\n",
    "            self.labels.append(self.data[i]['category'])\n",
    "              # if str(self.data[i]['category'].split('.')[1]) == 'Chinh_tri_doi_ngoai' or str(self.data[i]['category'].split('.')[1]) == 'Chinh_tri_noi_bo':\n",
    "              #   self.labels.append(str(self.data[i]['category'])+'.Chinh_tri')\n",
    "              # else:\n",
    "              #   self.labels.append(str(self.data[i]['category'])+'.'+str(self.data[i]['category'].split('.')[1]))\n",
    "\n",
    "    # def get_dense(self, text):\n",
    "    #     self.__load_dictionary()\n",
    "    #     words = NLP(text).get_words_feature()\n",
    "    #     # Bag of words\n",
    "    #     vec = self.dictionary.doc2bow(words)  \n",
    "    #     dense = list(matutils.corpus2dense([vec], num_terms=len(self.dictionary)).T[0])\n",
    "    #     return dense\n",
    "\n",
    "    def get_dense(self, text):\n",
    "        words = NLP(text).get_words_feature()\n",
    "        vec = []\n",
    "        for w in words:\n",
    "            try:\n",
    "                vec.append(vectors[w])\n",
    "            except:\n",
    "                continue\n",
    "        return np.sum(vec, axis=0)\n",
    "\n",
    "    def get_data_and_label(self):\n",
    "        print(\"** Start build dataset\")\n",
    "        self.__build_dataset()  \n",
    "        return self.features, self.labels\n",
    "\n"
   ]
  },
  {
   "cell_type": "code",
   "execution_count": 24,
   "metadata": {
    "colab": {
     "base_uri": "https://localhost:8080/",
     "height": 117,
     "referenced_widgets": [
      "d850030d2d0c4b16bfa576f50ddf9d48",
      "734a74b41c5c451a8c157a7fcb5651e7",
      "024756b5f3fe41bda19f8972448821e1",
      "4847969dfb7c4837999792ac5bf461d0",
      "b094344cd8084eccac8d0ee52d95edeb",
      "729eb6dcc4e348c4bf524c5b91177ceb",
      "920ea827e0c24ece9c677678e524e094",
      "71947fd3d97f4e57a984955703b0c09d"
     ]
    },
    "colab_type": "code",
    "id": "8bT9uEMk68Hq",
    "outputId": "f9f45336-5c38-4c28-fed2-0b82cdc94ed3"
   },
   "outputs": [
    {
     "name": "stdout",
     "output_type": "stream",
     "text": [
      "** Start build dataset\n"
     ]
    },
    {
     "name": "stderr",
     "output_type": "stream",
     "text": [
      "/usr/local/lib/python3.6/dist-packages/ipykernel_launcher.py:32: TqdmDeprecationWarning: This function will be removed in tqdm==5.0.0\n",
      "Please use `tqdm.notebook.tqdm` instead of `tqdm.tqdm_notebook`\n"
     ]
    },
    {
     "data": {
      "application/vnd.jupyter.widget-view+json": {
       "model_id": "d850030d2d0c4b16bfa576f50ddf9d48",
       "version_major": 2,
       "version_minor": 0
      },
      "text/plain": [
       "HBox(children=(FloatProgress(value=0.0, description='build dataset', max=22946.0, style=ProgressStyle(descript…"
      ]
     },
     "metadata": {
      "tags": []
     },
     "output_type": "display_data"
    },
    {
     "name": "stdout",
     "output_type": "stream",
     "text": [
      "\n"
     ]
    }
   ],
   "source": [
    "\n",
    "features_train, labels_train = FeatureExtraction(data=data_train, build_dic=False).get_data_and_label() "
   ]
  },
  {
   "cell_type": "code",
   "execution_count": 25,
   "metadata": {
    "colab": {},
    "colab_type": "code",
    "id": "swx2L4FV6_Qf"
   },
   "outputs": [],
   "source": [
    "# load data hơi lâu nên để hai biến giữ lại data ban dầu \n",
    "# a, b = np.array(features_train),np.array(labels_train) \n",
    "x, y = np.array(features_train),np.array(labels_train)\n",
    " "
   ]
  },
  {
   "cell_type": "code",
   "execution_count": 26,
   "metadata": {
    "colab": {
     "base_uri": "https://localhost:8080/",
     "height": 34
    },
    "colab_type": "code",
    "id": "-mV-U39G7Lcn",
    "outputId": "1dfcced7-e8ac-46b8-eed8-e240d38a43b9"
   },
   "outputs": [
    {
     "name": "stderr",
     "output_type": "stream",
     "text": [
      "Using TensorFlow backend.\n"
     ]
    }
   ],
   "source": [
    "from keras.utils import to_categorical\n",
    "\n",
    "# encode label \n",
    "mlb = LabelEncoder() \n",
    "k = mlb.fit_transform(y)\n",
    "# one hot encoding \n",
    "y = to_categorical(k)"
   ]
  },
  {
   "cell_type": "code",
   "execution_count": 27,
   "metadata": {
    "colab": {
     "base_uri": "https://localhost:8080/",
     "height": 34
    },
    "colab_type": "code",
    "id": "F5JUYvnb7L5S",
    "outputId": "496d5746-3858-4b35-9af7-42106560a53b"
   },
   "outputs": [
    {
     "data": {
      "text/plain": [
       "(18356, 11)"
      ]
     },
     "execution_count": 27,
     "metadata": {
      "tags": []
     },
     "output_type": "execute_result"
    }
   ],
   "source": [
    "from sklearn.model_selection import train_test_split\n",
    "# chia tập train, test theo tỉ lệ 8:2   \n",
    "(x_train,x_test, y_train, y_test) = train_test_split(x, y, test_size=0.2, random_state=43)\n",
    "y_train.shape"
   ]
  },
  {
   "cell_type": "code",
   "execution_count": 28,
   "metadata": {
    "colab": {
     "base_uri": "https://localhost:8080/",
     "height": 102
    },
    "colab_type": "code",
    "id": "jdA6BIVE7M-m",
    "outputId": "c5162b86-bb03-48e6-b90d-a4a6f2c6b635"
   },
   "outputs": [
    {
     "name": "stdout",
     "output_type": "stream",
     "text": [
      "Shape features: Total document 22946 - Size matrix train (size dictionary) (18356, 50)\n",
      "Train set 18356 docs\n",
      "Test set 4590 docs\n",
      "Shape (22946, 50) (22946, 11)\n"
     ]
    },
    {
     "data": {
      "text/plain": [
       "array([0., 1., 0., 0., 0., 0., 0., 0., 0., 0., 0.], dtype=float32)"
      ]
     },
     "execution_count": 28,
     "metadata": {
      "tags": []
     },
     "output_type": "execute_result"
    }
   ],
   "source": [
    "print('Shape features:',\"Total document\",y_train.shape[0] + y_test.shape[0],\"- Size matrix train (size dictionary)\",x_train.shape)\n",
    "print('Train set',y_train.shape[0],'docs') \n",
    "print('Test set',y_test.shape[0],'docs') \n",
    "print(\"Shape\",x.shape,y.shape)\n",
    "SIZE_TRAIN = x_train.shape[1]\n",
    "y_test[0]\n"
   ]
  },
  {
   "cell_type": "code",
   "execution_count": 29,
   "metadata": {
    "colab": {
     "base_uri": "https://localhost:8080/",
     "height": 221
    },
    "colab_type": "code",
    "id": "DIc7Q6ZX7N3g",
    "outputId": "1f9b50f1-73d4-4e75-d9af-37a3bb6553be"
   },
   "outputs": [
    {
     "name": "stdout",
     "output_type": "stream",
     "text": [
      "- tổng số label:\n",
      "1. Cuoc_song_muon_mau\n",
      "2. Giao_duc\n",
      "3. Khoa_hoc\n",
      "4. Kinh_doanh\n",
      "5. Phap_luat\n",
      "6. Tai_chinh_quoc_te\n",
      "7. The_thao\n",
      "8. Thi_truong\n",
      "9. Tin_tuc\n",
      "10. Van_hoa\n",
      "11. Xe\n"
     ]
    }
   ],
   "source": [
    "print(\"- tổng số label:\")\n",
    "# loop over each of the possible class labels and show them\n",
    "for (i, label) in enumerate(mlb.classes_):\n",
    "\tprint(\"{}. {}\".format(i + 1, label)) "
   ]
  },
  {
   "cell_type": "code",
   "execution_count": 30,
   "metadata": {
    "colab": {
     "base_uri": "https://localhost:8080/",
     "height": 629
    },
    "colab_type": "code",
    "id": "ggMTydy47PV3",
    "outputId": "de7662a2-4f6d-4e49-85e6-c6ea3f810659"
   },
   "outputs": [
    {
     "name": "stdout",
     "output_type": "stream",
     "text": [
      "Model: \"sequential_1\"\n",
      "_________________________________________________________________\n",
      "Layer (type)                 Output Shape              Param #   \n",
      "=================================================================\n",
      "dense_1 (Dense)              (None, 700)               35700     \n",
      "_________________________________________________________________\n",
      "leaky_re_lu_1 (LeakyReLU)    (None, 700)               0         \n",
      "_________________________________________________________________\n",
      "dropout_1 (Dropout)          (None, 700)               0         \n",
      "_________________________________________________________________\n",
      "dense_2 (Dense)              (None, 600)               420600    \n",
      "_________________________________________________________________\n",
      "leaky_re_lu_2 (LeakyReLU)    (None, 600)               0         \n",
      "_________________________________________________________________\n",
      "dropout_2 (Dropout)          (None, 600)               0         \n",
      "_________________________________________________________________\n",
      "dense_3 (Dense)              (None, 500)               300500    \n",
      "_________________________________________________________________\n",
      "leaky_re_lu_3 (LeakyReLU)    (None, 500)               0         \n",
      "_________________________________________________________________\n",
      "dropout_3 (Dropout)          (None, 500)               0         \n",
      "_________________________________________________________________\n",
      "dense_4 (Dense)              (None, 400)               200400    \n",
      "_________________________________________________________________\n",
      "leaky_re_lu_4 (LeakyReLU)    (None, 400)               0         \n",
      "_________________________________________________________________\n",
      "dropout_4 (Dropout)          (None, 400)               0         \n",
      "_________________________________________________________________\n",
      "dense_5 (Dense)              (None, 300)               120300    \n",
      "_________________________________________________________________\n",
      "dense_6 (Dense)              (None, 11)                3311      \n",
      "=================================================================\n",
      "Total params: 1,080,811\n",
      "Trainable params: 1,080,811\n",
      "Non-trainable params: 0\n",
      "_________________________________________________________________\n"
     ]
    }
   ],
   "source": [
    "from keras.models import Sequential\n",
    "from keras.layers.normalization import BatchNormalization\n",
    "from keras.layers.convolutional import Conv2D\n",
    "from keras.layers.convolutional import MaxPooling2D\n",
    "from keras.layers.core import Activation, Dense, Flatten, Dropout\n",
    "from keras import backend as K\n",
    "from keras.optimizers import Adam, SGD \n",
    "from keras.layers import LeakyReLU\n",
    "from sklearn.metrics import classification_report\n",
    "# from tensorflow.python.keras.layers import Dense\n",
    "# from tensorflow.python.keras import Sequential\n",
    "\n",
    "# xây dựng mạng network\n",
    "class ModelNLP(object):\n",
    "  @staticmethod\n",
    "  def build(SIZE_TRAIN,num_classes, final_activation):\n",
    "    model = Sequential()\n",
    "    model.add(Dense(700, input_shape=(SIZE_TRAIN,), activation='tanh', kernel_initializer=\"uniform\")) \n",
    "    model.add(LeakyReLU(alpha=0.3))        \n",
    "    model.add(Dropout(rate=0.2)) \n",
    "    model.add(Dense(600))      \n",
    "    model.add(LeakyReLU(alpha=0.3))  \n",
    "    model.add(Dropout(rate=0.2)) \n",
    "    model.add(Dense(500))      \n",
    "    model.add(LeakyReLU(alpha=0.3))        \n",
    "    model.add(Dropout(rate=0.2))\n",
    "    model.add(Dense(400))      \n",
    "    model.add(LeakyReLU(alpha=0.3))        \n",
    "    model.add(Dropout(rate=0.2))\n",
    "    model.add(Dense(300))    \n",
    "    model.add(Dense(num_classes, activation=final_activation))\n",
    "  \n",
    "    return model\n",
    "# !pip install tensorflow==1.14\n",
    "# khởi tạo model\n",
    "EPOCHS = 20\n",
    "INIT_LR = 1e-3\n",
    "BS = 32\n",
    "\n",
    "model = ModelNLP.build(SIZE_TRAIN=SIZE_TRAIN,num_classes=len(mlb.classes_),final_activation='softmax')\n",
    "opt = Adam(lr=INIT_LR, decay=INIT_LR / EPOCHS)\n",
    "sgd = SGD(lr=0.001); \n",
    "model.compile(loss='binary_crossentropy', optimizer=sgd, metrics=['accuracy'])\n",
    "model.summary()"
   ]
  },
  {
   "cell_type": "code",
   "execution_count": 31,
   "metadata": {
    "colab": {
     "base_uri": "https://localhost:8080/",
     "height": 714
    },
    "colab_type": "code",
    "id": "63GcnHnl7SRS",
    "outputId": "eedecbe8-0bc0-47f1-bb4d-9cb2c27da1d9"
   },
   "outputs": [
    {
     "name": "stdout",
     "output_type": "stream",
     "text": [
      "Train on 18356 samples, validate on 4590 samples\n",
      "Epoch 1/20\n",
      "18356/18356 [==============================] - 13s 687us/step - loss: 0.3068 - accuracy: 0.9090 - val_loss: 0.2770 - val_accuracy: 0.9091\n",
      "Epoch 2/20\n",
      "18356/18356 [==============================] - 12s 647us/step - loss: 0.2819 - accuracy: 0.9091 - val_loss: 0.2556 - val_accuracy: 0.9091\n",
      "Epoch 3/20\n",
      "18356/18356 [==============================] - 12s 670us/step - loss: 0.2633 - accuracy: 0.9101 - val_loss: 0.2366 - val_accuracy: 0.9116\n",
      "Epoch 4/20\n",
      "18356/18356 [==============================] - 12s 668us/step - loss: 0.2464 - accuracy: 0.9122 - val_loss: 0.2185 - val_accuracy: 0.9147\n",
      "Epoch 5/20\n",
      "18356/18356 [==============================] - 12s 652us/step - loss: 0.2308 - accuracy: 0.9158 - val_loss: 0.2017 - val_accuracy: 0.9197\n",
      "Epoch 6/20\n",
      "18356/18356 [==============================] - 12s 630us/step - loss: 0.2160 - accuracy: 0.9195 - val_loss: 0.1868 - val_accuracy: 0.9241\n",
      "Epoch 7/20\n",
      "18356/18356 [==============================] - 12s 638us/step - loss: 0.2037 - accuracy: 0.9232 - val_loss: 0.1746 - val_accuracy: 0.9295\n",
      "Epoch 8/20\n",
      "18356/18356 [==============================] - 11s 606us/step - loss: 0.1922 - accuracy: 0.9268 - val_loss: 0.1634 - val_accuracy: 0.9356\n",
      "Epoch 9/20\n",
      "18356/18356 [==============================] - 12s 627us/step - loss: 0.1823 - accuracy: 0.9303 - val_loss: 0.1544 - val_accuracy: 0.9396\n",
      "Epoch 10/20\n",
      "18356/18356 [==============================] - 11s 596us/step - loss: 0.1735 - accuracy: 0.9335 - val_loss: 0.1467 - val_accuracy: 0.9435\n",
      "Epoch 11/20\n",
      "18356/18356 [==============================] - 11s 608us/step - loss: 0.1670 - accuracy: 0.9366 - val_loss: 0.1402 - val_accuracy: 0.9458\n",
      "Epoch 12/20\n",
      "18356/18356 [==============================] - 12s 677us/step - loss: 0.1614 - accuracy: 0.9386 - val_loss: 0.1363 - val_accuracy: 0.9474\n",
      "Epoch 13/20\n",
      "18356/18356 [==============================] - 11s 616us/step - loss: 0.1559 - accuracy: 0.9410 - val_loss: 0.1320 - val_accuracy: 0.9492\n",
      "Epoch 14/20\n",
      "18356/18356 [==============================] - 13s 716us/step - loss: 0.1523 - accuracy: 0.9419 - val_loss: 0.1286 - val_accuracy: 0.9502\n",
      "Epoch 15/20\n",
      "18356/18356 [==============================] - 14s 766us/step - loss: 0.1492 - accuracy: 0.9436 - val_loss: 0.1260 - val_accuracy: 0.9512\n",
      "Epoch 16/20\n",
      "18356/18356 [==============================] - 12s 673us/step - loss: 0.1456 - accuracy: 0.9446 - val_loss: 0.1234 - val_accuracy: 0.9521\n",
      "Epoch 17/20\n",
      "18356/18356 [==============================] - 13s 687us/step - loss: 0.1426 - accuracy: 0.9453 - val_loss: 0.1217 - val_accuracy: 0.9531\n",
      "Epoch 18/20\n",
      "18356/18356 [==============================] - 13s 691us/step - loss: 0.1406 - accuracy: 0.9461 - val_loss: 0.1205 - val_accuracy: 0.9533\n",
      "Epoch 19/20\n",
      "18356/18356 [==============================] - 13s 693us/step - loss: 0.1383 - accuracy: 0.9471 - val_loss: 0.1186 - val_accuracy: 0.9545\n",
      "Epoch 20/20\n",
      "18356/18356 [==============================] - 13s 701us/step - loss: 0.1368 - accuracy: 0.9474 - val_loss: 0.1172 - val_accuracy: 0.9547\n"
     ]
    }
   ],
   "source": [
    "# training \n",
    "H = model.fit(x_train, y_train, validation_data= (x_test,y_test),epochs=20, verbose=1)"
   ]
  },
  {
   "cell_type": "code",
   "execution_count": 32,
   "metadata": {
    "colab": {
     "base_uri": "https://localhost:8080/",
     "height": 34
    },
    "colab_type": "code",
    "id": "xxflrzAQ7VdY",
    "outputId": "c22b153f-568b-41bf-dd4e-a4dbe34a8088"
   },
   "outputs": [
    {
     "name": "stdout",
     "output_type": "stream",
     "text": [
      "Test Accuracy: 95.474356\n"
     ]
    }
   ],
   "source": [
    "# evaluate \n",
    "loss, acc = model.evaluate(x_test, y_test, verbose=0)\n",
    "print('Test Accuracy: %f' % (acc*100)) "
   ]
  },
  {
   "cell_type": "code",
   "execution_count": 33,
   "metadata": {
    "colab": {
     "base_uri": "https://localhost:8080/",
     "height": 312
    },
    "colab_type": "code",
    "id": "f9hv-Iz_7Vmy",
    "outputId": "c8c7fbb2-d0c0-4939-f097-730280cfb534"
   },
   "outputs": [
    {
     "data": {
      "image/png": "[encoded data removed]",
      "text/plain": [
       "<Figure size 432x288 with 1 Axes>"
      ]
     },
     "metadata": {
      "needs_background": "light",
      "tags": []
     },
     "output_type": "display_data"
    },
    {
     "data": {
      "text/plain": [
       "<Figure size 432x288 with 0 Axes>"
      ]
     },
     "metadata": {
      "tags": []
     },
     "output_type": "display_data"
    }
   ],
   "source": [
    "import matplotlib.pyplot as plt\n",
    "# plt.plot(hist.history[\"acc\"])\n",
    "# plt.plot(hist.history['val_acc'])\n",
    "plt.figure()\n",
    "plt.plot(H.history['loss'])\n",
    "plt.plot(H.history['val_loss'])\n",
    "plt.title(\"model loss\")\n",
    "plt.ylabel(\"Loss\")\n",
    "plt.xlabel(\"Epoch\")\n",
    "plt.legend([\"Loss\",\"Validation Loss\"])\n",
    "plt.show()\n",
    "plt.savefig('chart loss.png')"
   ]
  },
  {
   "cell_type": "code",
   "execution_count": 45,
   "metadata": {
    "colab": {},
    "colab_type": "code",
    "id": "I3cYQvhO7XDs"
   },
   "outputs": [],
   "source": [
    "LABEL_ENCODE_PATH=\"/content/drive/My Drive/NLP/WordSmi/ModelClassify/Glove/lb_glove_nn.pkl\"\n",
    "ESTIMATE_PATH=\"/content/drive/My Drive/NLP/WordSmi/ModelClassify/Glove/estimator_glove_nn.h5\"\n",
    "FileStore(file_path=LABEL_ENCODE_PATH).save_pickle(obj=mlb)\n",
    "FileStore(file_path=ESTIMATE_PATH).save_pickle(obj=model)\n",
    "\n",
    "from keras.models import save_model, load_model\n",
    "\n",
    "# Creates a HDF5 file 'ESTIMATE_PATH.h5' \n",
    "save_model(model, ESTIMATE_PATH) "
   ]
  },
  {
   "cell_type": "code",
   "execution_count": null,
   "metadata": {
    "colab": {},
    "colab_type": "code",
    "id": "BFz3pKqf7gxe"
   },
   "outputs": [],
   "source": []
  },
  {
   "cell_type": "code",
   "execution_count": 39,
   "metadata": {
    "colab": {
     "base_uri": "https://localhost:8080/",
     "height": 34
    },
    "colab_type": "code",
    "id": "B1N6BsN8_bFg",
    "outputId": "874622ae-1deb-47ad-9cd3-847b2b239a1b"
   },
   "outputs": [
    {
     "data": {
      "text/plain": [
       "4590"
      ]
     },
     "execution_count": 39,
     "metadata": {
      "tags": []
     },
     "output_type": "execute_result"
    }
   ],
   "source": [
    "x_test.shape[0]"
   ]
  },
  {
   "cell_type": "code",
   "execution_count": 40,
   "metadata": {
    "colab": {},
    "colab_type": "code",
    "id": "Bi9Ro1pP_bIF"
   },
   "outputs": [],
   "source": [
    "from keras.models import Sequential\n",
    "from keras.layers.normalization import BatchNormalization\n",
    "from keras.layers.convolutional import Conv2D\n",
    "from keras.layers.convolutional import MaxPooling2D\n",
    "from keras.layers.core import Activation, Dense, Flatten, Dropout\n",
    "from keras.layers import LSTM\n",
    "from keras import backend as K\n",
    "from keras.optimizers import Adam, SGD \n",
    "from keras.layers import LeakyReLU\n",
    "from sklearn.metrics import classification_report\n",
    "class LSTMModel(object): \n",
    "  @staticmethod\n",
    "  def build(SIZE_TRAIN,num_classes, final_activation):    \n",
    "    # define model\n",
    "    model = Sequential()\n",
    "    model.add(LSTM(200, activation='tanh', dropout=0.2, recurrent_dropout=0.2))\n",
    "    model.add(Dense(100))\n",
    "    model.add(Dense(num_classes, activation=final_activation)) \n",
    "    return model \n",
    "\n",
    "    \n",
    "# khởi tạo model\n",
    "EPOCHS = 20\n",
    "INIT_LR = 1e-3\n",
    "BS = 32 \n",
    "n_features = 1\n",
    "\n",
    "model_lstm = LSTMModel.build(SIZE_TRAIN=SIZE_TRAIN,num_classes=len(mlb.classes_),final_activation='softmax')\n",
    "opt = Adam(lr=INIT_LR, decay=INIT_LR / EPOCHS)\n",
    "sgd = SGD(lr=0.001); \n",
    "model_lstm.compile(loss='binary_crossentropy', optimizer=opt, metrics=['accuracy'])\n",
    "# model_lstm.summary() \n",
    " \n"
   ]
  },
  {
   "cell_type": "code",
   "execution_count": 41,
   "metadata": {
    "colab": {
     "base_uri": "https://localhost:8080/",
     "height": 714
    },
    "colab_type": "code",
    "id": "H-AYs8E9_ck2",
    "outputId": "ee139832-5b67-4bfe-ed78-d02d44e8c28a"
   },
   "outputs": [
    {
     "name": "stdout",
     "output_type": "stream",
     "text": [
      "Train on 18356 samples, validate on 4590 samples\n",
      "Epoch 1/20\n",
      "18356/18356 [==============================] - 38s 2ms/step - loss: 0.2706 - accuracy: 0.9120 - val_loss: 0.2325 - val_accuracy: 0.9205\n",
      "Epoch 2/20\n",
      "18356/18356 [==============================] - 37s 2ms/step - loss: 0.2315 - accuracy: 0.9213 - val_loss: 0.1948 - val_accuracy: 0.9284\n",
      "Epoch 3/20\n",
      "18356/18356 [==============================] - 37s 2ms/step - loss: 0.2086 - accuracy: 0.9266 - val_loss: 0.1745 - val_accuracy: 0.9327\n",
      "Epoch 4/20\n",
      "18356/18356 [==============================] - 37s 2ms/step - loss: 0.1952 - accuracy: 0.9303 - val_loss: 0.1607 - val_accuracy: 0.9378\n",
      "Epoch 5/20\n",
      "18356/18356 [==============================] - 37s 2ms/step - loss: 0.1867 - accuracy: 0.9338 - val_loss: 0.1529 - val_accuracy: 0.9412\n",
      "Epoch 6/20\n",
      "18356/18356 [==============================] - 37s 2ms/step - loss: 0.1812 - accuracy: 0.9354 - val_loss: 0.1455 - val_accuracy: 0.9434\n",
      "Epoch 7/20\n",
      "18356/18356 [==============================] - 37s 2ms/step - loss: 0.1765 - accuracy: 0.9376 - val_loss: 0.1423 - val_accuracy: 0.9451\n",
      "Epoch 8/20\n",
      "18356/18356 [==============================] - 38s 2ms/step - loss: 0.1722 - accuracy: 0.9393 - val_loss: 0.1388 - val_accuracy: 0.9457\n",
      "Epoch 9/20\n",
      "18356/18356 [==============================] - 38s 2ms/step - loss: 0.1670 - accuracy: 0.9411 - val_loss: 0.1326 - val_accuracy: 0.9486\n",
      "Epoch 10/20\n",
      "18356/18356 [==============================] - 38s 2ms/step - loss: 0.1653 - accuracy: 0.9413 - val_loss: 0.1330 - val_accuracy: 0.9486\n",
      "Epoch 11/20\n",
      "18356/18356 [==============================] - 38s 2ms/step - loss: 0.1610 - accuracy: 0.9432 - val_loss: 0.1266 - val_accuracy: 0.9506\n",
      "Epoch 12/20\n",
      "18356/18356 [==============================] - 37s 2ms/step - loss: 0.1603 - accuracy: 0.9440 - val_loss: 0.1254 - val_accuracy: 0.9506\n",
      "Epoch 13/20\n",
      "18356/18356 [==============================] - 37s 2ms/step - loss: 0.1580 - accuracy: 0.9446 - val_loss: 0.1234 - val_accuracy: 0.9526\n",
      "Epoch 14/20\n",
      "18356/18356 [==============================] - 37s 2ms/step - loss: 0.1566 - accuracy: 0.9447 - val_loss: 0.1234 - val_accuracy: 0.9515\n",
      "Epoch 15/20\n",
      "18356/18356 [==============================] - 40s 2ms/step - loss: 0.1539 - accuracy: 0.9460 - val_loss: 0.1217 - val_accuracy: 0.9527\n",
      "Epoch 16/20\n",
      "18356/18356 [==============================] - 37s 2ms/step - loss: 0.1513 - accuracy: 0.9466 - val_loss: 0.1184 - val_accuracy: 0.9540\n",
      "Epoch 17/20\n",
      "18356/18356 [==============================] - 38s 2ms/step - loss: 0.1524 - accuracy: 0.9466 - val_loss: 0.1181 - val_accuracy: 0.9546\n",
      "Epoch 18/20\n",
      "18356/18356 [==============================] - 37s 2ms/step - loss: 0.1500 - accuracy: 0.9475 - val_loss: 0.1186 - val_accuracy: 0.9546\n",
      "Epoch 19/20\n",
      "18356/18356 [==============================] - 37s 2ms/step - loss: 0.1473 - accuracy: 0.9485 - val_loss: 0.1158 - val_accuracy: 0.9552\n",
      "Epoch 20/20\n",
      "18356/18356 [==============================] - 37s 2ms/step - loss: 0.1477 - accuracy: 0.9485 - val_loss: 0.1144 - val_accuracy: 0.9567\n"
     ]
    }
   ],
   "source": [
    "# x_train = x_train.reshape((x_train.shape[0], x_train.shape[1],n_features))\n",
    "# x_test = x_test.reshape((x_test.shape[0], x_test.shape[1],n_features))\n",
    "H = model_lstm.fit(x_train, y_train, validation_data= (x_test,y_test),epochs=20, verbose=1, batch_size=512)"
   ]
  },
  {
   "cell_type": "code",
   "execution_count": 42,
   "metadata": {
    "colab": {
     "base_uri": "https://localhost:8080/",
     "height": 312
    },
    "colab_type": "code",
    "id": "BtBoGgH6_coF",
    "outputId": "acc4c01f-d7c8-405a-a189-dfc65b6f4a61"
   },
   "outputs": [
    {
     "data": {
      "image/png": "[encoded data removed]",
      "text/plain": [
       "<Figure size 432x288 with 1 Axes>"
      ]
     },
     "metadata": {
      "needs_background": "light",
      "tags": []
     },
     "output_type": "display_data"
    },
    {
     "data": {
      "text/plain": [
       "<Figure size 432x288 with 0 Axes>"
      ]
     },
     "metadata": {
      "tags": []
     },
     "output_type": "display_data"
    }
   ],
   "source": [
    "import matplotlib.pyplot as plt\n",
    "# plt.plot(hist.history[\"acc\"])\n",
    "# plt.plot(hist.history['val_acc'])\n",
    "plt.figure()\n",
    "plt.plot(H.history['loss'])\n",
    "plt.plot(H.history['val_loss'])\n",
    "plt.title(\"model loss\")\n",
    "plt.ylabel(\"Loss\")\n",
    "plt.xlabel(\"Epoch\")\n",
    "plt.legend([\"Loss\",\"Validation Loss\"])\n",
    "plt.show()\n",
    "plt.savefig('chart loss.png')"
   ]
  },
  {
   "cell_type": "code",
   "execution_count": 43,
   "metadata": {
    "colab": {
     "base_uri": "https://localhost:8080/",
     "height": 34
    },
    "colab_type": "code",
    "id": "R9ShumhX_csy",
    "outputId": "1bd83144-8f5b-45a7-a128-57f3a30d0751"
   },
   "outputs": [
    {
     "name": "stdout",
     "output_type": "stream",
     "text": [
      "Test Accuracy: 95.670432\n"
     ]
    }
   ],
   "source": [
    "# evaluate \n",
    "loss, acc = model_lstm.evaluate(x_test, y_test, verbose=0)\n",
    "print('Test Accuracy: %f' % (acc*100)) "
   ]
  },
  {
   "cell_type": "code",
   "execution_count": 46,
   "metadata": {
    "colab": {},
    "colab_type": "code",
    "id": "uW4k-tvK_cv7"
   },
   "outputs": [],
   "source": [
    "LABEL_ENCODE_PATH=\"/content/drive/My Drive/NLP/WordSmi/ModelClassify/Glove/lb_glove_lstm.pkl\"\n",
    "ESTIMATE_PATH=\"/content/drive/My Drive/NLP/WordSmi/ModelClassify/Glove/estimator_glove_lstm.h5\"\n",
    "FileStore(file_path=LABEL_ENCODE_PATH).save_pickle(obj=mlb)\n",
    "FileStore(file_path=ESTIMATE_PATH).save_pickle(obj=model_lstm)\n",
    "\n",
    "from keras.models import save_model, load_model\n",
    "\n",
    "# Creates a HDF5 file 'ESTIMATE_PATH.h5' \n",
    "save_model(model_lstm, ESTIMATE_PATH) "
   ]
  },
  {
   "cell_type": "code",
   "execution_count": 47,
   "metadata": {
    "colab": {},
    "colab_type": "code",
    "id": "Qon4CT0K_c75"
   },
   "outputs": [],
   "source": [
    "from keras.models import Sequential\n",
    "from keras.layers.normalization import BatchNormalization\n",
    "from keras.layers.convolutional import Conv2D\n",
    "from keras.layers.convolutional import MaxPooling2D\n",
    "from keras.layers.core import Activation, Dense, Flatten, Dropout\n",
    "from keras.layers import LSTM\n",
    "from keras import backend as K\n",
    "from keras.optimizers import Adam, SGD \n",
    "from keras.layers import LeakyReLU,Conv1D,MaxPooling1D\n",
    "from sklearn.metrics import classification_report\n",
    "class CNN_LSTM_Model(object): \n",
    "  @staticmethod\n",
    "  def build(SIZE_TRAIN,num_classes, final_activation):    \n",
    "    # define model\n",
    "    model = Sequential()\n",
    "    model.add(Conv1D(filters=32, kernel_size=3, padding='same', activation='relu'))\n",
    "    model.add(MaxPooling1D(pool_size=2))\n",
    "    model.add(LSTM(200))\n",
    "    model.add(Dense(100))\n",
    "    model.add(Dense(num_classes, activation=final_activation)) \n",
    "    return model \n",
    "\n",
    "    \n",
    "# khởi tạo model\n",
    "EPOCHS = 20\n",
    "INIT_LR = 1e-3\n",
    "BS = 32 \n",
    "n_features = 1\n",
    "\n",
    "model_cnnlstm = CNN_LSTM_Model.build(SIZE_TRAIN=SIZE_TRAIN,num_classes=len(mlb.classes_),final_activation='softmax')\n",
    "opt = Adam(lr=INIT_LR, decay=INIT_LR / EPOCHS)\n",
    "sgd = SGD(lr=0.001); \n",
    "model_cnnlstm.compile(loss='binary_crossentropy', optimizer=opt, metrics=['accuracy'])\n",
    "# model_lstm.summary() \n",
    "  "
   ]
  },
  {
   "cell_type": "code",
   "execution_count": 48,
   "metadata": {
    "colab": {
     "base_uri": "https://localhost:8080/",
     "height": 714
    },
    "colab_type": "code",
    "id": "lNRiVP7C_c_D",
    "outputId": "7b997fb6-83a0-4c6a-c107-5b87cacc194e"
   },
   "outputs": [
    {
     "name": "stdout",
     "output_type": "stream",
     "text": [
      "Train on 18356 samples, validate on 4590 samples\n",
      "Epoch 1/20\n",
      "18356/18356 [==============================] - 20s 1ms/step - loss: 0.2039 - accuracy: 0.9268 - val_loss: 0.1548 - val_accuracy: 0.9412\n",
      "Epoch 2/20\n",
      "18356/18356 [==============================] - 19s 1ms/step - loss: 0.1382 - accuracy: 0.9475 - val_loss: 0.1340 - val_accuracy: 0.9484\n",
      "Epoch 3/20\n",
      "18356/18356 [==============================] - 19s 1ms/step - loss: 0.1219 - accuracy: 0.9530 - val_loss: 0.1236 - val_accuracy: 0.9527\n",
      "Epoch 4/20\n",
      "18356/18356 [==============================] - 20s 1ms/step - loss: 0.1145 - accuracy: 0.9560 - val_loss: 0.1167 - val_accuracy: 0.9560\n",
      "Epoch 5/20\n",
      "18356/18356 [==============================] - 19s 1ms/step - loss: 0.1092 - accuracy: 0.9581 - val_loss: 0.1164 - val_accuracy: 0.9552\n",
      "Epoch 6/20\n",
      "18356/18356 [==============================] - 20s 1ms/step - loss: 0.1046 - accuracy: 0.9595 - val_loss: 0.1114 - val_accuracy: 0.9575\n",
      "Epoch 7/20\n",
      "18356/18356 [==============================] - 20s 1ms/step - loss: 0.1022 - accuracy: 0.9607 - val_loss: 0.1117 - val_accuracy: 0.9571\n",
      "Epoch 8/20\n",
      "18356/18356 [==============================] - 22s 1ms/step - loss: 0.0984 - accuracy: 0.9621 - val_loss: 0.1097 - val_accuracy: 0.9570\n",
      "Epoch 9/20\n",
      "18356/18356 [==============================] - 19s 1ms/step - loss: 0.0968 - accuracy: 0.9629 - val_loss: 0.1084 - val_accuracy: 0.9577\n",
      "Epoch 10/20\n",
      "18356/18356 [==============================] - 19s 1ms/step - loss: 0.0957 - accuracy: 0.9633 - val_loss: 0.1111 - val_accuracy: 0.9576\n",
      "Epoch 11/20\n",
      "18356/18356 [==============================] - 19s 1ms/step - loss: 0.0923 - accuracy: 0.9645 - val_loss: 0.1089 - val_accuracy: 0.9582\n",
      "Epoch 12/20\n",
      "18356/18356 [==============================] - 19s 1ms/step - loss: 0.0919 - accuracy: 0.9647 - val_loss: 0.1060 - val_accuracy: 0.9590\n",
      "Epoch 13/20\n",
      "18356/18356 [==============================] - 19s 1ms/step - loss: 0.0893 - accuracy: 0.9657 - val_loss: 0.1039 - val_accuracy: 0.9602\n",
      "Epoch 14/20\n",
      "18356/18356 [==============================] - 19s 1ms/step - loss: 0.0869 - accuracy: 0.9665 - val_loss: 0.1033 - val_accuracy: 0.9605\n",
      "Epoch 15/20\n",
      "18356/18356 [==============================] - 19s 1ms/step - loss: 0.0849 - accuracy: 0.9675 - val_loss: 0.1007 - val_accuracy: 0.9611\n",
      "Epoch 16/20\n",
      "18356/18356 [==============================] - 19s 1ms/step - loss: 0.0826 - accuracy: 0.9686 - val_loss: 0.1070 - val_accuracy: 0.9596\n",
      "Epoch 17/20\n",
      "18356/18356 [==============================] - 19s 1ms/step - loss: 0.0814 - accuracy: 0.9686 - val_loss: 0.1043 - val_accuracy: 0.9614\n",
      "Epoch 18/20\n",
      "18356/18356 [==============================] - 20s 1ms/step - loss: 0.0786 - accuracy: 0.9699 - val_loss: 0.1042 - val_accuracy: 0.9608\n",
      "Epoch 19/20\n",
      "18356/18356 [==============================] - 20s 1ms/step - loss: 0.0774 - accuracy: 0.9700 - val_loss: 0.1020 - val_accuracy: 0.9609\n",
      "Epoch 20/20\n",
      "18356/18356 [==============================] - 19s 1ms/step - loss: 0.0767 - accuracy: 0.9704 - val_loss: 0.1040 - val_accuracy: 0.9615\n"
     ]
    }
   ],
   "source": [
    "x_train = x_train.reshape((x_train.shape[0], x_train.shape[1],n_features))\n",
    "x_test = x_test.reshape((x_test.shape[0], x_test.shape[1],n_featurimport matplotlib.pyplot as plt\n",
    "# plt.plot(hist.history[\"acc\"])\n",
    "# plt.plot(hist.history['val_acc'])\n",
    "plt.figure()\n",
    "plt.plot(H.history['loss'])\n",
    "plt.plot(H.history['val_loss'])\n",
    "plt.title(\"model loss\")\n",
    "plt.ylabel(\"Loss\")\n",
    "plt.xlabel(\"Epoch\")\n",
    "plt.legend([\"Loss\",\"Validation Loss\"])\n",
    "plt.show()\n",
    "plt.savefig('chart loss.png')es))\n",
    "H = model_cnnlstm.fit(x_train, y_train, validation_data= (x_test,y_test),epochs=20, verbose=1, batch_size=512)"
   ]
  },
  {
   "cell_type": "code",
   "execution_count": 49,
   "metadata": {
    "colab": {
     "base_uri": "https://localhost:8080/",
     "height": 312
    },
    "colab_type": "code",
    "id": "61F1Xosb_dCi",
    "outputId": "b34bc738-3a52-4ac3-bde7-6d7cebdb04de"
   },
   "outputs": [
    {
     "data": {
      "image/png": "[encoded data removed]",
      "text/plain": [
       "<Figure size 432x288 with 1 Axes>"
      ]
     },
     "metadata": {
      "needs_background": "light",
      "tags": []
     },
     "output_type": "display_data"
    },
    {
     "data": {
      "text/plain": [
       "<Figure size 432x288 with 0 Axes>"
      ]
     },
     "metadata": {
      "tags": []
     },
     "output_type": "display_data"
    }
   ],
   "source": [
    "import matplotlib.pyplot as plt\n",
    "# plt.plot(hist.history[\"acc\"])\n",
    "# plt.plot(hist.history['val_acc'])\n",
    "plt.figure()\n",
    "plt.plot(H.history['loss'])\n",
    "plt.plot(H.history['val_loss'])\n",
    "plt.title(\"model loss\")\n",
    "plt.ylabel(\"Loss\")\n",
    "plt.xlabel(\"Epoch\")\n",
    "plt.legend([\"Loss\",\"Validation Loss\"])\n",
    "plt.show()\n",
    "plt.savefig('chart loss.png')"
   ]
  },
  {
   "cell_type": "code",
   "execution_count": 50,
   "metadata": {
    "colab": {
     "base_uri": "https://localhost:8080/",
     "height": 34
    },
    "colab_type": "code",
    "id": "MRkeMDLG_dIe",
    "outputId": "cbe3c926-8f94-49b8-9c2b-854d684177b9"
   },
   "outputs": [
    {
     "name": "stdout",
     "output_type": "stream",
     "text": [
      "Test Accuracy: 96.149749\n"
     ]
    }
   ],
   "source": [
    "# evaluate \n",
    "loss, acc = model_cnnlstm.evaluate(x_test, y_test, verbose=0)\n",
    "print('Test Accuracy: %f' % (acc*100)) \n",
    "\n",
    "# lb: label encodem \n",
    "# ft: fast text \n",
    "# sg: skip gram \n",
    "# cnn: convolution neural network \n",
    "# lstm: long short term memory \n",
    "# nn: neural network"
   ]
  },
  {
   "cell_type": "code",
   "execution_count": 51,
   "metadata": {
    "colab": {},
    "colab_type": "code",
    "id": "M_IzZ4Iy_dMA"
   },
   "outputs": [],
   "source": [
    "LABEL_ENCODE_PATH=\"/content/drive/My Drive/NLP/WordSmi/ModelClassify/Glove/lb_glove_cnn_lstm.pkl\" \n",
    "ESTIMATE_PATH=\"/content/drive/My Drive/NLP/WordSmi/ModelClassify/Glove/estimator_glove_cnn_lstm.h5\"\n",
    "FileStore(file_path=LABEL_ENCODE_PATH).save_pickle(obj=mlb)\n",
    "FileStore(file_path=ESTIMATE_PATH).save_pickle(obj=model_cnnlstm)\n",
    "\n",
    "from keras.models import save_model, load_model\n",
    "\n",
    "# Creates a HDF5 file 'ESTIMATE_PATH.h5' \n",
    "save_model(model_cnnlstm, ESTIMATE_PATH) "
   ]
  },
  {
   "cell_type": "code",
   "execution_count": 52,
   "metadata": {
    "colab": {},
    "colab_type": "code",
    "id": "ikoRjbfu_dF3"
   },
   "outputs": [],
   "source": [
    "from keras.models import Sequential\n",
    "from keras.layers.normalization import BatchNormalization\n",
    "from keras.layers.convolutional import Conv2D\n",
    "from keras.layers.convolutional import MaxPooling2D\n",
    "from keras.layers.core import Activation, Dense, Flatten, Dropout\n",
    "from keras.layers import LSTM\n",
    "from keras import backend as K\n",
    "from keras.optimizers import Adam, SGD \n",
    "from keras.layers import LeakyReLU,Conv1D,MaxPooling1D,Bidirectional\n",
    "from sklearn.metrics import classification_report\n",
    "class RNN_Model(object): \n",
    "  @staticmethod\n",
    "  def build(SIZE_TRAIN,num_classes, final_activation):    \n",
    "    # define model\n",
    "    model = Sequential()\n",
    "    model.add(Bidirectional(LSTM(200, activation='tanh', dropout=0.2, recurrent_dropout=0.2))) \n",
    "    model.add(Dense(100))\n",
    "    model.add(Dense(num_classes, activation=final_activation)) \n",
    "    return model \n",
    "\n",
    "    \n",
    "# khởi tạo model\n",
    "EPOCHS = 20\n",
    "INIT_LR = 1e-3\n",
    "BS = 32 \n",
    "n_features = 1\n",
    "\n",
    "model_rnn = RNN_Model.build(SIZE_TRAIN=SIZE_TRAIN,num_classes=len(mlb.classes_),final_activation='softmax')\n",
    "opt = Adam(lr=INIT_LR, decay=INIT_LR / EPOCHS)\n",
    "sgd = SGD(lr=0.001); \n",
    "model_rnn.compile(loss='binary_crossentropy', optimizer=opt, metrics=['accuracy'])\n",
    "# model_lstm.summary() \n",
    "  "
   ]
  },
  {
   "cell_type": "code",
   "execution_count": 53,
   "metadata": {
    "colab": {
     "base_uri": "https://localhost:8080/",
     "height": 714
    },
    "colab_type": "code",
    "id": "9KcgpOoi_czQ",
    "outputId": "64265e3d-ebef-474b-ce16-269cfeccc9ba"
   },
   "outputs": [
    {
     "name": "stdout",
     "output_type": "stream",
     "text": [
      "Train on 18356 samples, validate on 4590 samples\n",
      "Epoch 1/20\n",
      "18356/18356 [==============================] - 66s 4ms/step - loss: 0.2577 - accuracy: 0.9151 - val_loss: 0.2083 - val_accuracy: 0.9252\n",
      "Epoch 2/20\n",
      "18356/18356 [==============================] - 65s 4ms/step - loss: 0.2049 - accuracy: 0.9271 - val_loss: 0.1665 - val_accuracy: 0.9380\n",
      "Epoch 3/20\n",
      "18356/18356 [==============================] - 65s 4ms/step - loss: 0.1772 - accuracy: 0.9356 - val_loss: 0.1450 - val_accuracy: 0.9455\n",
      "Epoch 4/20\n",
      "18356/18356 [==============================] - 66s 4ms/step - loss: 0.1620 - accuracy: 0.9403 - val_loss: 0.1353 - val_accuracy: 0.9484\n",
      "Epoch 5/20\n",
      "18356/18356 [==============================] - 66s 4ms/step - loss: 0.1530 - accuracy: 0.9431 - val_loss: 0.1255 - val_accuracy: 0.9513\n",
      "Epoch 6/20\n",
      "18356/18356 [==============================] - 68s 4ms/step - loss: 0.1449 - accuracy: 0.9462 - val_loss: 0.1241 - val_accuracy: 0.9534\n",
      "Epoch 7/20\n",
      "18356/18356 [==============================] - 65s 4ms/step - loss: 0.1423 - accuracy: 0.9463 - val_loss: 0.1218 - val_accuracy: 0.9523\n",
      "Epoch 8/20\n",
      "18356/18356 [==============================] - 65s 4ms/step - loss: 0.1378 - accuracy: 0.9485 - val_loss: 0.1232 - val_accuracy: 0.9531\n",
      "Epoch 9/20\n",
      "18356/18356 [==============================] - 65s 4ms/step - loss: 0.1344 - accuracy: 0.9495 - val_loss: 0.1190 - val_accuracy: 0.9554\n",
      "Epoch 10/20\n",
      "18356/18356 [==============================] - 65s 4ms/step - loss: 0.1323 - accuracy: 0.9504 - val_loss: 0.1175 - val_accuracy: 0.9552\n",
      "Epoch 11/20\n",
      "18356/18356 [==============================] - 66s 4ms/step - loss: 0.1293 - accuracy: 0.9514 - val_loss: 0.1155 - val_accuracy: 0.9556\n",
      "Epoch 12/20\n",
      "18356/18356 [==============================] - 66s 4ms/step - loss: 0.1271 - accuracy: 0.9523 - val_loss: 0.1130 - val_accuracy: 0.9561\n",
      "Epoch 13/20\n",
      "18356/18356 [==============================] - 65s 4ms/step - loss: 0.1260 - accuracy: 0.9527 - val_loss: 0.1142 - val_accuracy: 0.9565\n",
      "Epoch 14/20\n",
      "18356/18356 [==============================] - 65s 4ms/step - loss: 0.1262 - accuracy: 0.9526 - val_loss: 0.1160 - val_accuracy: 0.9560\n",
      "Epoch 15/20\n",
      "18356/18356 [==============================] - 68s 4ms/step - loss: 0.1225 - accuracy: 0.9541 - val_loss: 0.1149 - val_accuracy: 0.9563\n",
      "Epoch 16/20\n",
      "18356/18356 [==============================] - 65s 4ms/step - loss: 0.1218 - accuracy: 0.9539 - val_loss: 0.1132 - val_accuracy: 0.9575\n",
      "Epoch 17/20\n",
      "18356/18356 [==============================] - 66s 4ms/step - loss: 0.1194 - accuracy: 0.9549 - val_loss: 0.1118 - val_accuracy: 0.9591\n",
      "Epoch 18/20\n",
      "18356/18356 [==============================] - 65s 4ms/step - loss: 0.1186 - accuracy: 0.9555 - val_loss: 0.1144 - val_accuracy: 0.9568\n",
      "Epoch 19/20\n",
      "18356/18356 [==============================] - 65s 4ms/step - loss: 0.1169 - accuracy: 0.9564 - val_loss: 0.1102 - val_accuracy: 0.9583\n",
      "Epoch 20/20\n",
      "18356/18356 [==============================] - 64s 4ms/step - loss: 0.1155 - accuracy: 0.9568 - val_loss: 0.1101 - val_accuracy: 0.9585\n"
     ]
    }
   ],
   "source": [
    "x_train = x_train.reshape((x_train.shape[0], x_train.shape[1],n_features))\n",
    "x_test = x_test.reshape((x_test.shape[0], x_test.shape[1],n_features))\n",
    "H = model_rnn.fit(x_train, y_train, validation_data= (x_test,y_test),epochs=20, verbose=1, batch_size=512)"
   ]
  },
  {
   "cell_type": "code",
   "execution_count": 54,
   "metadata": {
    "colab": {
     "base_uri": "https://localhost:8080/",
     "height": 312
    },
    "colab_type": "code",
    "id": "XMsX2htw_cqh",
    "outputId": "8574e051-07c3-4a3b-8e45-9c89283b17cb"
   },
   "outputs": [
    {
     "data": {
      "image/png": "[encoded data removed]",
      "text/plain": [
       "<Figure size 432x288 with 1 Axes>"
      ]
     },
     "metadata": {
      "needs_background": "light",
      "tags": []
     },
     "output_type": "display_data"
    },
    {
     "data": {
      "text/plain": [
       "<Figure size 432x288 with 0 Axes>"
      ]
     },
     "metadata": {
      "tags": []
     },
     "output_type": "display_data"
    }
   ],
   "source": [
    "import matplotlib.pyplot as plt\n",
    "# plt.plot(hist.history[\"acc\"])\n",
    "# plt.plot(hist.history['val_acc'])\n",
    "plt.figure()\n",
    "plt.plot(H.history['loss'])\n",
    "plt.plot(H.history['val_loss'])\n",
    "plt.title(\"model loss\")\n",
    "plt.ylabel(\"Loss\")\n",
    "plt.xlabel(\"Epoch\")\n",
    "plt.legend([\"Loss\",\"Validation Loss\"])\n",
    "plt.show()\n",
    "plt.savefig('chart loss.png')"
   ]
  },
  {
   "cell_type": "code",
   "execution_count": 55,
   "metadata": {
    "colab": {
     "base_uri": "https://localhost:8080/",
     "height": 34
    },
    "colab_type": "code",
    "id": "GDIvhtz9_bM9",
    "outputId": "cf153370-50d2-4ffb-e810-3439e987a655"
   },
   "outputs": [
    {
     "name": "stdout",
     "output_type": "stream",
     "text": [
      "Test Accuracy: 95.850682\n"
     ]
    }
   ],
   "source": [
    "# evaluate \n",
    "loss, acc = model_rnn.evaluate(x_test, y_test, verbose=0)\n",
    "print('Test Accuracy: %f' % (acc*100)) \n",
    "\n",
    "# lb: label encodem \n",
    "# ft: fast text \n",
    "# sg: skip gram \n",
    "# cnn: convolution neural network \n",
    "# lstm: long short term memory \n",
    "# nn: neural network"
   ]
  },
  {
   "cell_type": "code",
   "execution_count": 56,
   "metadata": {
    "colab": {},
    "colab_type": "code",
    "id": "JRvkiGR3_bPm"
   },
   "outputs": [],
   "source": [
    "LABEL_ENCODE_PATH=\"/content/drive/My Drive/NLP/WordSmi/ModelClassify/Glove/lb_glove_rnn.pkl\" \n",
    "ESTIMATE_PATH=\"/content/drive/My Drive/NLP/WordSmi/ModelClassify/Glove/estimator_glove_rnn.h5\"\n",
    "FileStore(file_path=LABEL_ENCODE_PATH).save_pickle(obj=mlb)\n",
    "FileStore(file_path=ESTIMATE_PATH).save_pickle(obj=model_rnn)\n",
    "\n",
    "from keras.models import save_model, load_model\n",
    "\n",
    "# Creates a HDF5 file 'ESTIMATE_PATH.h5' \n",
    "save_model(model_rnn, ESTIMATE_PATH) "
   ]
  }
 ],
 "metadata": {
  "colab": {
   "name": "test_glove.ipynb",
   "provenance": []
  },
  "kernelspec": {
   "display_name": "Python 3",
   "language": "python",
   "name": "python3"
  },
  "language_info": {
   "codemirror_mode": {
    "name": "ipython",
    "version": 3
   },
   "file_extension": ".py",
   "mimetype": "text/x-python",
   "name": "python",
   "nbconvert_exporter": "python",
   "pygments_lexer": "ipython3",
   "version": "3.7.6"
  },
  "widgets": {
   "application/vnd.jupyter.widget-state+json": {
    "024756b5f3fe41bda19f8972448821e1": {
     "model_module": "@jupyter-widgets/controls",
     "model_name": "FloatProgressModel",
     "state": {
      "_dom_classes": [],
      "_model_module": "@jupyter-widgets/controls",
      "_model_module_version": "1.5.0",
      "_model_name": "FloatProgressModel",
      "_view_count": null,
      "_view_module": "@jupyter-widgets/controls",
      "_view_module_version": "1.5.0",
      "_view_name": "ProgressView",
      "bar_style": "success",
      "description": "build dataset: 100%",
      "description_tooltip": null,
      "layout": "IPY_MODEL_729eb6dcc4e348c4bf524c5b91177ceb",
      "max": 22946,
      "min": 0,
      "orientation": "horizontal",
      "style": "IPY_MODEL_b094344cd8084eccac8d0ee52d95edeb",
      "value": 22946
     }
    },
    "4847969dfb7c4837999792ac5bf461d0": {
     "model_module": "@jupyter-widgets/controls",
     "model_name": "HTMLModel",
     "state": {
      "_dom_classes": [],
      "_model_module": "@jupyter-widgets/controls",
      "_model_module_version": "1.5.0",
      "_model_name": "HTMLModel",
      "_view_count": null,
      "_view_module": "@jupyter-widgets/controls",
      "_view_module_version": "1.5.0",
      "_view_name": "HTMLView",
      "description": "",
      "description_tooltip": null,
      "layout": "IPY_MODEL_71947fd3d97f4e57a984955703b0c09d",
      "placeholder": "​",
      "style": "IPY_MODEL_920ea827e0c24ece9c677678e524e094",
      "value": " 22946/22946 [05:49&lt;00:00, 65.69it/s]"
     }
    },
    "71947fd3d97f4e57a984955703b0c09d": {
     "model_module": "@jupyter-widgets/base",
     "model_name": "LayoutModel",
     "state": {
      "_model_module": "@jupyter-widgets/base",
      "_model_module_version": "1.2.0",
      "_model_name": "LayoutModel",
      "_view_count": null,
      "_view_module": "@jupyter-widgets/base",
      "_view_module_version": "1.2.0",
      "_view_name": "LayoutView",
      "align_content": null,
      "align_items": null,
      "align_self": null,
      "border": null,
      "bottom": null,
      "display": null,
      "flex": null,
      "flex_flow": null,
      "grid_area": null,
      "grid_auto_columns": null,
      "grid_auto_flow": null,
      "grid_auto_rows": null,
      "grid_column": null,
      "grid_gap": null,
      "grid_row": null,
      "grid_template_areas": null,
      "grid_template_columns": null,
      "grid_template_rows": null,
      "height": null,
      "justify_content": null,
      "justify_items": null,
      "left": null,
      "margin": null,
      "max_height": null,
      "max_width": null,
      "min_height": null,
      "min_width": null,
      "object_fit": null,
      "object_position": null,
      "order": null,
      "overflow": null,
      "overflow_x": null,
      "overflow_y": null,
      "padding": null,
      "right": null,
      "top": null,
      "visibility": null,
      "width": null
     }
    },
    "729eb6dcc4e348c4bf524c5b91177ceb": {
     "model_module": "@jupyter-widgets/base",
     "model_name": "LayoutModel",
     "state": {
      "_model_module": "@jupyter-widgets/base",
      "_model_module_version": "1.2.0",
      "_model_name": "LayoutModel",
      "_view_count": null,
      "_view_module": "@jupyter-widgets/base",
      "_view_module_version": "1.2.0",
      "_view_name": "LayoutView",
      "align_content": null,
      "align_items": null,
      "align_self": null,
      "border": null,
      "bottom": null,
      "display": null,
      "flex": null,
      "flex_flow": null,
      "grid_area": null,
      "grid_auto_columns": null,
      "grid_auto_flow": null,
      "grid_auto_rows": null,
      "grid_column": null,
      "grid_gap": null,
      "grid_row": null,
      "grid_template_areas": null,
      "grid_template_columns": null,
      "grid_template_rows": null,
      "height": null,
      "justify_content": null,
      "justify_items": null,
      "left": null,
      "margin": null,
      "max_height": null,
      "max_width": null,
      "min_height": null,
      "min_width": null,
      "object_fit": null,
      "object_position": null,
      "order": null,
      "overflow": null,
      "overflow_x": null,
      "overflow_y": null,
      "padding": null,
      "right": null,
      "top": null,
      "visibility": null,
      "width": null
     }
    },
    "734a74b41c5c451a8c157a7fcb5651e7": {
     "model_module": "@jupyter-widgets/base",
     "model_name": "LayoutModel",
     "state": {
      "_model_module": "@jupyter-widgets/base",
      "_model_module_version": "1.2.0",
      "_model_name": "LayoutModel",
      "_view_count": null,
      "_view_module": "@jupyter-widgets/base",
      "_view_module_version": "1.2.0",
      "_view_name": "LayoutView",
      "align_content": null,
      "align_items": null,
      "align_self": null,
      "border": null,
      "bottom": null,
      "display": null,
      "flex": null,
      "flex_flow": null,
      "grid_area": null,
      "grid_auto_columns": null,
      "grid_auto_flow": null,
      "grid_auto_rows": null,
      "grid_column": null,
      "grid_gap": null,
      "grid_row": null,
      "grid_template_areas": null,
      "grid_template_columns": null,
      "grid_template_rows": null,
      "height": null,
      "justify_content": null,
      "justify_items": null,
      "left": null,
      "margin": null,
      "max_height": null,
      "max_width": null,
      "min_height": null,
      "min_width": null,
      "object_fit": null,
      "object_position": null,
      "order": null,
      "overflow": null,
      "overflow_x": null,
      "overflow_y": null,
      "padding": null,
      "right": null,
      "top": null,
      "visibility": null,
      "width": null
     }
    },
    "920ea827e0c24ece9c677678e524e094": {
     "model_module": "@jupyter-widgets/controls",
     "model_name": "DescriptionStyleModel",
     "state": {
      "_model_module": "@jupyter-widgets/controls",
      "_model_module_version": "1.5.0",
      "_model_name": "DescriptionStyleModel",
      "_view_count": null,
      "_view_module": "@jupyter-widgets/base",
      "_view_module_version": "1.2.0",
      "_view_name": "StyleView",
      "description_width": ""
     }
    },
    "b094344cd8084eccac8d0ee52d95edeb": {
     "model_module": "@jupyter-widgets/controls",
     "model_name": "ProgressStyleModel",
     "state": {
      "_model_module": "@jupyter-widgets/controls",
      "_model_module_version": "1.5.0",
      "_model_name": "ProgressStyleModel",
      "_view_count": null,
      "_view_module": "@jupyter-widgets/base",
      "_view_module_version": "1.2.0",
      "_view_name": "StyleView",
      "bar_color": null,
      "description_width": "initial"
     }
    },
    "d850030d2d0c4b16bfa576f50ddf9d48": {
     "model_module": "@jupyter-widgets/controls",
     "model_name": "HBoxModel",
     "state": {
      "_dom_classes": [],
      "_model_module": "@jupyter-widgets/controls",
      "_model_module_version": "1.5.0",
      "_model_name": "HBoxModel",
      "_view_count": null,
      "_view_module": "@jupyter-widgets/controls",
      "_view_module_version": "1.5.0",
      "_view_name": "HBoxView",
      "box_style": "",
      "children": [
       "IPY_MODEL_024756b5f3fe41bda19f8972448821e1",
       "IPY_MODEL_4847969dfb7c4837999792ac5bf461d0"
      ],
      "layout": "IPY_MODEL_734a74b41c5c451a8c157a7fcb5651e7"
     }
    }
   }
  }
 },
 "nbformat": 4,
 "nbformat_minor": 1
}
