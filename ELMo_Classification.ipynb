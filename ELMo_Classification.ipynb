{
 "cells": [
  {
   "cell_type": "code",
   "execution_count": 1,
   "metadata": {
    "colab": {
     "base_uri": "https://localhost:8080/",
     "height": 125
    },
    "colab_type": "code",
    "id": "I4EdyckDRmI2",
    "outputId": "b55603a2-167f-4f73-d397-c8b507017722"
   },
   "outputs": [
    {
     "name": "stdout",
     "output_type": "stream",
     "text": [
      "Go to this URL in a browser: https://accounts.google.com/o/oauth2/auth?client_id=947318989803-6bn6qk8qdgf4n4g3pfee6491hc0brc4i.apps.googleusercontent.com&redirect_uri=urn%3aietf%3awg%3aoauth%3a2.0%3aoob&response_type=code&scope=email%20https%3a%2f%2fwww.googleapis.com%2fauth%2fdocs.test%20https%3a%2f%2fwww.googleapis.com%2fauth%2fdrive%20https%3a%2f%2fwww.googleapis.com%2fauth%2fdrive.photos.readonly%20https%3a%2f%2fwww.googleapis.com%2fauth%2fpeopleapi.readonly\n",
      "\n",
      "Enter your authorization code:\n",
      "··········\n",
      "Mounted at /content/drive\n"
     ]
    }
   ],
   "source": [
    "from google.colab import drive\n",
    "drive.mount('/content/drive')"
   ]
  },
  {
   "cell_type": "code",
   "execution_count": 2,
   "metadata": {
    "colab": {
     "base_uri": "https://localhost:8080/",
     "height": 496
    },
    "colab_type": "code",
    "id": "fb7nXyxPQQHm",
    "outputId": "3b18e9d0-a264-4de3-8e0b-2bd67f6dad7c"
   },
   "outputs": [
    {
     "name": "stdout",
     "output_type": "stream",
     "text": [
      "/content/drive/My Drive/NLP/WordSmi/ELMO\n",
      "Collecting pyvi\n",
      "\u001b[?25l  Downloading https://files.pythonhosted.org/packages/10/e1/0e5bc6b5e3327b9385d6e0f1b0a7c0404f28b74eb6db59a778515b30fd9c/pyvi-0.1-py2.py3-none-any.whl (8.5MB)\n",
      "\u001b[K     |████████████████████████████████| 8.5MB 2.8MB/s \n",
      "\u001b[?25hCollecting sklearn-crfsuite\n",
      "  Downloading https://files.pythonhosted.org/packages/25/74/5b7befa513482e6dee1f3dd68171a6c9dfc14c0eaa00f885ffeba54fe9b0/sklearn_crfsuite-0.3.6-py2.py3-none-any.whl\n",
      "Requirement already satisfied: scikit-learn in /usr/local/lib/python3.6/dist-packages (from pyvi) (0.22.2.post1)\n",
      "Requirement already satisfied: six in /usr/local/lib/python3.6/dist-packages (from sklearn-crfsuite->pyvi) (1.12.0)\n",
      "Requirement already satisfied: tqdm>=2.0 in /usr/local/lib/python3.6/dist-packages (from sklearn-crfsuite->pyvi) (4.41.1)\n",
      "Requirement already satisfied: tabulate in /usr/local/lib/python3.6/dist-packages (from sklearn-crfsuite->pyvi) (0.8.7)\n",
      "Collecting python-crfsuite>=0.8.3\n",
      "\u001b[?25l  Downloading https://files.pythonhosted.org/packages/95/99/869dde6dbf3e0d07a013c8eebfb0a3d30776334e0097f8432b631a9a3a19/python_crfsuite-0.9.7-cp36-cp36m-manylinux1_x86_64.whl (743kB)\n",
      "\u001b[K     |████████████████████████████████| 747kB 44.8MB/s \n",
      "\u001b[?25hRequirement already satisfied: joblib>=0.11 in /usr/local/lib/python3.6/dist-packages (from scikit-learn->pyvi) (0.15.1)\n",
      "Requirement already satisfied: numpy>=1.11.0 in /usr/local/lib/python3.6/dist-packages (from scikit-learn->pyvi) (1.18.5)\n",
      "Requirement already satisfied: scipy>=0.17.0 in /usr/local/lib/python3.6/dist-packages (from scikit-learn->pyvi) (1.4.1)\n",
      "Installing collected packages: python-crfsuite, sklearn-crfsuite, pyvi\n",
      "Successfully installed python-crfsuite-0.9.7 pyvi-0.1 sklearn-crfsuite-0.3.6\n",
      "Collecting overrides\n",
      "  Downloading https://files.pythonhosted.org/packages/ff/b1/10f69c00947518e6676bbd43e739733048de64b8dd998e9c2d5a71f44c5d/overrides-3.1.0.tar.gz\n",
      "Building wheels for collected packages: overrides\n",
      "  Building wheel for overrides (setup.py) ... \u001b[?25l\u001b[?25hdone\n",
      "  Created wheel for overrides: filename=overrides-3.1.0-cp36-none-any.whl size=10174 sha256=466ef0ee577eafc02c07737b072db4bc4c62827a5e4b4f4fc6790d58d87dbb95\n",
      "  Stored in directory: /root/.cache/pip/wheels/5c/24/13/6ef8600e6f147c95e595f1289a86a3cc82ed65df57582c65a9\n",
      "Successfully built overrides\n",
      "Installing collected packages: overrides\n",
      "Successfully installed overrides-3.1.0\n"
     ]
    }
   ],
   "source": [
    "%cd /content/drive/My Drive/NLP/WordSmi/ELMO\n",
    "!pip install pyvi\n",
    "!pip install overrides\n",
    "import pickle as cPickle   \n",
    "from tqdm import tqdm\n",
    "import numpy as np \n",
    "import random\n",
    "import os\n",
    "from pyvi import ViTokenizer "
   ]
  },
  {
   "cell_type": "code",
   "execution_count": 3,
   "metadata": {
    "colab": {},
    "colab_type": "code",
    "id": "9CY1Wlht0TMX"
   },
   "outputs": [],
   "source": [
    "\n",
    "class FileStore(object):\n",
    "    def __init__(self, file_path, data = None):\n",
    "        self.file_path = file_path\n",
    "        self.data = data\n",
    "\n",
    "    def store_json(self):\n",
    "        print(\"Save: \",self.file_path)\n",
    "        with open(self.file_path, 'w') as outfile:\n",
    "            json.dump(self.data, outfile)\n",
    "\n",
    "    # store dictionary: https://radimrehurek.com/gensim/corpora/dictionary.html#gensim.corpora.dictionary.Dictionary.filter_extremes\n",
    "    # dict_word là mãng chữa các đoạn text đã được segmentation [[cá, con, ăn],[con, mèo],[con, chó, chạy, qua]]\n",
    "    # len của dictionary sẽ là 7 \n",
    "    # no_above là tần suất xuất hiện trên số phần trăm ví dụ: no_above = 0.5 là tần suất xuất hiện không được trên (phải dưới) của tổng số tài liệu 50%\n",
    "    # no_below là số lần xuất hiện không được dưới ... ví dụ no_below = 2 là số lần xuất hiện trong từng tài liệu không được dưới 2\n",
    "    def store_dictionary(self, dict_words):\n",
    "        dictionary = corpora.Dictionary(dict_words)\n",
    "        dictionary.filter_extremes(no_below=170, no_above=0.3) \n",
    "        dictionary.save_as_text(self.file_path)\n",
    " \n",
    "\n",
    "    def save_pickle(self,  obj):\n",
    "        outfile = open(self.file_path, 'wb')\n",
    "        fastPickler = cPickle.Pickler(outfile, 4)\n",
    "        fastPickler.fast = 1\n",
    "        fastPickler.dump(obj)\n",
    "        outfile.close()"
   ]
  },
  {
   "cell_type": "code",
   "execution_count": 7,
   "metadata": {
    "colab": {},
    "colab_type": "code",
    "id": "wSxNDkI-QQHq"
   },
   "outputs": [],
   "source": [
    "# tạo class đọc file \n",
    "class FileReader(object):\n",
    "    def __init__(self, file_path, encoder = None):\n",
    "        self.file_path = file_path\n",
    "        self.encoder = encoder if encoder != None else 'utf-16le'\n",
    "\n",
    "    def read(self):\n",
    "        with open(self.file_path,'rb',encoding ='utf-8') as f:\n",
    "            s = f.read() \n",
    "        return s\n",
    "\n",
    "    def content(self):\n",
    "        s = self.read() \n",
    "        return s.decode(self.encoder)\n",
    "\n",
    "    def read_json(self):\n",
    "        with open(self.file_path) as f:\n",
    "            s = json.load(f)\n",
    "        return s\n",
    "        \n",
    "    def read_stopwords(self):\n",
    "        with open(self.file_path, 'r',encoding ='utf-8') as f:\n",
    "            stopwords = set([w.strip().replace(' ', '_') for w in f.readlines()])\n",
    "        return stopwords\n",
    "      \n",
    "    def load_estimator(self): \n",
    "        with open(self.file_path, mode='rb') as f:\n",
    "            estimator = cPickle.load(f)\n",
    "            f.close()\n",
    "        return estimator"
   ]
  },
  {
   "cell_type": "code",
   "execution_count": 8,
   "metadata": {
    "colab": {},
    "colab_type": "code",
    "id": "AgFMEOIiQQHt"
   },
   "outputs": [],
   "source": [
    "DATA_TRAIN_JSON = './dataset/train.json'\n",
    "STOP_WORDS = './dataset/stopwords-nlp-vi.txt'\n",
    "SPECIAL_CHARACTER = '0123456789%@$.,=+-!;/()*\"&^:#|\\n\\t\\''\n",
    "DICTIONARY_PATH = '/content/drive/My Drive/NLP/nlp_me/dictionary.txt'"
   ]
  },
  {
   "cell_type": "markdown",
   "metadata": {
    "colab_type": "text",
    "id": "GEXufl_ZQQHw"
   },
   "source": [
    "Đọc file train"
   ]
  },
  {
   "cell_type": "code",
   "execution_count": 9,
   "metadata": {
    "colab": {},
    "colab_type": "code",
    "id": "s7B_VvP5QQH1"
   },
   "outputs": [],
   "source": [
    "# xây dựng class NLP extends từ pyvi để extract feature \n",
    "class NLP(object):\n",
    "    def __init__(self, text = None):\n",
    "        self.text = text\n",
    "        self.__set_stopwords()\n",
    "\n",
    "    #đọc file stop_word đã chứa sẵn trong đường dẫn\n",
    "    def __set_stopwords(self):\n",
    "        self.stopwords = FileReader(STOP_WORDS).read_stopwords()\n",
    "\n",
    "    # vì trong câu sẽ xuất hiện rất nhiều từ vô nghĩa, sẽ làm noise dữ liệu cho nên phải segmentation trước khi train. Sử dụng ViTokenizer từ Pyvi \n",
    "    # để tokenize (đây là một model do người việt đã làm để segmentation tiếng việt)\n",
    "    def segmentation(self):\n",
    "        return ViTokenizer.tokenize(self.text)\n",
    "\n",
    "    # loại bỏ kí tự đặc biệt, lowercase và segmentation tiếng việt\n",
    "    def split_words(self):\n",
    "        text = self.segmentation()\n",
    "        try:\n",
    "            return [x.strip(SPECIAL_CHARACTER).lower() for x in text.split()]\n",
    "        except TypeError:\n",
    "            return []\n",
    "\n",
    "    # get feature trong câu gồm hai bước \n",
    "    # loại bỏ kí tự đặc biệt và loại bỏ stop_words - stop_word là những từ vô nghĩa không mang lại hiệu quả train \n",
    "    def get_words_feature(self):\n",
    "        split_words = self.split_words()\n",
    "        return [word for word in split_words if word.encode('utf-8') not in self.stopwords]\n"
   ]
  },
  {
   "cell_type": "code",
   "execution_count": null,
   "metadata": {
    "colab": {},
    "colab_type": "code",
    "id": "6GHofZNjQQH4"
   },
   "outputs": [],
   "source": [
    "# extract feature \n",
    "# build dictionary để chuyển embedding dữ liệu, chuyển về word2vec => bag of word\n",
    "from ELMo.elmoformanylangs import Embedder\n",
    "ELMo = Embedder(model_dir='./ELMo/178',batch_size=256)"
   ]
  },
  {
   "cell_type": "code",
   "execution_count": 10,
   "metadata": {
    "colab": {},
    "colab_type": "code",
    "id": "HUd9EB27QQH7"
   },
   "outputs": [],
   "source": [
    "\n",
    "class FeatureExtraction(object):\n",
    "    def __init__(self, data=None, build_dic=False):\n",
    "        self.data = data\n",
    "        self.build_dic = build_dic\n",
    "\n",
    "    # build từ điển gồm các từ xuất hiện trong văn bản sau khi đã preprocess dữ liệu \n",
    "    def __build_dictionary(self):\n",
    "        print('Building dictionary')\n",
    "        dict_words = []  \n",
    "        for i in tqdm(range(len(self.data)), desc='build dictionary'): \n",
    "            if self.data[i]['category'].split('.')[0] != 'My': \n",
    "                words = NLP(text = self.data[i]['content']).split_words()\n",
    "                dict_words.append(words)  \n",
    "        FileStore(file_path=DICTIONARY_PATH).store_dictionary(dict_words)\n",
    "\n",
    "    # load từ điển đã xây dựng theo dữ liệu train\n",
    "    def __load_dictionary(self):\n",
    "        if os.path.exists(DICTIONARY_PATH) == False or self.build_dic == True: \n",
    "            print(\"Dictionary is not exist\")\n",
    "            self.__build_dictionary() \n",
    "            self.build_dic = False\n",
    "        \n",
    "        self.dictionary = FileReader(DICTIONARY_PATH).load_dictionary()\n",
    "    # extract feature từ từ điển đã tạo cùng với label\n",
    "    # x sẽ là word2vec, y là label\n",
    "    def __build_dataset(self):\n",
    "        self.features = []\n",
    "        self.labels = [] \n",
    "        error = 0\n",
    "        for i in tqdm(range(len(self.data)), desc='build dataset'): \n",
    "            try:\n",
    "                content = self.get_dense(self.data[i]['content'])\n",
    "                self.features.append(content)\n",
    "                self.labels.append(self.data[i]['category'])\n",
    "            except:\n",
    "                print(\"error\")\n",
    "                error+=1\n",
    "                continue \n",
    "        print('Total:',error,'paragraph')\n",
    "\n",
    "    def get_dense(self, words): \n",
    "        vec = []  \n",
    "        for item in ELMo.sents2elmo(words): \n",
    "          vec.append(np.sum(item, axis=0))\n",
    "        return np.sum(vec, axis=0)\n",
    "\n",
    "    def get_data_and_label(self):\n",
    "        print(\"** Start build dataset\")\n",
    "        self.__build_dataset()  \n",
    "        return self.features, self.labels"
   ]
  },
  {
   "cell_type": "code",
   "execution_count": null,
   "metadata": {
    "colab": {
     "base_uri": "https://localhost:8080/",
     "height": 34
    },
    "colab_type": "code",
    "id": "_6YpitVBWpmB",
    "outputId": "637e9b65-5353-450b-bb50-c5a4439ca61c"
   },
   "outputs": [
    {
     "name": "stdout",
     "output_type": "stream",
     "text": [
      "Total data train: 105800\n"
     ]
    }
   ],
   "source": [
    "import json\n",
    "\n",
    "train_loader = FileReader(file_path=DATA_TRAIN_JSON) \n",
    "data_train_raw = train_loader.read_json()\n",
    "print('Total data train: %d' %len(data_train_raw))\n",
    "random.shuffle(data_train_raw)"
   ]
  },
  {
   "cell_type": "code",
   "execution_count": null,
   "metadata": {
    "colab": {},
    "colab_type": "code",
    "id": "6fABUdhCQQH-"
   },
   "outputs": [],
   "source": [
    "\n",
    "\n",
    "dic = dict() \n",
    "dic_count = dict()\n",
    "NUM_RANDOM = random.randint(2000,2500) \n",
    "for item in data_train_raw:\n",
    "    if item['category'] not in dic.keys():\n",
    "        dic[item['category']] = NUM_RANDOM\n",
    "        dic_count[item['category']] = 0\n",
    "    if len(dic.keys()) > 11:\n",
    "        break"
   ]
  },
  {
   "cell_type": "code",
   "execution_count": null,
   "metadata": {
    "colab": {
     "base_uri": "https://localhost:8080/",
     "height": 34
    },
    "colab_type": "code",
    "id": "yKYrl9UVQQIB",
    "outputId": "820a2af8-5843-4698-d824-eae810849b47"
   },
   "outputs": [
    {
     "name": "stderr",
     "output_type": "stream",
     "text": [
      "build dataset: 100%|██████████| 105800/105800 [07:12<00:00, 244.65it/s]\n"
     ]
    }
   ],
   "source": [
    "data_train = []\n",
    "for i in tqdm(range(len(data_train_raw)), desc='build dataset'): \n",
    "    item = data_train_raw[i]\n",
    "    try:\n",
    "        if dic[item['category']] > dic_count[item['category']]:\n",
    "            item['content'] = NLP(item['content']).split_words() \n",
    "            data_train.append(item)\n",
    "            dic_count[item['category']]+=1\n",
    "    except:\n",
    "        continue"
   ]
  },
  {
   "cell_type": "code",
   "execution_count": null,
   "metadata": {
    "colab": {},
    "colab_type": "code",
    "id": "8SrpuaI9QQIH"
   },
   "outputs": [],
   "source": [
    "from tqdm.notebook import tqdm\n",
    "features_train, labels_train = FeatureExtraction(data=data_train).get_data_and_label() "
   ]
  },
  {
   "cell_type": "code",
   "execution_count": null,
   "metadata": {
    "colab": {},
    "colab_type": "code",
    "id": "mqGnSZBfQQIK"
   },
   "outputs": [],
   "source": [
    "new_y = []\n",
    "for i in y:\n",
    "    index = np.where(i==1)[0][0]\n",
    "    new_y.append(mlb.classes_[index])"
   ]
  },
  {
   "cell_type": "code",
   "execution_count": 11,
   "metadata": {
    "colab": {},
    "colab_type": "code",
    "id": "D3g3JOMhoKTF"
   },
   "outputs": [],
   "source": [
    "\n",
    "x = np.load('/content/drive/My Drive/NLP/WordSmi/ELMO/dataset/x_full.npy')\n",
    "y_one_hot = np.load('/content/drive/My Drive/NLP/WordSmi/ELMO/dataset/y_full.npy')\n",
    "y = np.load('/content/drive/My Drive/NLP/WordSmi/ELMO/dataset/y_full_label.npy')"
   ]
  },
  {
   "cell_type": "code",
   "execution_count": 12,
   "metadata": {
    "colab": {},
    "colab_type": "code",
    "id": "A91pRdpefxN8"
   },
   "outputs": [],
   "source": [
    "# from sklearn import preprocessing\n",
    "# x = preprocessing.scale(x)"
   ]
  },
  {
   "cell_type": "code",
   "execution_count": 13,
   "metadata": {
    "colab": {
     "base_uri": "https://localhost:8080/",
     "height": 34
    },
    "colab_type": "code",
    "id": "U8ecS2JuQQIP",
    "outputId": "13c168c6-a9a3-456c-ac9c-db9260f44720"
   },
   "outputs": [
    {
     "name": "stderr",
     "output_type": "stream",
     "text": [
      "Using TensorFlow backend.\n"
     ]
    }
   ],
   "source": [
    "from keras.utils import to_categorical\n",
    "from sklearn.preprocessing import MultiLabelBinarizer,LabelEncoder\n",
    "# encode label  \n",
    "\n",
    "# mlb = FileReader(file_path=LABEL_ENCODE_PATH).load_estimator()\n",
    "mlb = LabelEncoder()\n",
    "k = mlb.fit_transform(y)\n",
    "# one hot encoding \n",
    "y = to_categorical(k)"
   ]
  },
  {
   "cell_type": "code",
   "execution_count": 14,
   "metadata": {
    "colab": {
     "base_uri": "https://localhost:8080/",
     "height": 34
    },
    "colab_type": "code",
    "id": "pvgnYSurQQIS",
    "outputId": "486af7a8-be0b-4c31-d9c8-a8fab7bb1a0b"
   },
   "outputs": [
    {
     "data": {
      "text/plain": [
       "(22385, 12)"
      ]
     },
     "execution_count": 14,
     "metadata": {
      "tags": []
     },
     "output_type": "execute_result"
    }
   ],
   "source": [
    "from sklearn.model_selection import train_test_split\n",
    "# chia tập train, test theo tỉ lệ 8:2   \n",
    "(x_train,x_test, y_train, y_test) = train_test_split(x, y, test_size=0.2, random_state=43)\n",
    "y_train.shape"
   ]
  },
  {
   "cell_type": "code",
   "execution_count": 15,
   "metadata": {
    "colab": {
     "base_uri": "https://localhost:8080/",
     "height": 105
    },
    "colab_type": "code",
    "id": "UX_xjXf_nGMK",
    "outputId": "a183b836-8f55-44e8-916e-f13ed9c52978"
   },
   "outputs": [
    {
     "name": "stdout",
     "output_type": "stream",
     "text": [
      "Shape features: Total document 27982 - Size matrix train (size dictionary) (22385, 1024)\n",
      "Train set 22385 docs\n",
      "Test set 5597 docs\n",
      "Shape (27982, 1024) (27982, 12)\n"
     ]
    },
    {
     "data": {
      "text/plain": [
       "array([0., 0., 0., 0., 0., 1., 0., 0., 0., 0., 0., 0.], dtype=float32)"
      ]
     },
     "execution_count": 15,
     "metadata": {
      "tags": []
     },
     "output_type": "execute_result"
    }
   ],
   "source": [
    "print('Shape features:',\"Total document\",y_train.shape[0] + y_test.shape[0],\"- Size matrix train (size dictionary)\",x_train.shape)\n",
    "print('Train set',y_train.shape[0],'docs') \n",
    "print('Test set',y_test.shape[0],'docs') \n",
    "print(\"Shape\",x.shape,y.shape)\n",
    "SIZE_TRAIN = x_train.shape[1]\n",
    "y_test[0]\n"
   ]
  },
  {
   "cell_type": "code",
   "execution_count": 16,
   "metadata": {
    "colab": {
     "base_uri": "https://localhost:8080/",
     "height": 247
    },
    "colab_type": "code",
    "id": "p6OOpBLinVpy",
    "outputId": "0b58aa6b-961f-4efd-f61d-4289fde05cd7"
   },
   "outputs": [
    {
     "name": "stdout",
     "output_type": "stream",
     "text": [
      "- tổng số label:\n",
      "1. Cong_nghe\n",
      "2. Cuoc_song_muon_mau\n",
      "3. Doanh_nghiep\n",
      "4. Du_lich\n",
      "5. Giao_duc\n",
      "6. Khoa_hoc\n",
      "7. Tai_chinh_quoc_te\n",
      "8. The_thao\n",
      "9. Thi_truong\n",
      "10. Tin_tuc\n",
      "11. Van_hoa\n",
      "12. Xe\n"
     ]
    }
   ],
   "source": [
    "print(\"- tổng số label:\")\n",
    "# loop over each of the possible class labels and show them\n",
    "for (i, label) in enumerate(mlb.classes_):\n",
    "\tprint(\"{}. {}\".format(i + 1, label)) "
   ]
  },
  {
   "cell_type": "code",
   "execution_count": null,
   "metadata": {
    "colab": {
     "base_uri": "https://localhost:8080/",
     "height": 629
    },
    "colab_type": "code",
    "id": "Qf7o0zsen1X7",
    "outputId": "d53fbec0-f82e-44cb-defc-47f544c05207"
   },
   "outputs": [
    {
     "name": "stdout",
     "output_type": "stream",
     "text": [
      "Model: \"sequential_18\"\n",
      "_________________________________________________________________\n",
      "Layer (type)                 Output Shape              Param #   \n",
      "=================================================================\n",
      "dense_35 (Dense)             (None, 700)               717500    \n",
      "_________________________________________________________________\n",
      "leaky_re_lu_5 (LeakyReLU)    (None, 700)               0         \n",
      "_________________________________________________________________\n",
      "dropout_5 (Dropout)          (None, 700)               0         \n",
      "_________________________________________________________________\n",
      "dense_36 (Dense)             (None, 600)               420600    \n",
      "_________________________________________________________________\n",
      "leaky_re_lu_6 (LeakyReLU)    (None, 600)               0         \n",
      "_________________________________________________________________\n",
      "dropout_6 (Dropout)          (None, 600)               0         \n",
      "_________________________________________________________________\n",
      "dense_37 (Dense)             (None, 500)               300500    \n",
      "_________________________________________________________________\n",
      "leaky_re_lu_7 (LeakyReLU)    (None, 500)               0         \n",
      "_________________________________________________________________\n",
      "dropout_7 (Dropout)          (None, 500)               0         \n",
      "_________________________________________________________________\n",
      "dense_38 (Dense)             (None, 400)               200400    \n",
      "_________________________________________________________________\n",
      "leaky_re_lu_8 (LeakyReLU)    (None, 400)               0         \n",
      "_________________________________________________________________\n",
      "dropout_8 (Dropout)          (None, 400)               0         \n",
      "_________________________________________________________________\n",
      "dense_39 (Dense)             (None, 300)               120300    \n",
      "_________________________________________________________________\n",
      "dense_40 (Dense)             (None, 12)                3612      \n",
      "=================================================================\n",
      "Total params: 1,762,912\n",
      "Trainable params: 1,762,912\n",
      "Non-trainable params: 0\n",
      "_________________________________________________________________\n"
     ]
    }
   ],
   "source": [
    "from keras.models import Sequential\n",
    "from keras.layers.normalization import BatchNormalization\n",
    "from keras.layers.convolutional import Conv2D\n",
    "from keras.layers.convolutional import MaxPooling2D\n",
    "from keras.layers.core import Activation, Dense, Flatten, Dropout\n",
    "from keras import backend as K\n",
    "from keras.optimizers import Adam, SGD \n",
    "from keras.layers import LeakyReLU\n",
    "from sklearn.metrics import classification_report\n",
    "# from tensorflow.python.keras.layers import Dense\n",
    "# from tensorflow.python.keras import Sequential\n",
    "\n",
    "# xây dựng mạng network\n",
    "class ModelNLP(object):\n",
    "  @staticmethod\n",
    "  def build(SIZE_TRAIN,num_classes, final_activation):\n",
    "    model = Sequential()\n",
    "    model.add(Dense(700, input_shape=(SIZE_TRAIN,), activation='relu', kernel_initializer=\"uniform\")) \n",
    "    model.add(LeakyReLU(alpha=0.3))        \n",
    "    model.add(Dropout(rate=0.2)) \n",
    "    model.add(Dense(600))      \n",
    "    model.add(LeakyReLU(alpha=0.3))  \n",
    "    model.add(Dropout(rate=0.2)) \n",
    "    model.add(Dense(500))      \n",
    "    model.add(LeakyReLU(alpha=0.3))        \n",
    "    model.add(Dropout(rate=0.2))\n",
    "    model.add(Dense(400))      \n",
    "    model.add(LeakyReLU(alpha=0.3))        \n",
    "    model.add(Dropout(rate=0.2))\n",
    "    model.add(Dense(300))    \n",
    "    model.add(Dense(num_classes, activation=final_activation))\n",
    "  \n",
    "    return model\n",
    "# !pip install tensorflow==1.14\n",
    "# khởi tạo model\n",
    "EPOCHS = 20\n",
    "INIT_LR = 1e-3\n",
    "BS = 32\n",
    "\n",
    "model = ModelNLP.build(SIZE_TRAIN=SIZE_TRAIN,num_classes=len(mlb.classes_),final_activation='softmax')\n",
    "opt = Adam(lr=INIT_LR, decay=INIT_LR / EPOCHS)\n",
    "    .\n",
    "sgd = SGD(lr=0.001); \n",
    "model.compile(loss='binary_crossentropy', optimizer=sgd, metrics=['accuracy'])\n",
    "model.summary()"
   ]
  },
  {
   "cell_type": "code",
   "execution_count": null,
   "metadata": {
    "colab": {
     "base_uri": "https://localhost:8080/",
     "height": 714
    },
    "colab_type": "code",
    "id": "M_8tX75Dn252",
    "outputId": "606faf35-7d53-4e34-f7e7-43a6c26f217e"
   },
   "outputs": [
    {
     "name": "stdout",
     "output_type": "stream",
     "text": [
      "Train on 22385 samples, validate on 5597 samples\n",
      "Epoch 1/20\n",
      "22385/22385 [==============================] - 5s 241us/step - loss: 1.0631 - accuracy: 0.8778 - val_loss: 0.2275 - val_accuracy: 0.9351\n",
      "Epoch 2/20\n",
      "22385/22385 [==============================] - 5s 231us/step - loss: 0.2760 - accuracy: 0.9195 - val_loss: 0.1886 - val_accuracy: 0.9344\n",
      "Epoch 3/20\n",
      "22385/22385 [==============================] - 5s 228us/step - loss: 0.2269 - accuracy: 0.9267 - val_loss: 0.1824 - val_accuracy: 0.9360\n",
      "Epoch 4/20\n",
      "22385/22385 [==============================] - 5s 229us/step - loss: 0.2139 - accuracy: 0.9308 - val_loss: 0.1740 - val_accuracy: 0.9390\n",
      "Epoch 5/20\n",
      "22385/22385 [==============================] - 5s 230us/step - loss: 0.2040 - accuracy: 0.9332 - val_loss: 0.1691 - val_accuracy: 0.9410\n",
      "Epoch 6/20\n",
      "22385/22385 [==============================] - 5s 235us/step - loss: 0.1973 - accuracy: 0.9349 - val_loss: 0.1660 - val_accuracy: 0.9421\n",
      "Epoch 7/20\n",
      "22385/22385 [==============================] - 5s 239us/step - loss: 0.1918 - accuracy: 0.9365 - val_loss: 0.1627 - val_accuracy: 0.9424\n",
      "Epoch 8/20\n",
      "22385/22385 [==============================] - 5s 230us/step - loss: 0.1870 - accuracy: 0.9377 - val_loss: 0.1561 - val_accuracy: 0.9454\n",
      "Epoch 9/20\n",
      "22385/22385 [==============================] - 5s 237us/step - loss: 0.1826 - accuracy: 0.9392 - val_loss: 0.1545 - val_accuracy: 0.9459\n",
      "Epoch 10/20\n",
      "22385/22385 [==============================] - 5s 232us/step - loss: 0.1803 - accuracy: 0.9399 - val_loss: 0.1548 - val_accuracy: 0.9452\n",
      "Epoch 11/20\n",
      "22385/22385 [==============================] - 5s 233us/step - loss: 0.1750 - accuracy: 0.9415 - val_loss: 0.1490 - val_accuracy: 0.9476\n",
      "Epoch 12/20\n",
      "22385/22385 [==============================] - 5s 229us/step - loss: 0.1721 - accuracy: 0.9421 - val_loss: 0.1473 - val_accuracy: 0.9488\n",
      "Epoch 13/20\n",
      "22385/22385 [==============================] - 5s 232us/step - loss: 0.1687 - accuracy: 0.9432 - val_loss: 0.1467 - val_accuracy: 0.9487\n",
      "Epoch 14/20\n",
      "22385/22385 [==============================] - 5s 233us/step - loss: 0.1682 - accuracy: 0.9432 - val_loss: 0.1469 - val_accuracy: 0.9485\n",
      "Epoch 15/20\n",
      "22385/22385 [==============================] - 5s 229us/step - loss: 0.1658 - accuracy: 0.9441 - val_loss: 0.1441 - val_accuracy: 0.9494\n",
      "Epoch 16/20\n",
      "22385/22385 [==============================] - 5s 232us/step - loss: 0.1630 - accuracy: 0.9449 - val_loss: 0.1421 - val_accuracy: 0.9501\n",
      "Epoch 17/20\n",
      "22385/22385 [==============================] - 5s 232us/step - loss: 0.1627 - accuracy: 0.9449 - val_loss: 0.1449 - val_accuracy: 0.9493\n",
      "Epoch 18/20\n",
      "22385/22385 [==============================] - 5s 232us/step - loss: 0.1605 - accuracy: 0.9457 - val_loss: 0.1434 - val_accuracy: 0.9505\n",
      "Epoch 19/20\n",
      "22385/22385 [==============================] - 5s 235us/step - loss: 0.1591 - accuracy: 0.9461 - val_loss: 0.1423 - val_accuracy: 0.9507\n",
      "Epoch 20/20\n",
      "22385/22385 [==============================] - 5s 245us/step - loss: 0.1561 - accuracy: 0.9469 - val_loss: 0.1401 - val_accuracy: 0.9504\n"
     ]
    }
   ],
   "source": [
    "# training \n",
    "H = model.fit(x_train, y_train, validation_data= (x_test,y_test),epochs=20, verbose=1)"
   ]
  },
  {
   "cell_type": "code",
   "execution_count": null,
   "metadata": {
    "colab": {
     "base_uri": "https://localhost:8080/",
     "height": 34
    },
    "colab_type": "code",
    "id": "FzMaHNpyn4T5",
    "outputId": "78f78c4c-58ee-40f4-eb2a-12f0bb008863"
   },
   "outputs": [
    {
     "name": "stdout",
     "output_type": "stream",
     "text": [
      "Test Accuracy: 95.037538\n"
     ]
    }
   ],
   "source": [
    "# evaluate \n",
    "loss, acc = model.evaluate(x_test, y_test, verbose=0)\n",
    "print('Test Accuracy: %f' % (acc*100)) "
   ]
  },
  {
   "cell_type": "code",
   "execution_count": null,
   "metadata": {
    "colab": {
     "base_uri": "https://localhost:8080/",
     "height": 312
    },
    "colab_type": "code",
    "id": "1UjfmTKtn5vU",
    "outputId": "c12c8d4a-1198-4381-c65d-b8500b37c163"
   },
   "outputs": [
    {
     "data": {
      "image/png": "[encoded data removed]",
      "text/plain": [
       "<Figure size 432x288 with 1 Axes>"
      ]
     },
     "metadata": {
      "needs_background": "light",
      "tags": []
     },
     "output_type": "display_data"
    },
    {
     "data": {
      "text/plain": [
       "<Figure size 432x288 with 0 Axes>"
      ]
     },
     "metadata": {
      "tags": []
     },
     "output_type": "display_data"
    }
   ],
   "source": [
    "import matplotlib.pyplot as plt\n",
    "# plt.plot(hist.history[\"acc\"])\n",
    "# plt.plot(hist.history['val_acc'])\n",
    "plt.figure()\n",
    "plt.plot(H.history['loss'])\n",
    "plt.plot(H.history['val_loss'])\n",
    "plt.title(\"model loss\")\n",
    "plt.ylabel(\"Loss\")\n",
    "plt.xlabel(\"Epoch\")\n",
    "plt.legend([\"Loss\",\"Validation Loss\"])\n",
    "plt.show()\n",
    "plt.savefig('chart loss.png')"
   ]
  },
  {
   "cell_type": "code",
   "execution_count": null,
   "metadata": {
    "colab": {},
    "colab_type": "code",
    "id": "sD-jCkJooXmv"
   },
   "outputs": [],
   "source": [
    "  \n",
    "LABEL_ENCODE_PATH=\"/content/drive/My Drive/NLP/WordSmi/ModelClassify/ELMO/lb_elmo_nn.pkl\"\n",
    "ESTIMATE_PATH=\"/content/drive/My Drive/NLP/WordSmi/ModelClassify/ELMO/estimator_elmo_nn.h5\"\n",
    "FileStore(file_path=LABEL_ENCODE_PATH).save_pickle(obj=mlb)\n",
    "FileStore(file_path=ESTIMATE_PATH).save_pickle(obj=model)\n",
    "\n",
    "from keras.models import save_model, load_model\n",
    "\n",
    "# Creates a HDF5 file 'ESTIMATE_PATH.h5' \n",
    "save_model(model, ESTIMATE_PATH) "
   ]
  },
  {
   "cell_type": "markdown",
   "metadata": {
    "colab_type": "text",
    "id": "6JvAAHYUfIMd"
   },
   "source": [
    "LSTMModel"
   ]
  },
  {
   "cell_type": "code",
   "execution_count": null,
   "metadata": {
    "colab": {
     "base_uri": "https://localhost:8080/",
     "height": 265
    },
    "colab_type": "code",
    "id": "4CoRsIuFfHJm",
    "outputId": "8861b451-09a3-4b05-d55b-0e30e1e1d800"
   },
   "outputs": [
    {
     "name": "stdout",
     "output_type": "stream",
     "text": [
      "Model: \"sequential_8\"\n",
      "_________________________________________________________________\n",
      "Layer (type)                 Output Shape              Param #   \n",
      "=================================================================\n",
      "lstm_7 (LSTM)                (None, 100)               40800     \n",
      "_________________________________________________________________\n",
      "dense_19 (Dense)             (None, 50)                5050      \n",
      "_________________________________________________________________\n",
      "dense_20 (Dense)             (None, 12)                612       \n",
      "=================================================================\n",
      "Total params: 46,462\n",
      "Trainable params: 46,462\n",
      "Non-trainable params: 0\n",
      "_________________________________________________________________\n"
     ]
    }
   ],
   "source": [
    "from keras.models import Sequential\n",
    "from keras.layers.normalization import BatchNormalization\n",
    "from keras.layers.convolutional import Conv2D\n",
    "from keras.layers.convolutional import MaxPooling2D\n",
    "from keras.layers.core import Activation, Dense, Flatten, Dropout\n",
    "from keras.layers import LSTM\n",
    "from keras import backend as K\n",
    "from keras.optimizers import Adam, SGD \n",
    "from keras.layers import LeakyReLU\n",
    "from sklearn.metrics import classification_report\n",
    "class LSTMModel(object): \n",
    "  @staticmethod\n",
    "  def build(SIZE_TRAIN,num_classes, final_activation):    \n",
    "    # define model\n",
    "    model = Sequential()\n",
    "    model.add(LSTM(100,input_shape=(SIZE_TRAIN,1), activation='tanh', dropout=0.2, recurrent_dropout=0.2))\n",
    "    model.add(Dense(50))\n",
    "    model.add(Dense(num_classes, activation=final_activation)) \n",
    "    return model \n",
    "\n",
    "    \n",
    "# khởi tạo model\n",
    "EPOCHS = 20\n",
    "INIT_LR = 1e-3\n",
    "BS = 32 \n",
    "n_features = 1\n",
    "\n",
    "model_lstm = LSTMModel.build(SIZE_TRAIN=SIZE_TRAIN,num_classes=len(mlb.classes_),final_activation='softmax')\n",
    "opt = Adam(lr=INIT_LR, decay=INIT_LR / EPOCHS)\n",
    "sgd = SGD(lr=0.001); \n",
    "model_lstm.compile(loss='binary_crossentropy', optimizer=opt, metrics=['accuracy'])\n",
    "model_lstm.summary() \n",
    " \n"
   ]
  },
  {
   "cell_type": "code",
   "execution_count": null,
   "metadata": {
    "colab": {
     "base_uri": "https://localhost:8080/",
     "height": 34
    },
    "colab_type": "code",
    "id": "39BCaSu8fTS8",
    "outputId": "22ec7480-deb1-4ae3-cc61-82823af5f12b"
   },
   "outputs": [
    {
     "data": {
      "text/plain": [
       "(22385, 1024)"
      ]
     },
     "execution_count": 73,
     "metadata": {
      "tags": []
     },
     "output_type": "execute_result"
    }
   ],
   "source": [
    "x_train.shape"
   ]
  },
  {
   "cell_type": "code",
   "execution_count": null,
   "metadata": {
    "colab": {
     "base_uri": "https://localhost:8080/",
     "height": 1000
    },
    "colab_type": "code",
    "id": "V01UtNEtfHL-",
    "outputId": "02910121-bb6b-461e-cffe-11df180600d6"
   },
   "outputs": [
    {
     "name": "stdout",
     "output_type": "stream",
     "text": [
      "Train on 22385 samples, validate on 5597 samples\n",
      "Epoch 1/50\n",
      "22385/22385 [==============================] - 76s 3ms/step - loss: 0.2775 - accuracy: 0.9167 - val_loss: 0.2667 - val_accuracy: 0.9167\n",
      "Epoch 2/50\n",
      "22385/22385 [==============================] - 75s 3ms/step - loss: 0.2640 - accuracy: 0.9168 - val_loss: 0.2504 - val_accuracy: 0.9175\n",
      "Epoch 3/50\n",
      "22385/22385 [==============================] - 76s 3ms/step - loss: 0.2548 - accuracy: 0.9174 - val_loss: 0.2364 - val_accuracy: 0.9190\n",
      "Epoch 4/50\n",
      "22385/22385 [==============================] - 77s 3ms/step - loss: 0.2464 - accuracy: 0.9185 - val_loss: 0.2262 - val_accuracy: 0.9207\n",
      "Epoch 5/50\n",
      "22385/22385 [==============================] - 77s 3ms/step - loss: 0.2394 - accuracy: 0.9199 - val_loss: 0.2166 - val_accuracy: 0.9220\n",
      "Epoch 6/50\n",
      "22385/22385 [==============================] - 76s 3ms/step - loss: 0.2327 - accuracy: 0.9208 - val_loss: 0.2097 - val_accuracy: 0.9233\n",
      "Epoch 7/50\n",
      "22385/22385 [==============================] - 76s 3ms/step - loss: 0.2283 - accuracy: 0.9221 - val_loss: 0.2024 - val_accuracy: 0.9252\n",
      "Epoch 8/50\n",
      "22385/22385 [==============================] - 75s 3ms/step - loss: 0.2232 - accuracy: 0.9232 - val_loss: 0.1968 - val_accuracy: 0.9264\n",
      "Epoch 9/50\n",
      "22385/22385 [==============================] - 78s 3ms/step - loss: 0.2200 - accuracy: 0.9242 - val_loss: 0.1904 - val_accuracy: 0.9296\n",
      "Epoch 10/50\n",
      "22385/22385 [==============================] - 76s 3ms/step - loss: 0.2164 - accuracy: 0.9256 - val_loss: 0.1868 - val_accuracy: 0.9308\n",
      "Epoch 11/50\n",
      "22385/22385 [==============================] - 75s 3ms/step - loss: 0.2146 - accuracy: 0.9262 - val_loss: 0.1882 - val_accuracy: 0.9298\n",
      "Epoch 12/50\n",
      "22385/22385 [==============================] - 76s 3ms/step - loss: 0.2107 - accuracy: 0.9274 - val_loss: 0.1812 - val_accuracy: 0.9321\n",
      "Epoch 13/50\n",
      "22385/22385 [==============================] - 75s 3ms/step - loss: 0.2080 - accuracy: 0.9283 - val_loss: 0.1773 - val_accuracy: 0.9338\n",
      "Epoch 14/50\n",
      "22385/22385 [==============================] - 74s 3ms/step - loss: 0.2074 - accuracy: 0.9284 - val_loss: 0.1748 - val_accuracy: 0.9344\n",
      "Epoch 15/50\n",
      "22385/22385 [==============================] - 72s 3ms/step - loss: 0.2054 - accuracy: 0.9293 - val_loss: 0.1750 - val_accuracy: 0.9350\n",
      "Epoch 16/50\n",
      "22385/22385 [==============================] - 72s 3ms/step - loss: 0.2032 - accuracy: 0.9301 - val_loss: 0.1717 - val_accuracy: 0.9355\n",
      "Epoch 17/50\n",
      "22385/22385 [==============================] - 71s 3ms/step - loss: 0.2007 - accuracy: 0.9306 - val_loss: 0.1693 - val_accuracy: 0.9369\n",
      "Epoch 18/50\n",
      "22385/22385 [==============================] - 72s 3ms/step - loss: 0.1992 - accuracy: 0.9314 - val_loss: 0.1680 - val_accuracy: 0.9370\n",
      "Epoch 19/50\n",
      "22385/22385 [==============================] - 71s 3ms/step - loss: 0.1983 - accuracy: 0.9312 - val_loss: 0.1674 - val_accuracy: 0.9372\n",
      "Epoch 20/50\n",
      "22385/22385 [==============================] - 71s 3ms/step - loss: 0.1970 - accuracy: 0.9320 - val_loss: 0.1644 - val_accuracy: 0.9381\n",
      "Epoch 21/50\n",
      "22385/22385 [==============================] - 71s 3ms/step - loss: 0.1968 - accuracy: 0.9322 - val_loss: 0.1623 - val_accuracy: 0.9392\n",
      "Epoch 22/50\n",
      "22385/22385 [==============================] - 72s 3ms/step - loss: 0.1940 - accuracy: 0.9327 - val_loss: 0.1628 - val_accuracy: 0.9387\n",
      "Epoch 23/50\n",
      "22385/22385 [==============================] - 72s 3ms/step - loss: 0.1935 - accuracy: 0.9331 - val_loss: 0.1616 - val_accuracy: 0.9396\n",
      "Epoch 24/50\n",
      "22385/22385 [==============================] - 71s 3ms/step - loss: 0.1925 - accuracy: 0.9337 - val_loss: 0.1673 - val_accuracy: 0.9385\n",
      "Epoch 25/50\n",
      "22385/22385 [==============================] - 72s 3ms/step - loss: 0.1921 - accuracy: 0.9339 - val_loss: 0.1600 - val_accuracy: 0.9399\n",
      "Epoch 26/50\n",
      "22385/22385 [==============================] - 72s 3ms/step - loss: 0.1910 - accuracy: 0.9341 - val_loss: 0.1581 - val_accuracy: 0.9405\n",
      "Epoch 27/50\n",
      "22385/22385 [==============================] - 72s 3ms/step - loss: 0.1901 - accuracy: 0.9341 - val_loss: 0.1591 - val_accuracy: 0.9408\n",
      "Epoch 28/50\n",
      "22385/22385 [==============================] - 72s 3ms/step - loss: 0.1892 - accuracy: 0.9345 - val_loss: 0.1550 - val_accuracy: 0.9416\n",
      "Epoch 29/50\n",
      "22385/22385 [==============================] - 72s 3ms/step - loss: 0.1885 - accuracy: 0.9348 - val_loss: 0.1563 - val_accuracy: 0.9416\n",
      "Epoch 30/50\n",
      "22385/22385 [==============================] - 71s 3ms/step - loss: 0.1886 - accuracy: 0.9349 - val_loss: 0.1556 - val_accuracy: 0.9416\n",
      "Epoch 31/50\n",
      "22385/22385 [==============================] - 72s 3ms/step - loss: 0.1862 - accuracy: 0.9362 - val_loss: 0.1532 - val_accuracy: 0.9425\n",
      "Epoch 32/50\n",
      "22385/22385 [==============================] - 72s 3ms/step - loss: 0.1860 - accuracy: 0.9354 - val_loss: 0.1555 - val_accuracy: 0.9415\n",
      "Epoch 33/50\n",
      "22385/22385 [==============================] - 71s 3ms/step - loss: 0.1849 - accuracy: 0.9363 - val_loss: 0.1525 - val_accuracy: 0.9424\n",
      "Epoch 34/50\n",
      "22385/22385 [==============================] - 71s 3ms/step - loss: 0.1855 - accuracy: 0.9362 - val_loss: 0.1521 - val_accuracy: 0.9432\n",
      "Epoch 35/50\n",
      "22385/22385 [==============================] - 72s 3ms/step - loss: 0.1845 - accuracy: 0.9364 - val_loss: 0.1533 - val_accuracy: 0.9429\n",
      "Epoch 36/50\n",
      "22385/22385 [==============================] - 72s 3ms/step - loss: 0.1845 - accuracy: 0.9363 - val_loss: 0.1526 - val_accuracy: 0.9434\n",
      "Epoch 37/50\n",
      "22385/22385 [==============================] - 71s 3ms/step - loss: 0.1835 - accuracy: 0.9366 - val_loss: 0.1509 - val_accuracy: 0.9439\n",
      "Epoch 38/50\n",
      "22385/22385 [==============================] - 72s 3ms/step - loss: 0.1823 - accuracy: 0.9370 - val_loss: 0.1484 - val_accuracy: 0.9444\n",
      "Epoch 39/50\n",
      "22385/22385 [==============================] - 74s 3ms/step - loss: 0.1819 - accuracy: 0.9370 - val_loss: 0.1483 - val_accuracy: 0.9450\n",
      "Epoch 40/50\n",
      "22385/22385 [==============================] - 75s 3ms/step - loss: 0.1814 - accuracy: 0.9371 - val_loss: 0.1477 - val_accuracy: 0.9450\n",
      "Epoch 41/50\n",
      "22385/22385 [==============================] - 75s 3ms/step - loss: 0.1817 - accuracy: 0.9371 - val_loss: 0.1467 - val_accuracy: 0.9454\n",
      "Epoch 42/50\n",
      "22385/22385 [==============================] - 74s 3ms/step - loss: 0.1801 - accuracy: 0.9376 - val_loss: 0.1478 - val_accuracy: 0.9445\n",
      "Epoch 43/50\n",
      "22385/22385 [==============================] - 74s 3ms/step - loss: 0.1793 - accuracy: 0.9379 - val_loss: 0.1460 - val_accuracy: 0.9461\n",
      "Epoch 44/50\n",
      "22385/22385 [==============================] - 74s 3ms/step - loss: 0.1781 - accuracy: 0.9389 - val_loss: 0.1476 - val_accuracy: 0.9450\n",
      "Epoch 45/50\n",
      "22385/22385 [==============================] - 74s 3ms/step - loss: 0.1787 - accuracy: 0.9384 - val_loss: 0.1467 - val_accuracy: 0.9453\n",
      "Epoch 46/50\n",
      "22385/22385 [==============================] - 74s 3ms/step - loss: 0.1785 - accuracy: 0.9383 - val_loss: 0.1480 - val_accuracy: 0.9447\n",
      "Epoch 47/50\n",
      "22385/22385 [==============================] - 75s 3ms/step - loss: 0.1785 - accuracy: 0.9384 - val_loss: 0.1453 - val_accuracy: 0.9458\n",
      "Epoch 48/50\n",
      "22385/22385 [==============================] - 75s 3ms/step - loss: 0.1773 - accuracy: 0.9388 - val_loss: 0.1447 - val_accuracy: 0.9454\n",
      "Epoch 49/50\n",
      "22385/22385 [==============================] - 75s 3ms/step - loss: 0.1781 - accuracy: 0.9388 - val_loss: 0.1456 - val_accuracy: 0.9461\n",
      "Epoch 50/50\n",
      "22385/22385 [==============================] - 74s 3ms/step - loss: 0.1758 - accuracy: 0.9392 - val_loss: 0.1434 - val_accuracy: 0.9461\n"
     ]
    }
   ],
   "source": [
    "x_train = x_train.reshape((x_train.shape[0], x_train.shape[1],1))\n",
    "x_test = x_test.reshape((x_test.shape[0], x_test.shape[1],1))\n",
    "H = model_lstm.fit(x_train, y_train, validation_data= (x_test,y_test),epochs=50, verbose=1, batch_size=512)"
   ]
  },
  {
   "cell_type": "code",
   "execution_count": null,
   "metadata": {
    "colab": {
     "base_uri": "https://localhost:8080/",
     "height": 312
    },
    "colab_type": "code",
    "id": "HyEGicDwfHQs",
    "outputId": "00d4712d-79b1-43e7-864b-9c1e2eac4163"
   },
   "outputs": [
    {
     "data": {
      "image/png": "[encoded data removed]",
      "text/plain": [
       "<Figure size 432x288 with 1 Axes>"
      ]
     },
     "metadata": {
      "needs_background": "light",
      "tags": []
     },
     "output_type": "display_data"
    },
    {
     "data": {
      "text/plain": [
       "<Figure size 432x288 with 0 Axes>"
      ]
     },
     "metadata": {
      "tags": []
     },
     "output_type": "display_data"
    }
   ],
   "source": [
    "import matplotlib.pyplot as plt\n",
    "# plt.plot(hist.history[\"acc\"])\n",
    "# plt.plot(hist.history['val_acc'])\n",
    "plt.figure()\n",
    "plt.plot(H.history['loss'])\n",
    "plt.plot(H.history['val_loss'])\n",
    "plt.title(\"model loss\")\n",
    "plt.ylabel(\"Loss\")\n",
    "plt.xlabel(\"Epoch\")\n",
    "plt.legend([\"Loss\",\"Validation Loss\"])\n",
    "plt.show()\n",
    "plt.savefig('chart loss.png')"
   ]
  },
  {
   "cell_type": "code",
   "execution_count": null,
   "metadata": {
    "colab": {
     "base_uri": "https://localhost:8080/",
     "height": 34
    },
    "colab_type": "code",
    "id": "9I8H9vl_fHOs",
    "outputId": "ca470fe7-eea6-4555-e537-2d238a2c6138"
   },
   "outputs": [
    {
     "name": "stdout",
     "output_type": "stream",
     "text": [
      "Test Accuracy: 94.611710\n"
     ]
    }
   ],
   "source": [
    "# evaluate \n",
    "loss, acc = model_lstm.evaluate(x_test, y_test, verbose=0)\n",
    "print('Test Accuracy: %f' % (acc*100)) "
   ]
  },
  {
   "cell_type": "code",
   "execution_count": null,
   "metadata": {
    "colab": {},
    "colab_type": "code",
    "id": "4fa-a0IfaN1Q"
   },
   "outputs": [],
   "source": [
    "LABEL_ENCODE_PATH=\"/content/drive/My Drive/NLP/WordSmi/ModelClassify/ELMO/lb_elmo_lstm.pkl\"\n",
    "ESTIMATE_PATH=\"/content/drive/My Drive/NLP/WordSmi/ModelClassify/ELMO/estimator_elmo_lstm.h5\"\n",
    "FileStore(file_path=LABEL_ENCODE_PATH).save_pickle(obj=mlb)\n",
    "FileStore(file_path=ESTIMATE_PATH).save_pickle(obj=model_lstm)\n",
    "\n",
    "from keras.models import save_model, load_model\n",
    "\n",
    "# Creates a HDF5 file 'ESTIMATE_PATH.h5' \n",
    "save_model(model_lstm, ESTIMATE_PATH) "
   ]
  },
  {
   "cell_type": "markdown",
   "metadata": {
    "colab_type": "text",
    "id": "tU0bsxl3aVXa"
   },
   "source": [
    "CNN_LSTM_Model\n"
   ]
  },
  {
   "cell_type": "code",
   "execution_count": null,
   "metadata": {
    "colab": {
     "base_uri": "https://localhost:8080/",
     "height": 323
    },
    "colab_type": "code",
    "id": "J_AJawO8aOBX",
    "outputId": "d29898b3-6ff2-45d1-f00e-fc35b5c7a441"
   },
   "outputs": [
    {
     "name": "stdout",
     "output_type": "stream",
     "text": [
      "Model: \"sequential_20\"\n",
      "_________________________________________________________________\n",
      "Layer (type)                 Output Shape              Param #   \n",
      "=================================================================\n",
      "conv1d_16 (Conv1D)           (None, 1024, 32)          128       \n",
      "_________________________________________________________________\n",
      "max_pooling1d_15 (MaxPooling (None, 512, 32)           0         \n",
      "_________________________________________________________________\n",
      "lstm_25 (LSTM)               (None, 400)               692800    \n",
      "_________________________________________________________________\n",
      "dense_43 (Dense)             (None, 200)               80200     \n",
      "_________________________________________________________________\n",
      "dense_44 (Dense)             (None, 12)                2412      \n",
      "=================================================================\n",
      "Total params: 775,540\n",
      "Trainable params: 775,540\n",
      "Non-trainable params: 0\n",
      "_________________________________________________________________\n"
     ]
    }
   ],
   "source": [
    "from keras.models import Sequential\n",
    "from keras.layers.normalization import BatchNormalization\n",
    "from keras.layers.convolutional import Conv2D\n",
    "from keras.layers.convolutional import MaxPooling2D\n",
    "from keras.layers.core import Activation, Dense, Flatten, Dropout\n",
    "from keras.layers import LSTM\n",
    "from keras import backend as K\n",
    "from keras.optimizers import Adam, SGD \n",
    "from keras.layers import LeakyReLU,Conv1D,MaxPooling1D\n",
    "from sklearn.metrics import classification_report\n",
    "class CNN_LSTM_Model(object): \n",
    "  @staticmethod\n",
    "  def build(SIZE_TRAIN,num_classes, final_activation):    \n",
    "    # define model\n",
    "    model = Sequential()\n",
    "    model.add(Conv1D(filters=32,input_shape=(SIZE_TRAIN,1), kernel_size=3, padding='same', activation='relu'))\n",
    "    model.add(MaxPooling1D(pool_size=2))\n",
    "    model.add(LSTM(400,recurrent_dropout=0.2))\n",
    "    model.add(Dense(200))  \n",
    "    model.add(Dense(num_classes, activation=final_activation)) \n",
    "    return model \n",
    "\n",
    "    \n",
    "# khởi tạo model\n",
    "EPOCHS = 20\n",
    "INIT_LR = 1e-3\n",
    "BS = 32 \n",
    "n_features = 1\n",
    "\n",
    "model_cnnlstm = CNN_LSTM_Model.build(SIZE_TRAIN=SIZE_TRAIN,num_classes=len(mlb.classes_),final_activation='softmax')\n",
    "opt = Adam(lr=INIT_LR, decay=INIT_LR / EPOCHS)\n",
    "sgd = SGD(lr=0.001); \n",
    "model_cnnlstm.compile(loss='binary_crossentropy', optimizer=opt, metrics=['accuracy'])\n",
    "model_cnnlstm.summary() \n",
    "  "
   ]
  },
  {
   "cell_type": "code",
   "execution_count": null,
   "metadata": {
    "colab": {
     "base_uri": "https://localhost:8080/",
     "height": 1000
    },
    "colab_type": "code",
    "id": "V6_Xy-yKaOGP",
    "outputId": "39054bcb-4742-4192-bfe7-f9557b94bfa1"
   },
   "outputs": [
    {
     "name": "stdout",
     "output_type": "stream",
     "text": [
      "Train on 22385 samples, validate on 5597 samples\n",
      "Epoch 1/30\n",
      "22385/22385 [==============================] - 98s 4ms/step - loss: 0.2433 - accuracy: 0.9190 - val_loss: 0.2013 - val_accuracy: 0.9258\n",
      "Epoch 2/30\n",
      "22385/22385 [==============================] - 97s 4ms/step - loss: 0.1886 - accuracy: 0.9309 - val_loss: 0.1679 - val_accuracy: 0.9375\n",
      "Epoch 3/30\n",
      "22385/22385 [==============================] - 97s 4ms/step - loss: 0.1660 - accuracy: 0.9384 - val_loss: 0.1556 - val_accuracy: 0.9420\n",
      "Epoch 4/30\n",
      "22385/22385 [==============================] - 96s 4ms/step - loss: 0.1503 - accuracy: 0.9444 - val_loss: 0.1435 - val_accuracy: 0.9461\n",
      "Epoch 5/30\n",
      "22385/22385 [==============================] - 96s 4ms/step - loss: 0.1445 - accuracy: 0.9460 - val_loss: 0.1369 - val_accuracy: 0.9493\n",
      "Epoch 6/30\n",
      "22385/22385 [==============================] - 96s 4ms/step - loss: 0.1377 - accuracy: 0.9484 - val_loss: 0.1326 - val_accuracy: 0.9511\n",
      "Epoch 7/30\n",
      "22385/22385 [==============================] - 96s 4ms/step - loss: 0.1335 - accuracy: 0.9503 - val_loss: 0.1360 - val_accuracy: 0.9486\n",
      "Epoch 8/30\n",
      "22385/22385 [==============================] - 96s 4ms/step - loss: 0.1285 - accuracy: 0.9522 - val_loss: 0.1310 - val_accuracy: 0.9514\n",
      "Epoch 9/30\n",
      "22385/22385 [==============================] - 96s 4ms/step - loss: 0.1240 - accuracy: 0.9538 - val_loss: 0.1267 - val_accuracy: 0.9525\n",
      "Epoch 10/30\n",
      "22385/22385 [==============================] - 97s 4ms/step - loss: 0.1206 - accuracy: 0.9549 - val_loss: 0.1225 - val_accuracy: 0.9543\n",
      "Epoch 11/30\n",
      "22385/22385 [==============================] - 96s 4ms/step - loss: 0.1176 - accuracy: 0.9559 - val_loss: 0.1195 - val_accuracy: 0.9559\n",
      "Epoch 12/30\n",
      "22385/22385 [==============================] - 96s 4ms/step - loss: 0.1141 - accuracy: 0.9576 - val_loss: 0.1199 - val_accuracy: 0.9554\n",
      "Epoch 13/30\n",
      "22385/22385 [==============================] - 97s 4ms/step - loss: 0.1111 - accuracy: 0.9582 - val_loss: 0.1209 - val_accuracy: 0.9548\n",
      "Epoch 14/30\n",
      "22385/22385 [==============================] - 96s 4ms/step - loss: 0.1087 - accuracy: 0.9595 - val_loss: 0.1189 - val_accuracy: 0.9558\n",
      "Epoch 15/30\n",
      "22385/22385 [==============================] - 97s 4ms/step - loss: 0.1075 - accuracy: 0.9598 - val_loss: 0.1184 - val_accuracy: 0.9557\n",
      "Epoch 16/30\n",
      "22385/22385 [==============================] - 96s 4ms/step - loss: 0.1037 - accuracy: 0.9614 - val_loss: 0.1155 - val_accuracy: 0.9579\n",
      "Epoch 17/30\n",
      "22385/22385 [==============================] - 97s 4ms/step - loss: 0.1012 - accuracy: 0.9623 - val_loss: 0.1189 - val_accuracy: 0.9556\n",
      "Epoch 18/30\n",
      "22385/22385 [==============================] - 96s 4ms/step - loss: 0.1006 - accuracy: 0.9623 - val_loss: 0.1172 - val_accuracy: 0.9569\n",
      "Epoch 19/30\n",
      "22385/22385 [==============================] - 97s 4ms/step - loss: 0.0969 - accuracy: 0.9637 - val_loss: 0.1133 - val_accuracy: 0.9584\n",
      "Epoch 20/30\n",
      "22385/22385 [==============================] - 97s 4ms/step - loss: 0.0938 - accuracy: 0.9650 - val_loss: 0.1170 - val_accuracy: 0.9563\n",
      "Epoch 21/30\n",
      "22385/22385 [==============================] - 96s 4ms/step - loss: 0.0931 - accuracy: 0.9652 - val_loss: 0.1141 - val_accuracy: 0.9582\n",
      "Epoch 22/30\n",
      "22385/22385 [==============================] - 96s 4ms/step - loss: 0.0911 - accuracy: 0.9656 - val_loss: 0.1134 - val_accuracy: 0.9586\n",
      "Epoch 23/30\n",
      "22385/22385 [==============================] - 97s 4ms/step - loss: 0.0882 - accuracy: 0.9666 - val_loss: 0.1122 - val_accuracy: 0.9594\n",
      "Epoch 24/30\n",
      "22385/22385 [==============================] - 96s 4ms/step - loss: 0.0865 - accuracy: 0.9675 - val_loss: 0.1182 - val_accuracy: 0.9575\n",
      "Epoch 25/30\n",
      "22385/22385 [==============================] - 96s 4ms/step - loss: 0.0855 - accuracy: 0.9684 - val_loss: 0.1180 - val_accuracy: 0.9570\n",
      "Epoch 26/30\n",
      "22385/22385 [==============================] - 97s 4ms/step - loss: 0.0838 - accuracy: 0.9685 - val_loss: 0.1128 - val_accuracy: 0.9590\n",
      "Epoch 27/30\n",
      "22385/22385 [==============================] - 96s 4ms/step - loss: 0.0812 - accuracy: 0.9700 - val_loss: 0.1130 - val_accuracy: 0.9587\n",
      "Epoch 28/30\n",
      "22385/22385 [==============================] - 97s 4ms/step - loss: 0.0777 - accuracy: 0.9712 - val_loss: 0.1170 - val_accuracy: 0.9588\n",
      "Epoch 29/30\n",
      "22385/22385 [==============================] - 97s 4ms/step - loss: 0.0769 - accuracy: 0.9715 - val_loss: 0.1142 - val_accuracy: 0.9587\n",
      "Epoch 30/30\n",
      "22385/22385 [==============================] - 97s 4ms/step - loss: 0.0739 - accuracy: 0.9725 - val_loss: 0.1142 - val_accuracy: 0.9588\n"
     ]
    }
   ],
   "source": [
    "x_train = x_train.reshape((x_train.shape[0], x_train.shape[1],n_features))\n",
    "x_test = x_test.reshape((x_test.shape[0], x_test.shape[1],n_features))\n",
    "H = model_cnnlstm.fit(x_train, y_train, validation_data= (x_test,y_test),epochs=30, verbose=1, batch_size=512)"
   ]
  },
  {
   "cell_type": "code",
   "execution_count": null,
   "metadata": {
    "colab": {
     "base_uri": "https://localhost:8080/",
     "height": 312
    },
    "colab_type": "code",
    "id": "U1t8hYcjaOLE",
    "outputId": "8ece9d98-e4bb-42c7-f3de-c7525449f408"
   },
   "outputs": [
    {
     "data": {
      "image/png": "[encoded data removed]",
      "text/plain": [
       "<Figure size 432x288 with 1 Axes>"
      ]
     },
     "metadata": {
      "needs_background": "light",
      "tags": []
     },
     "output_type": "display_data"
    },
    {
     "data": {
      "text/plain": [
       "<Figure size 432x288 with 0 Axes>"
      ]
     },
     "metadata": {
      "tags": []
     },
     "output_type": "display_data"
    }
   ],
   "source": [
    "import matplotlib.pyplot as plt \n",
    "plt.figure()\n",
    "plt.plot(H.history['loss'])\n",
    "plt.plot(H.history['val_loss'])\n",
    "plt.title(\"model loss\")\n",
    "plt.ylabel(\"Loss\")\n",
    "plt.xlabel(\"Epoch\")\n",
    "plt.legend([\"Loss\",\"Validation Loss\"])\n",
    "plt.show()\n",
    "plt.savefig('chart loss.png')"
   ]
  },
  {
   "cell_type": "code",
   "execution_count": null,
   "metadata": {
    "colab": {
     "base_uri": "https://localhost:8080/",
     "height": 34
    },
    "colab_type": "code",
    "id": "UHC6Mpt2aOOO",
    "outputId": "55d7451b-4843-4cd2-d514-158396c67b0b"
   },
   "outputs": [
    {
     "name": "stdout",
     "output_type": "stream",
     "text": [
      "Test Accuracy: 95.883197\n"
     ]
    }
   ],
   "source": [
    "# evaluate \n",
    "loss, acc = model_cnnlstm.evaluate(x_test, y_test, verbose=0)\n",
    "print('Test Accuracy: %f' % (acc*100)) \n",
    "\n",
    "# lb: label encodem \n",
    "# ft: fast text \n",
    "# sg: skip gram \n",
    "# cnn: convolution neural network \n",
    "# lstm: long short term memory \n",
    "# nn: neural network"
   ]
  },
  {
   "cell_type": "code",
   "execution_count": null,
   "metadata": {
    "colab": {},
    "colab_type": "code",
    "id": "ASIfwljaaOJL"
   },
   "outputs": [],
   "source": [
    "LABEL_ENCODE_PATH=\"/content/drive/My Drive/NLP/WordSmi/ModelClassify/ELMO/lb_elmo_cnn_lstm.pkl\" \n",
    "ESTIMATE_PATH=\"/content/drive/My Drive/NLP/WordSmi/ModelClassify/ELMO/estimator_elmo_cnn_lstm.h5\"\n",
    "FileStore(file_path=LABEL_ENCODE_PATH).save_pickle(obj=mlb)\n",
    "FileStore(file_path=ESTIMATE_PATH).save_pickle(obj=model_cnnlstm)\n",
    "\n",
    "from keras.models import save_model, load_model\n",
    "\n",
    "# Creates a HDF5 file 'ESTIMATE_PATH.h5' \n",
    "save_model(model_cnnlstm, ESTIMATE_PATH) "
   ]
  },
  {
   "cell_type": "code",
   "execution_count": null,
   "metadata": {
    "colab": {},
    "colab_type": "code",
    "id": "IPfgHDaraOEe"
   },
   "outputs": [],
   "source": []
  },
  {
   "cell_type": "markdown",
   "metadata": {
    "colab_type": "text",
    "id": "IOzWhK2jdqlX"
   },
   "source": [
    "RNN_Model\n"
   ]
  },
  {
   "cell_type": "code",
   "execution_count": 21,
   "metadata": {
    "colab": {
     "base_uri": "https://localhost:8080/",
     "height": 265
    },
    "colab_type": "code",
    "id": "nHkvvBdNaN_M",
    "outputId": "55dfa30f-85b8-42a9-b2c1-1ec2de7b0fa9"
   },
   "outputs": [
    {
     "name": "stdout",
     "output_type": "stream",
     "text": [
      "Model: \"sequential_2\"\n",
      "_________________________________________________________________\n",
      "Layer (type)                 Output Shape              Param #   \n",
      "=================================================================\n",
      "bidirectional_2 (Bidirection (None, 400)               323200    \n",
      "_________________________________________________________________\n",
      "dense_3 (Dense)              (None, 100)               40100     \n",
      "_________________________________________________________________\n",
      "dense_4 (Dense)              (None, 12)                1212      \n",
      "=================================================================\n",
      "Total params: 364,512\n",
      "Trainable params: 364,512\n",
      "Non-trainable params: 0\n",
      "_________________________________________________________________\n"
     ]
    }
   ],
   "source": [
    "from keras.models import Sequential\n",
    "from keras.layers.normalization import BatchNormalization\n",
    "from keras.layers.convolutional import Conv2D\n",
    "from keras.layers.convolutional import MaxPooling2D\n",
    "from keras.layers.core import Activation, Dense, Flatten, Dropout\n",
    "from keras.layers import LSTM\n",
    "from keras import backend as K\n",
    "from keras.optimizers import Adam, SGD \n",
    "from keras.layers import LeakyReLU,Conv1D,MaxPooling1D,Bidirectional\n",
    "from sklearn.metrics import classification_report\n",
    "class RNN_Model(object): \n",
    "  @staticmethod\n",
    "  def build(SIZE_TRAIN,num_classes, final_activation):    \n",
    "    # define model\n",
    "    model = Sequential()\n",
    "    model.add(Bidirectional(LSTM(200, activation='tanh', dropout=0.2, recurrent_dropout=0.2),input_shape=(SIZE_TRAIN,1))) \n",
    "    model.add(Dense(100))\n",
    "    model.add(Dense(num_classes, activation=final_activation)) \n",
    "    return model \n",
    "\n",
    "    \n",
    "# khởi tạo model\n",
    "EPOCHS = 20\n",
    "INIT_LR = 1e-3\n",
    "BS = 32 \n",
    "n_features = 1\n",
    "\n",
    "model_rnn = RNN_Model.build(SIZE_TRAIN=SIZE_TRAIN,num_classes=len(mlb.classes_),final_activation='softmax')\n",
    "opt = Adam(lr=INIT_LR, decay=INIT_LR / EPOCHS)\n",
    "sgd = SGD(lr=0.001); \n",
    "model_rnn.compile(loss='binary_crossentropy', optimizer=opt, metrics=['accuracy'])\n",
    "model_rnn.summary() \n",
    "  "
   ]
  },
  {
   "cell_type": "code",
   "execution_count": 22,
   "metadata": {
    "colab": {},
    "colab_type": "code",
    "id": "GIX2Dt78iLUn"
   },
   "outputs": [],
   "source": [
    "# from sklearn import preprocessing\n",
    "# x_t = preprocessing.scale(x_train.reshape((x_train.shape[0], x_train.shape[1])))"
   ]
  },
  {
   "cell_type": "code",
   "execution_count": 23,
   "metadata": {
    "colab": {
     "base_uri": "https://localhost:8080/",
     "height": 745
    },
    "colab_type": "code",
    "id": "cd4xz88vaN9a",
    "outputId": "d9765ea2-edb6-4897-dfc8-274cbb95a955"
   },
   "outputs": [
    {
     "name": "stdout",
     "output_type": "stream",
     "text": [
      "Train on 22385 samples, validate on 5597 samples\n",
      "Epoch 1/20\n",
      "22385/22385 [==============================] - 247s 11ms/step - loss: 0.2503 - accuracy: 0.9185 - val_loss: 0.2193 - val_accuracy: 0.9240\n",
      "Epoch 2/20\n",
      "22385/22385 [==============================] - 245s 11ms/step - loss: 0.2209 - accuracy: 0.9228 - val_loss: 0.1924 - val_accuracy: 0.9293\n",
      "Epoch 3/20\n",
      "22385/22385 [==============================] - 242s 11ms/step - loss: 0.2046 - accuracy: 0.9270 - val_loss: 0.1789 - val_accuracy: 0.9332\n",
      "Epoch 4/20\n",
      "22385/22385 [==============================] - 242s 11ms/step - loss: 0.1957 - accuracy: 0.9295 - val_loss: 0.1668 - val_accuracy: 0.9383\n",
      "Epoch 5/20\n",
      "22385/22385 [==============================] - 243s 11ms/step - loss: 0.1879 - accuracy: 0.9319 - val_loss: 0.1640 - val_accuracy: 0.9391\n",
      "Epoch 6/20\n",
      "22385/22385 [==============================] - 241s 11ms/step - loss: 0.1842 - accuracy: 0.9332 - val_loss: 0.1573 - val_accuracy: 0.9406\n",
      "Epoch 7/20\n",
      "22385/22385 [==============================] - 239s 11ms/step - loss: 0.1815 - accuracy: 0.9340 - val_loss: 0.1560 - val_accuracy: 0.9419\n",
      "Epoch 8/20\n",
      "22385/22385 [==============================] - 238s 11ms/step - loss: 0.1783 - accuracy: 0.9352 - val_loss: 0.1531 - val_accuracy: 0.9422\n",
      "Epoch 9/20\n",
      "22385/22385 [==============================] - 241s 11ms/step - loss: 0.1740 - accuracy: 0.9366 - val_loss: 0.1480 - val_accuracy: 0.9451\n",
      "Epoch 10/20\n",
      "22385/22385 [==============================] - 239s 11ms/step - loss: 0.1703 - accuracy: 0.9377 - val_loss: 0.1473 - val_accuracy: 0.9450\n",
      "Epoch 11/20\n",
      "22385/22385 [==============================] - 237s 11ms/step - loss: 0.1662 - accuracy: 0.9392 - val_loss: 0.1422 - val_accuracy: 0.9464\n",
      "Epoch 12/20\n",
      "22385/22385 [==============================] - 236s 11ms/step - loss: 0.1674 - accuracy: 0.9388 - val_loss: 0.1429 - val_accuracy: 0.9465\n",
      "Epoch 13/20\n",
      "22385/22385 [==============================] - 247s 11ms/step - loss: 0.1651 - accuracy: 0.9398 - val_loss: 0.1419 - val_accuracy: 0.9469\n",
      "Epoch 14/20\n",
      "22385/22385 [==============================] - 239s 11ms/step - loss: 0.1649 - accuracy: 0.9401 - val_loss: 0.1446 - val_accuracy: 0.9457\n",
      "Epoch 15/20\n",
      "22385/22385 [==============================] - 241s 11ms/step - loss: 0.1625 - accuracy: 0.9409 - val_loss: 0.1398 - val_accuracy: 0.9474\n",
      "Epoch 16/20\n",
      "22385/22385 [==============================] - 240s 11ms/step - loss: 0.1641 - accuracy: 0.9404 - val_loss: 0.1395 - val_accuracy: 0.9482\n",
      "Epoch 17/20\n",
      "22385/22385 [==============================] - 236s 11ms/step - loss: 0.1602 - accuracy: 0.9411 - val_loss: 0.1388 - val_accuracy: 0.9484\n",
      "Epoch 18/20\n",
      "22385/22385 [==============================] - 239s 11ms/step - loss: 0.1579 - accuracy: 0.9419 - val_loss: 0.1397 - val_accuracy: 0.9490\n",
      "Epoch 19/20\n",
      "22385/22385 [==============================] - 245s 11ms/step - loss: 0.1569 - accuracy: 0.9425 - val_loss: 0.1381 - val_accuracy: 0.9485\n",
      "Epoch 20/20\n",
      "22385/22385 [==============================] - 250s 11ms/step - loss: 0.1553 - accuracy: 0.9432 - val_loss: 0.1334 - val_accuracy: 0.9510\n"
     ]
    }
   ],
   "source": [
    "x_train = x_train.reshape((x_train.shape[0], x_train.shape[1],n_features))\n",
    "x_test = x_test.reshape((x_test.shape[0], x_test.shape[1],n_features))\n",
    "H = model_rnn.fit(x_train, y_train, validation_data= (x_test,y_test),epochs=20, verbose=1, batch_size=512)"
   ]
  },
  {
   "cell_type": "code",
   "execution_count": 24,
   "metadata": {
    "colab": {
     "base_uri": "https://localhost:8080/",
     "height": 312
    },
    "colab_type": "code",
    "id": "-d2VLLrVdst5",
    "outputId": "f83c5391-4be9-4a3b-a284-f2190bfdb85a"
   },
   "outputs": [
    {
     "data": {
      "image/png": "[encoded data removed]",
      "text/plain": [
       "<Figure size 432x288 with 1 Axes>"
      ]
     },
     "metadata": {
      "needs_background": "light",
      "tags": []
     },
     "output_type": "display_data"
    },
    {
     "data": {
      "text/plain": [
       "<Figure size 432x288 with 0 Axes>"
      ]
     },
     "metadata": {
      "tags": []
     },
     "output_type": "display_data"
    }
   ],
   "source": [
    "import matplotlib.pyplot as plt\n",
    "# plt.plot(hist.history[\"acc\"])\n",
    "# plt.plot(hist.history['val_acc'])\n",
    "plt.figure()\n",
    "plt.plot(H.history['loss'])\n",
    "plt.plot(H.history['val_loss'])\n",
    "plt.title(\"model loss\")\n",
    "plt.ylabel(\"Loss\")\n",
    "plt.xlabel(\"Epoch\")\n",
    "plt.legend([\"Loss\",\"Validation Loss\"])\n",
    "plt.show()\n",
    "plt.savefig('chart loss.png')"
   ]
  },
  {
   "cell_type": "code",
   "execution_count": 25,
   "metadata": {
    "colab": {
     "base_uri": "https://localhost:8080/",
     "height": 34
    },
    "colab_type": "code",
    "id": "MKNU2gjfdswl",
    "outputId": "01e64a95-06f3-4d56-b699-35948ec1cc0c"
   },
   "outputs": [
    {
     "name": "stdout",
     "output_type": "stream",
     "text": [
      "Test Accuracy: 95.095605\n"
     ]
    }
   ],
   "source": [
    "# evaluate \n",
    "loss, acc = model_rnn.evaluate(x_test, y_test, verbose=0)\n",
    "print('Test Accuracy: %f' % (acc*100)) \n",
    "\n",
    "# lb: label encodem \n",
    "# ft: fast text \n",
    "# sg: skip gram \n",
    "# cnn: convolution neural network \n",
    "# lstm: long short term memory \n",
    "# nn: neural network"
   ]
  },
  {
   "cell_type": "code",
   "execution_count": 26,
   "metadata": {
    "colab": {},
    "colab_type": "code",
    "id": "zn8bzlKRds1g"
   },
   "outputs": [],
   "source": [
    "LABEL_ENCODE_PATH=\"/content/drive/My Drive/NLP/WordSmi/ModelClassify/ELMO/lb_elmo_rnn.pkl\" \n",
    "ESTIMATE_PATH=\"/content/drive/My Drive/NLP/WordSmi/ModelClassify/ELMO/estimator_elmo_rnn.h5\"\n",
    "FileStore(file_path=LABEL_ENCODE_PATH).save_pickle(obj=mlb)\n",
    "FileStore(file_path=ESTIMATE_PATH).save_pickle(obj=model_rnn)\n",
    "\n",
    "from keras.models import save_model, load_model\n",
    "\n",
    "# Creates a HDF5 file 'ESTIMATE_PATH.h5' \n",
    "save_model(model_rnn, ESTIMATE_PATH) "
   ]
  }
 ],
 "metadata": {
  "accelerator": "GPU",
  "colab": {
   "collapsed_sections": [],
   "name": "elmo.ipynb",
   "provenance": []
  },
  "kernelspec": {
   "display_name": "Python 3 (ipykernel)",
   "language": "python",
   "name": "python3"
  },
  "language_info": {
   "codemirror_mode": {
    "name": "ipython",
    "version": 3
   },
   "file_extension": ".py",
   "mimetype": "text/x-python",
   "name": "python",
   "nbconvert_exporter": "python",
   "pygments_lexer": "ipython3",
   "version": "3.7.11"
  }
 },
 "nbformat": 4,
 "nbformat_minor": 1
}
